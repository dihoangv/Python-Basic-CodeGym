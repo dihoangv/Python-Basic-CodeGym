{
 "cells": [
  {
   "cell_type": "code",
   "execution_count": null,
   "id": "b45bcc99",
   "metadata": {},
   "outputs": [],
   "source": [
    "fruits = [\"Cherry\", \"Lemon\", \"Mango\", \"Apple\"]\n",
    "print(fruits)\n",
    "print(type(fruits))"
   ]
  },
  {
   "cell_type": "code",
   "execution_count": null,
   "id": "4e01ad37",
   "metadata": {},
   "outputs": [],
   "source": [
    "names = list([\"John\", \"Susan\", \"Mike\"])\n",
    "print(names)\n",
    "print(type(names))"
   ]
  },
  {
   "cell_type": "code",
   "execution_count": null,
   "id": "40eb15c1",
   "metadata": {},
   "outputs": [],
   "source": [
    "print(fruits[-1])"
   ]
  },
  {
   "cell_type": "code",
   "execution_count": null,
   "id": "3b9b13ce",
   "metadata": {},
   "outputs": [],
   "source": [
    "for i in fruits:\n",
    "    print(i)"
   ]
  },
  {
   "cell_type": "code",
   "execution_count": null,
   "id": "7ac91481",
   "metadata": {},
   "outputs": [],
   "source": [
    "for i in range(len(fruits)):\n",
    "    print(fruits[i])"
   ]
  },
  {
   "cell_type": "code",
   "execution_count": null,
   "id": "f9716611",
   "metadata": {},
   "outputs": [],
   "source": [
    "print(fruits)      "
   ]
  },
  {
   "cell_type": "markdown",
   "id": "914f1724",
   "metadata": {},
   "source": [
    "**Thêm phần tử vào cuối list sử dụng hàm append**"
   ]
  },
  {
   "cell_type": "code",
   "execution_count": null,
   "id": "a74d561f",
   "metadata": {},
   "outputs": [],
   "source": [
    "print(\"Số phần tử của list trước khi thêm\", len(fruits))"
   ]
  },
  {
   "cell_type": "code",
   "execution_count": null,
   "id": "1fab605f",
   "metadata": {},
   "outputs": [],
   "source": [
    "fruits.append(\"Banana\")"
   ]
  },
  {
   "cell_type": "code",
   "execution_count": null,
   "id": "7b36aebe",
   "metadata": {},
   "outputs": [],
   "source": [
    "print(\"Số phần tử của list sau khi thêm\", len(fruits))"
   ]
  },
  {
   "cell_type": "code",
   "execution_count": null,
   "id": "72b4a462",
   "metadata": {},
   "outputs": [],
   "source": [
    "print(fruits)   "
   ]
  },
  {
   "cell_type": "markdown",
   "id": "f1665e8c",
   "metadata": {},
   "source": [
    "**Sử dụng hàm insert để thêm phần tử vào vị trí bất kỳ**"
   ]
  },
  {
   "cell_type": "code",
   "execution_count": null,
   "id": "4116b3f8",
   "metadata": {},
   "outputs": [],
   "source": [
    "fruits.insert(1, \"Grape\")"
   ]
  },
  {
   "cell_type": "code",
   "execution_count": null,
   "id": "2bf9ebd0",
   "metadata": {},
   "outputs": [],
   "source": [
    "print(fruits)   "
   ]
  },
  {
   "cell_type": "code",
   "execution_count": null,
   "id": "aba3ae08",
   "metadata": {},
   "outputs": [],
   "source": [
    "extra = [54, 1, 21]\n",
    "extend_list =  fruits + extra\n",
    "print(extend_list)"
   ]
  },
  {
   "cell_type": "code",
   "execution_count": null,
   "id": "69b9e3df",
   "metadata": {},
   "outputs": [],
   "source": [
    "extend_list = []\n",
    "for i in fruits:\n",
    "    extend_list.append(i)\n",
    "for i in extra:\n",
    "    extend_list.append(i)\n",
    "print(extend_list)"
   ]
  },
  {
   "cell_type": "markdown",
   "id": "9bc59309",
   "metadata": {},
   "source": [
    "**Xoá phân tử trong list: del , remove , pop**"
   ]
  },
  {
   "cell_type": "code",
   "execution_count": null,
   "id": "9cbdd459",
   "metadata": {},
   "outputs": [],
   "source": [
    "fruits"
   ]
  },
  {
   "cell_type": "code",
   "execution_count": null,
   "id": "4bc73803",
   "metadata": {},
   "outputs": [],
   "source": [
    "fruits.remove(\"Mango\")"
   ]
  },
  {
   "cell_type": "code",
   "execution_count": null,
   "id": "04cf4f01",
   "metadata": {},
   "outputs": [],
   "source": [
    "fruits"
   ]
  },
  {
   "cell_type": "code",
   "execution_count": null,
   "id": "219d6021",
   "metadata": {},
   "outputs": [],
   "source": [
    "deleted_item = fruits.pop()"
   ]
  },
  {
   "cell_type": "code",
   "execution_count": null,
   "id": "caeb8ec6",
   "metadata": {},
   "outputs": [],
   "source": [
    "print(fruits)\n",
    "print(deleted_item)"
   ]
  },
  {
   "cell_type": "code",
   "execution_count": null,
   "id": "db7d8509",
   "metadata": {},
   "outputs": [],
   "source": [
    "del fruits[0]\n",
    "print(fruits)"
   ]
  },
  {
   "cell_type": "code",
   "execution_count": null,
   "id": "280a317a",
   "metadata": {},
   "outputs": [],
   "source": [
    "del fruits[-1]\n",
    "print(fruits)"
   ]
  },
  {
   "cell_type": "code",
   "execution_count": null,
   "id": "bb22a36f",
   "metadata": {},
   "outputs": [],
   "source": [
    "del fruits\n",
    "print(fruits)"
   ]
  },
  {
   "cell_type": "markdown",
   "id": "f0477675",
   "metadata": {},
   "source": [
    "**Nhập vào một danh sách tên sinh viên. Tìm xem trong danh sách đó có bao nhiêu sinh viên có họ là Nguyễn**"
   ]
  },
  {
   "cell_type": "code",
   "execution_count": null,
   "id": "fa894bbe",
   "metadata": {},
   "outputs": [],
   "source": [
    "so_lg = int(input(\"Nhập vào số lượng sinh viên: \"))\n",
    "d_sach = []\n",
    "for i in range(0,so_lg):\n",
    "    print(f\"Nhập SV {i+1}:\")\n",
    "    sv = input()\n",
    "    d_sach.append(sv)\n",
    "if(d)"
   ]
  },
  {
   "cell_type": "code",
   "execution_count": null,
   "id": "eadff609",
   "metadata": {},
   "outputs": [],
   "source": [
    "n =  int(input(\"Nhập số sinh viên: \"))\n",
    "if n>0:\n",
    "    students = []\n",
    "    while len(students)<n:\n",
    "        name = input(f\"Nhập sinh viên thứ {len(students)+1}: \")\n",
    "        if name != \"\":\n",
    "            students.append(name)\n",
    "        else:\n",
    "            print(\"Tên không được để trống\")\n",
    "        print(\"Danh sách sinh viên\", students)\n",
    "    selected = []\n",
    "    count = 0\n",
    "    for stud in students:\n",
    "        if \"nguyễn\" in stud.lower().split()[0]:\n",
    "            count +=1\n",
    "            selected.append(stud)\n",
    "    print(\"Số sinh viên có họ Nguyễn:\", len(selected))\n",
    "    print(\"Danh sách sinh viên có họ Nguyễn: \", selected)\n",
    "            \n",
    "else:\n",
    "    print(\"Lỗi\")"
   ]
  },
  {
   "cell_type": "markdown",
   "id": "5d050753",
   "metadata": {},
   "source": [
    "**Cú pháp tạo Tuple**"
   ]
  },
  {
   "cell_type": "code",
   "execution_count": null,
   "id": "88045fd7",
   "metadata": {},
   "outputs": [],
   "source": [
    "stud_info = (\"Nguyễn Văn Bình\", 25, True, \"Nam Định\")\n",
    "print(stud_info)\n",
    "print(type(stud_info))"
   ]
  },
  {
   "cell_type": "code",
   "execution_count": null,
   "id": "780f3810",
   "metadata": {},
   "outputs": [],
   "source": [
    "stud_info = \"Nguyễn Văn Bình\", 25, True, \"Nam Định\"\n",
    "print(stud_info)\n",
    "print(type(stud_info))"
   ]
  },
  {
   "cell_type": "code",
   "execution_count": null,
   "id": "7b41396f",
   "metadata": {},
   "outputs": [],
   "source": [
    "stud_info = list(stud_info)\n",
    "stud_info.append(\"Kỹ sư phần mềm\")"
   ]
  },
  {
   "cell_type": "code",
   "execution_count": null,
   "id": "2b0ca43e",
   "metadata": {},
   "outputs": [],
   "source": [
    "print(stud_info)"
   ]
  },
  {
   "cell_type": "code",
   "execution_count": null,
   "id": "97f839ef",
   "metadata": {},
   "outputs": [],
   "source": [
    "stud_info = tuple(stud_info)\n",
    "print(stud_info)\n",
    "print(type(stud_info))"
   ]
  },
  {
   "cell_type": "code",
   "execution_count": null,
   "id": "be7ba0e0",
   "metadata": {},
   "outputs": [],
   "source": [
    "name, age, gender, residence, acupation = stud_info"
   ]
  },
  {
   "cell_type": "code",
   "execution_count": null,
   "id": "6b2e86bb",
   "metadata": {},
   "outputs": [],
   "source": [
    "print(name)\n",
    "print(age)\n",
    "print(gender)\n",
    "print(residence)"
   ]
  },
  {
   "cell_type": "code",
   "execution_count": null,
   "id": "74aee6e1",
   "metadata": {},
   "outputs": [],
   "source": [
    "name, age, *others, job = stud_info\n",
    "print(name)\n",
    "print(age)\n",
    "print(others)\n",
    "print(job)"
   ]
  },
  {
   "cell_type": "code",
   "execution_count": null,
   "id": "b0491a60",
   "metadata": {},
   "outputs": [],
   "source": [
    "**Bài tập: Cho nhập list sinh viên có cấu trúc thông tin như ví dụ ở dưới\n",
    "    Danh sách sinh viên:\n",
    "students = [(\"Nguyễn Văn Bình\", 25, True, \"Nam Định\"),\n",
    "            (\"Nguyễn Văn Bình\", 25, True, \"Nam Định\"),\n",
    "            (\"Nguyễn Văn Bình\", 25, True, \"Nam Định\"),\n",
    "            (\"Nguyễn Văn Bình\", 25, True, \"Nam Định\")]\n",
    "Yêu cầu:\n",
    "1/ Tìm sinh viên ít tuổi nhất, nhiều tuổi nhất\n",
    "2/ Tìm số sinh viên nữ, sinh viên nam\n",
    "3/ Tìm số địa phương có nhiều sinh viên nhất\n",
    "4/ Tìm số sinh viên của mỗi địa phương\n",
    "5/ Sắp xếp danh sách sinh viên theo tên, tuổi, quê quán"
   ]
  },
  {
   "cell_type": "code",
   "execution_count": null,
   "id": "8368c572",
   "metadata": {},
   "outputs": [],
   "source": [
    "students = [(\"Nguyễn Văn Bình\", 25, True, \"Nam Định\"),\n",
    "            (\"Trần Văn Sơn\", 26, True, \"Hà Nam\"),\n",
    "            (\"Lê Văn Lộc\", 25, True, \"Yên Bái\"),\n",
    "            (\"Nguyễn Thị Hằng\", 23, False, \"Hà Nội\"),\n",
    "            (\"Lê Thuỳ An\", 18, False, \"Hà Nam\")]\n"
   ]
  },
  {
   "cell_type": "code",
   "execution_count": null,
   "id": "9927cc14",
   "metadata": {},
   "outputs": [],
   "source": [
    "def display(students):\n",
    "    header = 'Họ và tên'.ljust(20) + 'Tuổi'.ljust(20) + 'Giới tính'.ljust(20) + 'Quê quán'.ljust(20)\n",
    "    print(header)\n",
    "    print(\"=\"*65)\n",
    "    row = \"\"\n",
    "    for stud in students:\n",
    "        for i in stud:\n",
    "            if type(i) == bool:\n",
    "                if i:\n",
    "                    row += 'Nam'.ljust(20)\n",
    "                else:\n",
    "                    row += 'Nữ'.ljust(20)\n",
    "                continue\n",
    "            row += str(i).ljust(20)\n",
    "            print(i, end='\\t\\t\\t')\n",
    "        print(\"\")"
   ]
  },
  {
   "cell_type": "code",
   "execution_count": null,
   "id": "9356e2cf",
   "metadata": {},
   "outputs": [],
   "source": [
    "display(students)"
   ]
  },
  {
   "cell_type": "code",
   "execution_count": null,
   "id": "8ff2136b",
   "metadata": {},
   "outputs": [],
   "source": [
    "def min_max_list(students):\n",
    "    age_min = 1000\n",
    "    age_max = 0\n",
    "    for stud in students:\n",
    "        if stud[1] > age_max:\n",
    "            age_max = stud[1]\n",
    "        if stud[1] < age_min:\n",
    "            age_min = stud[1]\n",
    "    agemin_list = []\n",
    "    agemax_list = []\n",
    "    for stud in students:\n",
    "        if stud[1] == age_min:\n",
    "            agemin_list.append(stud)\n",
    "        if stud[1] == age_max:\n",
    "            agemax_list.append(stud)\n",
    "    return agemin_list, agemax_list\n",
    "    print('Danh sách sinh viên nhỏ tuổi nhất: ', agemin_list)\n",
    "    print('Danh sách sinh viên lớn tuổi nhất: ', agemax_list)"
   ]
  },
  {
   "cell_type": "code",
   "execution_count": null,
   "id": "64879dda",
   "metadata": {},
   "outputs": [],
   "source": [
    "minlist, maxlist = min_max_list(students)\n",
    "print('Danh sách sinh viên nhỏ tuổi nhất: ')\n",
    "display(minlist)\n",
    "print('Danh sách sinh viên lớn tuổi nhất: ')\n",
    "display(maxlist)"
   ]
  },
  {
   "cell_type": "code",
   "execution_count": null,
   "id": "b8038dd1",
   "metadata": {},
   "outputs": [],
   "source": [
    "def genderCount(students):\n",
    "    male = 0\n",
    "    female = 0\n",
    "    for stud in students:\n",
    "        if stud[2]:\n",
    "            male+=1\n",
    "        else:\n",
    "            female+=1\n",
    "    return male, female"
   ]
  },
  {
   "cell_type": "code",
   "execution_count": null,
   "id": "f312980f",
   "metadata": {},
   "outputs": [],
   "source": [
    "male, female = genderCount(students)\n",
    "print(\"Số sinh viên nam: \", male)\n",
    "print(\"Số sinh viên nữ: \", female)"
   ]
  },
  {
   "cell_type": "code",
   "execution_count": null,
   "id": "38606d11",
   "metadata": {},
   "outputs": [],
   "source": [
    "#Tìm số địa phương có nhiều sinh viên nhất\n",
    "def studentCountEachProvince(students):\n",
    "    provinces = []\n",
    "    for stud in students:\n",
    "        provinces.append(stud[3])\n",
    "    unique_provinces = set(provinces)\n",
    "    kq = []\n",
    "    for pro in unique_provinces:\n",
    "        item = [pro]\n",
    "        count = 0\n",
    "        for stud in students:\n",
    "            if pro == stud[3]:\n",
    "                count += 1\n",
    "        item.append(count)\n",
    "        kq.append(item)\n",
    "    return(kq)\n",
    "            \n",
    "            "
   ]
  },
  {
   "cell_type": "code",
   "execution_count": null,
   "id": "5bf5d542",
   "metadata": {},
   "outputs": [],
   "source": [
    "kq = studentCountEachProvince(students)\n",
    "print(kq)"
   ]
  },
  {
   "cell_type": "code",
   "execution_count": null,
   "id": "f59e1c30",
   "metadata": {},
   "outputs": [],
   "source": [
    "def provinceHasMaxStudents(students):\n",
    "    kq = studentCountEachProvince(students)\n",
    "    countMax = 0\n",
    "    for i in kq:\n",
    "        if countMax < i[1]:\n",
    "            countMax = i[1]\n",
    "    mostList = []\n",
    "    for i in kq:\n",
    "        if countMax == i[1]:\n",
    "            mostList.append(i)\n",
    "    return mostList"
   ]
  },
  {
   "cell_type": "code",
   "execution_count": null,
   "id": "01165c49",
   "metadata": {},
   "outputs": [],
   "source": [
    "mostList = provinceHasMaxStudents(students)\n",
    "print(mostList)"
   ]
  },
  {
   "cell_type": "code",
   "execution_count": null,
   "id": "a95370f7",
   "metadata": {},
   "outputs": [],
   "source": [
    "# 5/ Sắp xếp danh sách sinh viên theo tên, tuổi, quê quán\n",
    "display(students)"
   ]
  },
  {
   "cell_type": "code",
   "execution_count": null,
   "id": "429306f7",
   "metadata": {},
   "outputs": [],
   "source": [
    "def oderBy(students, index=0, reverse=False):\n",
    "    sstudents = sorted(students, key = lambda x:x[1], reverse = True)\n",
    "    return students"
   ]
  },
  {
   "cell_type": "code",
   "execution_count": null,
   "id": "d9fb300b",
   "metadata": {},
   "outputs": [],
   "source": [
    "#Sắp xếp theo tên\n",
    "students = oderBy(students, 0)\n",
    "display(students)"
   ]
  },
  {
   "cell_type": "code",
   "execution_count": null,
   "id": "7663ea90",
   "metadata": {},
   "outputs": [],
   "source": [
    "#Sắp xếp theo giới tính\n",
    "students = oderBy(students, 2)\n",
    "display(students)"
   ]
  },
  {
   "cell_type": "code",
   "execution_count": null,
   "id": "f1ee290e",
   "metadata": {},
   "outputs": [],
   "source": [
    "#Sắp xếp theo tuổi\n",
    "students = oderBy(students, 1, True)\n",
    "display(students)"
   ]
  },
  {
   "cell_type": "code",
   "execution_count": null,
   "id": "720b4944",
   "metadata": {},
   "outputs": [],
   "source": [
    "#Sắp xếp theo quê quán\n",
    "students = oderBy(students, 3, True)\n",
    "display(students)"
   ]
  },
  {
   "cell_type": "markdown",
   "id": "e7653043",
   "metadata": {},
   "source": [
    "**Nhập vào một chuỗi các số nguyên dương. tính trung bình cộng các số nguyên tố**"
   ]
  },
  {
   "cell_type": "code",
   "execution_count": 7,
   "id": "7c131e84",
   "metadata": {},
   "outputs": [],
   "source": [
    "def checkPrime(number):\n",
    "    isPrime = True\n",
    "    for i in range(2, number//2+1,1):\n",
    "        if number%i==0:\n",
    "            isPrime = False\n",
    "            break\n",
    "    return isPrime"
   ]
  },
  {
   "cell_type": "code",
   "execution_count": 9,
   "id": "0ec87bde",
   "metadata": {},
   "outputs": [
    {
     "name": "stdout",
     "output_type": "stream",
     "text": [
      "Nhập 1 chuối các số dương: 4 6 8 9 12 10\n",
      "[]\n",
      "Chuối không có số nguyên tố\n"
     ]
    }
   ],
   "source": [
    "numbers = input(\"Nhập 1 chuối các số dương: \")\n",
    "numbers = numbers.split()\n",
    "primes = []\n",
    "for i in numbers:\n",
    "    if checkPrime(int(i)):\n",
    "        primes.append(int(i))\n",
    "print(primes)\n",
    "if len(primes)!=0:\n",
    "    print('Trung bình cộng các số nguyên tố: ', sum(primes)/len(primes))\n",
    "else:\n",
    "    print(\"Chuối không có số nguyên tố\")\n",
    "        "
   ]
  },
  {
   "cell_type": "code",
   "execution_count": null,
   "id": "d1870618",
   "metadata": {},
   "outputs": [],
   "source": []
  },
  {
   "cell_type": "code",
   "execution_count": null,
   "id": "95d2f201",
   "metadata": {},
   "outputs": [],
   "source": []
  },
  {
   "cell_type": "code",
   "execution_count": null,
   "id": "d3bf3054",
   "metadata": {},
   "outputs": [],
   "source": []
  },
  {
   "cell_type": "code",
   "execution_count": null,
   "id": "d2f28e3b",
   "metadata": {},
   "outputs": [],
   "source": []
  },
  {
   "cell_type": "code",
   "execution_count": null,
   "id": "f2f97928",
   "metadata": {},
   "outputs": [],
   "source": []
  },
  {
   "cell_type": "code",
   "execution_count": null,
   "id": "5d9f289b",
   "metadata": {},
   "outputs": [],
   "source": []
  },
  {
   "cell_type": "code",
   "execution_count": null,
   "id": "5f40bc11",
   "metadata": {},
   "outputs": [],
   "source": []
  },
  {
   "cell_type": "code",
   "execution_count": null,
   "id": "68647df7",
   "metadata": {},
   "outputs": [],
   "source": []
  },
  {
   "cell_type": "code",
   "execution_count": null,
   "id": "5c8d5793",
   "metadata": {},
   "outputs": [],
   "source": []
  },
  {
   "cell_type": "code",
   "execution_count": null,
   "id": "cdf450c6",
   "metadata": {},
   "outputs": [],
   "source": []
  },
  {
   "cell_type": "code",
   "execution_count": null,
   "id": "46accc04",
   "metadata": {},
   "outputs": [],
   "source": []
  },
  {
   "cell_type": "code",
   "execution_count": null,
   "id": "4c4776fb",
   "metadata": {},
   "outputs": [],
   "source": []
  },
  {
   "cell_type": "code",
   "execution_count": null,
   "id": "ba369f49",
   "metadata": {},
   "outputs": [],
   "source": []
  },
  {
   "cell_type": "code",
   "execution_count": null,
   "id": "46bc55d4",
   "metadata": {},
   "outputs": [],
   "source": []
  }
 ],
 "metadata": {
  "kernelspec": {
   "display_name": "Python 3 (ipykernel)",
   "language": "python",
   "name": "python3"
  },
  "language_info": {
   "codemirror_mode": {
    "name": "ipython",
    "version": 3
   },
   "file_extension": ".py",
   "mimetype": "text/x-python",
   "name": "python",
   "nbconvert_exporter": "python",
   "pygments_lexer": "ipython3",
   "version": "3.9.13"
  }
 },
 "nbformat": 4,
 "nbformat_minor": 5
}
