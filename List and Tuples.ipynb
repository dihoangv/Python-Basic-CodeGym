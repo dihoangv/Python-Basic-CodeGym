{
 "cells": [
  {
   "cell_type": "code",
   "execution_count": 29,
   "id": "b45bcc99",
   "metadata": {},
   "outputs": [
    {
     "name": "stdout",
     "output_type": "stream",
     "text": [
      "['Cherry', 'Lemon', 'Mango', 'Apple']\n",
      "<class 'list'>\n"
     ]
    }
   ],
   "source": [
    "fruits = [\"Cherry\", \"Lemon\", \"Mango\", \"Apple\"]\n",
    "print(fruits)\n",
    "print(type(fruits))"
   ]
  },
  {
   "cell_type": "code",
   "execution_count": 30,
   "id": "4e01ad37",
   "metadata": {},
   "outputs": [
    {
     "name": "stdout",
     "output_type": "stream",
     "text": [
      "['John', 'Susan', 'Mike']\n",
      "<class 'list'>\n"
     ]
    }
   ],
   "source": [
    "names = list([\"John\", \"Susan\", \"Mike\"])\n",
    "print(names)\n",
    "print(type(names))"
   ]
  },
  {
   "cell_type": "code",
   "execution_count": 31,
   "id": "40eb15c1",
   "metadata": {},
   "outputs": [
    {
     "name": "stdout",
     "output_type": "stream",
     "text": [
      "Apple\n"
     ]
    }
   ],
   "source": [
    "print(fruits[-1])"
   ]
  },
  {
   "cell_type": "code",
   "execution_count": 32,
   "id": "3b9b13ce",
   "metadata": {},
   "outputs": [
    {
     "name": "stdout",
     "output_type": "stream",
     "text": [
      "Cherry\n",
      "Lemon\n",
      "Mango\n",
      "Apple\n"
     ]
    }
   ],
   "source": [
    "for i in fruits:\n",
    "    print(i)"
   ]
  },
  {
   "cell_type": "code",
   "execution_count": 33,
   "id": "7ac91481",
   "metadata": {},
   "outputs": [
    {
     "name": "stdout",
     "output_type": "stream",
     "text": [
      "Cherry\n",
      "Lemon\n",
      "Mango\n",
      "Apple\n"
     ]
    }
   ],
   "source": [
    "for i in range(len(fruits)):\n",
    "    print(fruits[i])"
   ]
  },
  {
   "cell_type": "code",
   "execution_count": 34,
   "id": "f9716611",
   "metadata": {},
   "outputs": [
    {
     "name": "stdout",
     "output_type": "stream",
     "text": [
      "['Cherry', 'Lemon', 'Mango', 'Apple']\n"
     ]
    }
   ],
   "source": [
    "print(fruits)      "
   ]
  },
  {
   "cell_type": "markdown",
   "id": "914f1724",
   "metadata": {},
   "source": [
    "**Thêm phần tử vào cuối list sử dụng hàm append**"
   ]
  },
  {
   "cell_type": "code",
   "execution_count": 35,
   "id": "a74d561f",
   "metadata": {},
   "outputs": [
    {
     "name": "stdout",
     "output_type": "stream",
     "text": [
      "Số phần tử của list trước khi thêm 4\n"
     ]
    }
   ],
   "source": [
    "print(\"Số phần tử của list trước khi thêm\", len(fruits))"
   ]
  },
  {
   "cell_type": "code",
   "execution_count": 36,
   "id": "1fab605f",
   "metadata": {},
   "outputs": [],
   "source": [
    "fruits.append(\"Banana\")"
   ]
  },
  {
   "cell_type": "code",
   "execution_count": 37,
   "id": "7b36aebe",
   "metadata": {},
   "outputs": [
    {
     "name": "stdout",
     "output_type": "stream",
     "text": [
      "Số phần tử của list sau khi thêm 5\n"
     ]
    }
   ],
   "source": [
    "print(\"Số phần tử của list sau khi thêm\", len(fruits))"
   ]
  },
  {
   "cell_type": "code",
   "execution_count": 38,
   "id": "72b4a462",
   "metadata": {},
   "outputs": [
    {
     "name": "stdout",
     "output_type": "stream",
     "text": [
      "['Cherry', 'Lemon', 'Mango', 'Apple', 'Banana']\n"
     ]
    }
   ],
   "source": [
    "print(fruits)   "
   ]
  },
  {
   "cell_type": "markdown",
   "id": "f1665e8c",
   "metadata": {},
   "source": [
    "**Sử dụng hàm insert để thêm phần tử vào vị trí bất kỳ**"
   ]
  },
  {
   "cell_type": "code",
   "execution_count": 39,
   "id": "4116b3f8",
   "metadata": {},
   "outputs": [],
   "source": [
    "fruits.insert(1, \"Grape\")"
   ]
  },
  {
   "cell_type": "code",
   "execution_count": 40,
   "id": "2bf9ebd0",
   "metadata": {},
   "outputs": [
    {
     "name": "stdout",
     "output_type": "stream",
     "text": [
      "['Cherry', 'Grape', 'Lemon', 'Mango', 'Apple', 'Banana']\n"
     ]
    }
   ],
   "source": [
    "print(fruits)   "
   ]
  },
  {
   "cell_type": "code",
   "execution_count": 41,
   "id": "aba3ae08",
   "metadata": {},
   "outputs": [
    {
     "name": "stdout",
     "output_type": "stream",
     "text": [
      "['Cherry', 'Grape', 'Lemon', 'Mango', 'Apple', 'Banana', 54, 1, 21]\n"
     ]
    }
   ],
   "source": [
    "extra = [54, 1, 21]\n",
    "extend_list =  fruits + extra\n",
    "print(extend_list)"
   ]
  },
  {
   "cell_type": "code",
   "execution_count": 42,
   "id": "69b9e3df",
   "metadata": {},
   "outputs": [
    {
     "name": "stdout",
     "output_type": "stream",
     "text": [
      "['Cherry', 'Grape', 'Lemon', 'Mango', 'Apple', 'Banana', 54, 1, 21]\n"
     ]
    }
   ],
   "source": [
    "extend_list = []\n",
    "for i in fruits:\n",
    "    extend_list.append(i)\n",
    "for i in extra:\n",
    "    extend_list.append(i)\n",
    "print(extend_list)"
   ]
  },
  {
   "cell_type": "markdown",
   "id": "9bc59309",
   "metadata": {},
   "source": [
    "**Xoá phân tử trong list: del , remove , pop**"
   ]
  },
  {
   "cell_type": "code",
   "execution_count": 43,
   "id": "9cbdd459",
   "metadata": {},
   "outputs": [
    {
     "data": {
      "text/plain": [
       "['Cherry', 'Grape', 'Lemon', 'Mango', 'Apple', 'Banana']"
      ]
     },
     "execution_count": 43,
     "metadata": {},
     "output_type": "execute_result"
    }
   ],
   "source": [
    "fruits"
   ]
  },
  {
   "cell_type": "code",
   "execution_count": 44,
   "id": "4bc73803",
   "metadata": {},
   "outputs": [],
   "source": [
    "fruits.remove(\"Mango\")"
   ]
  },
  {
   "cell_type": "code",
   "execution_count": 45,
   "id": "04cf4f01",
   "metadata": {},
   "outputs": [
    {
     "data": {
      "text/plain": [
       "['Cherry', 'Grape', 'Lemon', 'Apple', 'Banana']"
      ]
     },
     "execution_count": 45,
     "metadata": {},
     "output_type": "execute_result"
    }
   ],
   "source": [
    "fruits"
   ]
  },
  {
   "cell_type": "code",
   "execution_count": 46,
   "id": "219d6021",
   "metadata": {},
   "outputs": [],
   "source": [
    "deleted_item = fruits.pop()"
   ]
  },
  {
   "cell_type": "code",
   "execution_count": 47,
   "id": "caeb8ec6",
   "metadata": {},
   "outputs": [
    {
     "name": "stdout",
     "output_type": "stream",
     "text": [
      "['Cherry', 'Grape', 'Lemon', 'Apple']\n",
      "Banana\n"
     ]
    }
   ],
   "source": [
    "print(fruits)\n",
    "print(deleted_item)"
   ]
  },
  {
   "cell_type": "code",
   "execution_count": 48,
   "id": "db7d8509",
   "metadata": {},
   "outputs": [
    {
     "name": "stdout",
     "output_type": "stream",
     "text": [
      "['Grape', 'Lemon', 'Apple']\n"
     ]
    }
   ],
   "source": [
    "del fruits[0]\n",
    "print(fruits)"
   ]
  },
  {
   "cell_type": "code",
   "execution_count": 49,
   "id": "280a317a",
   "metadata": {},
   "outputs": [
    {
     "name": "stdout",
     "output_type": "stream",
     "text": [
      "['Grape', 'Lemon']\n"
     ]
    }
   ],
   "source": [
    "del fruits[-1]\n",
    "print(fruits)"
   ]
  },
  {
   "cell_type": "code",
   "execution_count": 51,
   "id": "bb22a36f",
   "metadata": {},
   "outputs": [
    {
     "ename": "NameError",
     "evalue": "name 'fruits' is not defined",
     "output_type": "error",
     "traceback": [
      "\u001b[1;31m---------------------------------------------------------------------------\u001b[0m",
      "\u001b[1;31mNameError\u001b[0m                                 Traceback (most recent call last)",
      "\u001b[1;32m~\\AppData\\Local\\Temp\\ipykernel_8564\\753144438.py\u001b[0m in \u001b[0;36m<module>\u001b[1;34m\u001b[0m\n\u001b[1;32m----> 1\u001b[1;33m \u001b[1;32mdel\u001b[0m \u001b[0mfruits\u001b[0m\u001b[1;33m\u001b[0m\u001b[1;33m\u001b[0m\u001b[0m\n\u001b[0m\u001b[0;32m      2\u001b[0m \u001b[0mprint\u001b[0m\u001b[1;33m(\u001b[0m\u001b[0mfruits\u001b[0m\u001b[1;33m)\u001b[0m\u001b[1;33m\u001b[0m\u001b[1;33m\u001b[0m\u001b[0m\n",
      "\u001b[1;31mNameError\u001b[0m: name 'fruits' is not defined"
     ]
    }
   ],
   "source": [
    "del fruits\n",
    "print(fruits)"
   ]
  },
  {
   "cell_type": "markdown",
   "id": "f0477675",
   "metadata": {},
   "source": [
    "**Nhập vào một danh sách tên sinh viên. Tìm xem trong danh sách đó có bao nhiêu sinh viên có họ là Nguyễn**"
   ]
  },
  {
   "cell_type": "code",
   "execution_count": 60,
   "id": "fa894bbe",
   "metadata": {},
   "outputs": [
    {
     "name": "stdout",
     "output_type": "stream",
     "text": [
      "Nhập vào số lượng sinh viên: 3\n",
      "Nhập SV 1:\n",
      "HHHHH\n",
      "Nhập SV 2:\n",
      "BBBB\n",
      "Nhập SV 3:\n",
      "CCCC\n",
      "['HHHHH', 'BBBB', 'CCCC']\n"
     ]
    }
   ],
   "source": [
    "so_lg = int(input(\"Nhập vào số lượng sinh viên: \"))\n",
    "d_sach = []\n",
    "for i in range(0,so_lg):\n",
    "    print(f\"Nhập SV {i+1}:\")\n",
    "    sv = input()\n",
    "    d_sach.append(sv)\n",
    "if(d)"
   ]
  },
  {
   "cell_type": "code",
   "execution_count": 5,
   "id": "eadff609",
   "metadata": {},
   "outputs": [
    {
     "name": "stdout",
     "output_type": "stream",
     "text": [
      "Nhập số sinh viên: 2\n",
      "Nhập sinh viên thứ 1: Nguyễn A\n",
      "Danh sách sinh viên ['Nguyễn A']\n",
      "Nhập sinh viên thứ 2: Ngueyenx a\n",
      "Danh sách sinh viên ['Nguyễn A', 'Ngueyenx a']\n",
      "Số sinh viên có họ Nguyễn: 1\n",
      "Danh sách sinh viên có họ Nguyễn:  ['Nguyễn A']\n"
     ]
    }
   ],
   "source": [
    "n =  int(input(\"Nhập số sinh viên: \"))\n",
    "if n>0:\n",
    "    students = []\n",
    "    while len(students)<n:\n",
    "        name = input(f\"Nhập sinh viên thứ {len(students)+1}: \")\n",
    "        if name != \"\":\n",
    "            students.append(name)\n",
    "        else:\n",
    "            print(\"Tên không được để trống\")\n",
    "        print(\"Danh sách sinh viên\", students)\n",
    "    selected = []\n",
    "    count = 0\n",
    "    for stud in students:\n",
    "        if \"nguyễn\" in stud.lower().split()[0]:\n",
    "            count +=1\n",
    "            selected.append(stud)\n",
    "    print(\"Số sinh viên có họ Nguyễn:\", len(selected))\n",
    "    print(\"Danh sách sinh viên có họ Nguyễn: \", selected)\n",
    "            \n",
    "else:\n",
    "    print(\"Lỗi\")"
   ]
  },
  {
   "cell_type": "markdown",
   "id": "5d050753",
   "metadata": {},
   "source": [
    "**Cú pháp tạo Tuple**"
   ]
  },
  {
   "cell_type": "code",
   "execution_count": 70,
   "id": "88045fd7",
   "metadata": {},
   "outputs": [
    {
     "name": "stdout",
     "output_type": "stream",
     "text": [
      "('Nguyễn Văn Bình', 25, True, 'Nam Định')\n",
      "<class 'tuple'>\n"
     ]
    }
   ],
   "source": [
    "stud_info = (\"Nguyễn Văn Bình\", 25, True, \"Nam Định\")\n",
    "print(stud_info)\n",
    "print(type(stud_info))"
   ]
  },
  {
   "cell_type": "code",
   "execution_count": 77,
   "id": "780f3810",
   "metadata": {},
   "outputs": [
    {
     "name": "stdout",
     "output_type": "stream",
     "text": [
      "('Nguyễn Văn Bình', 25, True, 'Nam Định')\n",
      "<class 'tuple'>\n"
     ]
    }
   ],
   "source": [
    "stud_info = \"Nguyễn Văn Bình\", 25, True, \"Nam Định\"\n",
    "print(stud_info)\n",
    "print(type(stud_info))"
   ]
  },
  {
   "cell_type": "code",
   "execution_count": 79,
   "id": "7b41396f",
   "metadata": {},
   "outputs": [],
   "source": [
    "stud_info = list(stud_info)\n",
    "stud_info.append(\"Kỹ sư phần mềm\")"
   ]
  },
  {
   "cell_type": "code",
   "execution_count": 80,
   "id": "2b0ca43e",
   "metadata": {},
   "outputs": [
    {
     "name": "stdout",
     "output_type": "stream",
     "text": [
      "['Nguyễn Văn Bình', 25, True, 'Nam Định', 'Kỹ sư phần mềm']\n"
     ]
    }
   ],
   "source": [
    "print(stud_info)"
   ]
  },
  {
   "cell_type": "code",
   "execution_count": 82,
   "id": "97f839ef",
   "metadata": {},
   "outputs": [
    {
     "name": "stdout",
     "output_type": "stream",
     "text": [
      "('Nguyễn Văn Bình', 25, True, 'Nam Định', 'Kỹ sư phần mềm')\n",
      "<class 'tuple'>\n"
     ]
    }
   ],
   "source": [
    "stud_info = tuple(stud_info)\n",
    "print(stud_info)\n",
    "print(type(stud_info))"
   ]
  },
  {
   "cell_type": "code",
   "execution_count": 83,
   "id": "be7ba0e0",
   "metadata": {},
   "outputs": [],
   "source": [
    "name, age, gender, residence, acupation = stud_info"
   ]
  },
  {
   "cell_type": "code",
   "execution_count": 85,
   "id": "6b2e86bb",
   "metadata": {},
   "outputs": [
    {
     "name": "stdout",
     "output_type": "stream",
     "text": [
      "Nguyễn Văn Bình\n",
      "25\n",
      "True\n",
      "Nam Định\n"
     ]
    }
   ],
   "source": [
    "print(name)\n",
    "print(age)\n",
    "print(gender)\n",
    "print(residence)"
   ]
  },
  {
   "cell_type": "code",
   "execution_count": 87,
   "id": "74aee6e1",
   "metadata": {},
   "outputs": [
    {
     "name": "stdout",
     "output_type": "stream",
     "text": [
      "Nguyễn Văn Bình\n",
      "25\n",
      "[True, 'Nam Định']\n",
      "Kỹ sư phần mềm\n"
     ]
    }
   ],
   "source": [
    "name, age, *others, job = stud_info\n",
    "print(name)\n",
    "print(age)\n",
    "print(others)\n",
    "print(job)"
   ]
  },
  {
   "cell_type": "code",
   "execution_count": null,
   "id": "b0491a60",
   "metadata": {},
   "outputs": [],
   "source": [
    "**Bài tập: Cho nhập list sinh viên có cấu trúc thông tin như ví dụ ở dưới\n",
    "    Danh sách sinh viên:\n",
    "students = [(\"Nguyễn Văn Bình\", 25, True, \"Nam Định\"),\n",
    "            (\"Nguyễn Văn Bình\", 25, True, \"Nam Định\"),\n",
    "            (\"Nguyễn Văn Bình\", 25, True, \"Nam Định\"),\n",
    "            (\"Nguyễn Văn Bình\", 25, True, \"Nam Định\")]\n",
    "Yêu cầu:\n",
    "1/ Tìm sinh viên ít tuổi nhất, nhiều tuổi nhất\n",
    "2/ Tìm số sinh viên nữ, sinh viên nam\n",
    "3/ Tìm số địa phương có nhiều sinh viên nhất\n",
    "4/ Tìm số sinh viên của mỗi địa phương\n",
    "5/ Sắp xếp danh sách sinh viên theo tên, tuổi, quê quán"
   ]
  },
  {
   "cell_type": "code",
   "execution_count": 6,
   "id": "c37e0eeb",
   "metadata": {},
   "outputs": [
    {
     "name": "stdout",
     "output_type": "stream",
     "text": [
      "Nhập số sinh viên: 2\n",
      "Nhập sinh viên thứ 1: Nguyễn A\n",
      "Nhập tuổi sinh viên thứ 1: 22\n",
      "Nhập giới tính sinh viên thứ 1: True\n",
      "Danh sách sinh viên ['(Nguyễn A, 22, True)']\n",
      "Nhập sinh viên thứ 2: Ngueyn B\n",
      "Nhập tuổi sinh viên thứ 2: 33\n",
      "Nhập giới tính sinh viên thứ 2: True\n",
      "Danh sách sinh viên ['(Nguyễn A, 22, True)', '(Ngueyn B, 33, True)']\n",
      "Số sinh viên có họ Nguyễn: 1\n",
      "Danh sách sinh viên có họ Nguyễn:  ['(Nguyễn A, 22, True)']\n"
     ]
    }
   ],
   "source": [
    "n =  int(input(\"Nhập số sinh viên: \"))\n",
    "if n>0:\n",
    "    students = []\n",
    "    while len(students)<n:\n",
    "        _data = \"\"\n",
    "        name = input(f\"Nhập sinh viên thứ {len(students)+1}: \")\n",
    "        age = input(f\"Nhập tuổi sinh viên thứ {len(students)+1}: \")\n",
    "        sex = input(f\"Nhập giới tính sinh viên thứ {len(students)+1}: \")\n",
    "        if name != \"\":\n",
    "            #students = list(students)\n",
    "           # _data.append(name)\n",
    "           # _data.append(age)\n",
    "           # _data.append(sex)\n",
    "            _data = (f\"({name}, {age}, {sex})\")\n",
    "            students.append(_data)\n",
    "        else:\n",
    "            print(\"Tên không được để trống\")\n",
    "        \n",
    "        print(\"Danh sách sinh viên\", students)\n",
    "    selected = []\n",
    "    count = 0\n",
    "    for stud in students:\n",
    "        if \"nguyễn\" in stud.lower().split()[0]:\n",
    "            count +=1\n",
    "            selected.append(stud)\n",
    "    print(\"Số sinh viên có họ Nguyễn:\", len(selected))\n",
    "    print(\"Danh sách sinh viên có họ Nguyễn: \", selected)\n",
    "            \n",
    "else:\n",
    "    print(\"Lỗi\")"
   ]
  },
  {
   "cell_type": "code",
   "execution_count": null,
   "id": "8368c572",
   "metadata": {},
   "outputs": [],
   "source": [
    "\n"
   ]
  }
 ],
 "metadata": {
  "kernelspec": {
   "display_name": "Python 3 (ipykernel)",
   "language": "python",
   "name": "python3"
  },
  "language_info": {
   "codemirror_mode": {
    "name": "ipython",
    "version": 3
   },
   "file_extension": ".py",
   "mimetype": "text/x-python",
   "name": "python",
   "nbconvert_exporter": "python",
   "pygments_lexer": "ipython3",
   "version": "3.9.13"
  }
 },
 "nbformat": 4,
 "nbformat_minor": 5
}
