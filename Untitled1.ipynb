{
 "cells": [
  {
   "cell_type": "code",
   "execution_count": 4,
   "id": "0cf921ed",
   "metadata": {},
   "outputs": [
    {
     "name": "stdout",
     "output_type": "stream",
     "text": [
      "Enter the first number: 6\n",
      "Enter the first number: 4\n",
      "Enter the first number: 8\n",
      "8\n"
     ]
    }
   ],
   "source": [
    "number1 = int(input('Enter the first number: '))\n",
    "number2 = int(input('Enter the first number: '))\n",
    "number3 = int(input('Enter the first number: '))\n",
    "max_ = number1 if (number1 > number2 and number1 > number3) else number2 if (number2 > number1 and number2 > number3) else number3\n",
    "print(max_)"
   ]
  },
  {
   "cell_type": "code",
   "execution_count": null,
   "id": "569cbdd1",
   "metadata": {},
   "outputs": [],
   "source": []
  },
  {
   "cell_type": "code",
   "execution_count": null,
   "id": "69732d40",
   "metadata": {},
   "outputs": [],
   "source": []
  }
 ],
 "metadata": {
  "kernelspec": {
   "display_name": "Python 3 (ipykernel)",
   "language": "python",
   "name": "python3"
  },
  "language_info": {
   "codemirror_mode": {
    "name": "ipython",
    "version": 3
   },
   "file_extension": ".py",
   "mimetype": "text/x-python",
   "name": "python",
   "nbconvert_exporter": "python",
   "pygments_lexer": "ipython3",
   "version": "3.9.13"
  }
 },
 "nbformat": 4,
 "nbformat_minor": 5
}
