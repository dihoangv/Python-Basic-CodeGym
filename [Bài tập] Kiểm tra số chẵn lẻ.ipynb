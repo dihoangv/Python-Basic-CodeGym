{
 "cells": [
  {
   "cell_type": "markdown",
   "id": "89682656",
   "metadata": {},
   "source": [
    "## **[Bài tập] Kiểm tra số chẵn/lẻ**"
   ]
  },
  {
   "cell_type": "code",
   "execution_count": 6,
   "id": "73c4950b",
   "metadata": {},
   "outputs": [
    {
     "name": "stdout",
     "output_type": "stream",
     "text": [
      "Nhập vào số bất kì: 2.2\n",
      "Không phải số tự nhiên\n"
     ]
    }
   ],
   "source": [
    "n = float(input(\"Nhập vào số bất kì: \"))\n",
    "if n%2 == 0:\n",
    "    print(f\"Số {n} là số chẵn\")\n",
    "elif n%2 == 1:\n",
    "    print(f\"Số {n} là số lẻ\")\n",
    "else:\n",
    "    print(f\"Không phải số tự nhiên\")"
   ]
  },
  {
   "cell_type": "code",
   "execution_count": null,
   "id": "81cdae43",
   "metadata": {},
   "outputs": [],
   "source": []
  },
  {
   "cell_type": "code",
   "execution_count": null,
   "id": "17e0b42e",
   "metadata": {},
   "outputs": [],
   "source": []
  }
 ],
 "metadata": {
  "kernelspec": {
   "display_name": "Python 3 (ipykernel)",
   "language": "python",
   "name": "python3"
  },
  "language_info": {
   "codemirror_mode": {
    "name": "ipython",
    "version": 3
   },
   "file_extension": ".py",
   "mimetype": "text/x-python",
   "name": "python",
   "nbconvert_exporter": "python",
   "pygments_lexer": "ipython3",
   "version": "3.9.13"
  }
 },
 "nbformat": 4,
 "nbformat_minor": 5
}
