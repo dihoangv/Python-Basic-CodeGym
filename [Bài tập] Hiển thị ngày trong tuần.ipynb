{
 "cells": [
  {
   "cell_type": "markdown",
   "id": "823b7969",
   "metadata": {},
   "source": [
    "## **[Bài tập] Hiển thị ngày trong tuần***"
   ]
  },
  {
   "cell_type": "code",
   "execution_count": null,
   "id": "52572c6c",
   "metadata": {},
   "outputs": [],
   "source": [
    "n = int(input(\"Nhập một số từ 1 - 7: \"))\n",
    "if n == 1:\n",
    "    print(\"Monday\")\n",
    "elif n == 2:\n",
    "    print(\"Tuesday\")\n",
    "elif n == 3:\n",
    "    print(\"Wednesday\")\n",
    "elif n == 4:\n",
    "    print(\"Thursday\")\n",
    "elif n == 5:\n",
    "    print(\"Friday\")\n",
    "elif n == 6:\n",
    "    print(\"Saturday\")\n",
    "elif n == 7:\n",
    "    print(\"Sunday\")\n",
    "else:\n",
    "    print(\"Yêu cầu nhập đúng số từ 1 - 7\")"
   ]
  },
  {
   "cell_type": "code",
   "execution_count": null,
   "id": "5a4534f3",
   "metadata": {},
   "outputs": [],
   "source": []
  },
  {
   "cell_type": "code",
   "execution_count": null,
   "id": "b5c2e3f0",
   "metadata": {},
   "outputs": [],
   "source": []
  }
 ],
 "metadata": {
  "kernelspec": {
   "display_name": "Python 3 (ipykernel)",
   "language": "python",
   "name": "python3"
  },
  "language_info": {
   "codemirror_mode": {
    "name": "ipython",
    "version": 3
   },
   "file_extension": ".py",
   "mimetype": "text/x-python",
   "name": "python",
   "nbconvert_exporter": "python",
   "pygments_lexer": "ipython3",
   "version": "3.9.13"
  }
 },
 "nbformat": 4,
 "nbformat_minor": 5
}
