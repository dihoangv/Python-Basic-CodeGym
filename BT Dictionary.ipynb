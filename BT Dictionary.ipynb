{
 "cells": [
  {
   "cell_type": "markdown",
   "id": "d873ccd8",
   "metadata": {},
   "source": [
    "Cho dictionary như sau với key là thông tin của sinh viên, value là một list chứa điểm thi của môn Toán, Lý, Hóa\n",
    "\n",
    "students = {('Hà Văn Hoàng', 24, 'Hà Nội'): [6, 9, 10], ('Trần Minh Tân', 26, 'Nghệ An'): [5, 8, 7], ('Cao Hoàng Yến', 20, 'Bắc Ninh'): [6, 10, 5]}\n",
    "\n",
    "Thực hiện các yêu cầu sau:\n",
    "    1. Tìm sinh viên có điểm toán cao nhất\n",
    "    2. Tìm sinh viên có điểm tổng kết cao nhất, biết điểm toán có hệ số 2, điểm Lý và Hóa có hệ số 1, điểm tổng kết = (Điểm Toán*2 + Điểm Lý + Điểm Hóa)/4\n",
    "    3. Thêm vào thông tin điểm của mỗi sinh viên giá trị xếp loại, biết xếp loại dựa theo điểm tổng kết, nếu điểm tổng kết > 8 thì loại giỏi, > 6 thì loại khá, > 5 loại trung bình, còn lại là loại yếu\n",
    "    4. Sắp xếp danh sách sinh viên theo tên\n",
    "    5. Sắp xếp danh sách sinh viên theo xếp loại\n",
    "    6. Sắp xếp danh sách sinh viên theo thứ tự giảm dần điểm toán"
   ]
  },
  {
   "cell_type": "code",
   "execution_count": 44,
   "id": "e330ce97",
   "metadata": {},
   "outputs": [],
   "source": [
    "students = {('Hà Văn Hoàng', 24, 'Hà Nội'): [6, 9, 10], \n",
    "            ('Trần Minh Tân', 26, 'Nghệ An'): [5, 2, 7], \n",
    "            ('Cao Hoàng Yến', 20, 'Bắc Ninh'): [6, 5, 5]}\n"
   ]
  },
  {
   "cell_type": "code",
   "execution_count": 36,
   "id": "8a0708fd",
   "metadata": {},
   "outputs": [
    {
     "name": "stdout",
     "output_type": "stream",
     "text": [
      "Sinh viên có điểm toán cao nhất: ('Hà Văn Hoàng', 24, 'Hà Nội'), Điểm Toán: 6\n",
      "Sinh viên có điểm toán cao nhất: ('Cao Hoàng Yến', 20, 'Bắc Ninh'), Điểm Toán: 6\n"
     ]
    }
   ],
   "source": [
    "#1. Tìm sinh viên có điểm toán cao nhất\n",
    "max_toan = 0\n",
    "for i, j in students.items():\n",
    "    if j[0] > max_toan:\n",
    "        max_toan = j[0]\n",
    "for i, j in students.items():\n",
    "    if j[0] == max_toan:\n",
    "        print(f'Sinh viên có điểm toán cao nhất: {i}, Điểm Toán: {j[0]}')\n"
   ]
  },
  {
   "cell_type": "code",
   "execution_count": 37,
   "id": "25d6fe26",
   "metadata": {},
   "outputs": [
    {
     "name": "stdout",
     "output_type": "stream",
     "text": [
      "Sinh viên có điểm tổng kết cao nhất: ('Hà Văn Hoàng', 24, 'Hà Nội'), Điểm tổng kết 7.75\n"
     ]
    }
   ],
   "source": [
    "# 2. Tìm sinh viên có điểm tổng kết cao nhất, \n",
    "# biết điểm toán có hệ số 2, điểm Lý và Hóa có hệ số 1, \n",
    "# điểm tổng kết = (Điểm Toán*2 + Điểm Lý + Điểm Hóa)/4\n",
    "max_diem = 0\n",
    "for i, j in students.items():\n",
    "    diem_toan, diem_ly, diem_hoa = j\n",
    "    diem_tong_ket = (diem_toan*2 + diem_ly + diem_hoa)/4\n",
    "    if diem_tong_ket > max_diem:\n",
    "        max_diem = diem_tong_ket\n",
    "\n",
    "for i, j in students.items():\n",
    "    diem_toan, diem_ly, diem_hoa = j\n",
    "    diem_tong_ket = (diem_toan*2 + diem_ly + diem_hoa)/4\n",
    "    if diem_tong_ket == max_diem:\n",
    "        print(f'Sinh viên có điểm tổng kết cao nhất: {i}, Điểm tổng kết {max_diem}')"
   ]
  },
  {
   "cell_type": "code",
   "execution_count": 38,
   "id": "8e746f39",
   "metadata": {},
   "outputs": [
    {
     "name": "stdout",
     "output_type": "stream",
     "text": [
      "{('Hà Văn Hoàng', 24, 'Hà Nội'): [6, 9, 10, 'Khá'], ('Trần Minh Tân', 26, 'Nghệ An'): [5, 2, 7, 'Yếu'], ('Cao Hoàng Yến', 20, 'Bắc Ninh'): [6, 5, 5, 'Trung bình']}\n"
     ]
    }
   ],
   "source": [
    "# 3. Thêm vào thông tin điểm của mỗi sinh viên giá trị xếp loại, biết xếp loại dựa theo điểm tổng kết, \n",
    "# nếu điểm tổng kết > 8 thì loại giỏi, > 6 thì loại khá, > 5 loại trung bình, còn lại là loại yếu\n",
    "for m, n in students.items():\n",
    "    diem_toan, diem_ly, diem_hoa = n\n",
    "    diem_tong_ket = (diem_toan*2 + diem_ly + diem_hoa)/4\n",
    "    if diem_tong_ket > 8:\n",
    "        xep_loai = 'Giỏi'\n",
    "    elif diem_tong_ket > 6:\n",
    "        xep_loai = 'Khá'\n",
    "    elif diem_tong_ket > 5:\n",
    "        xep_loai = 'Trung bình'\n",
    "    else:\n",
    "        xep_loai = 'Yếu'\n",
    "    n.append(xep_loai)\n",
    "print(students)"
   ]
  },
  {
   "cell_type": "code",
   "execution_count": 45,
   "id": "30524476",
   "metadata": {},
   "outputs": [
    {
     "name": "stdout",
     "output_type": "stream",
     "text": [
      "('Cao Hoàng Yến', 20, 'Bắc Ninh') [6, 5, 5]\n",
      "('Hà Văn Hoàng', 24, 'Hà Nội') [6, 9, 10]\n",
      "('Trần Minh Tân', 26, 'Nghệ An') [5, 2, 7]\n"
     ]
    }
   ],
   "source": [
    "# 4. Sắp xếp danh sách sinh viên theo tên\n",
    "for k in sorted(students.keys()):\n",
    "    print(k, students[k])"
   ]
  },
  {
   "cell_type": "code",
   "execution_count": 51,
   "id": "ef68265f",
   "metadata": {},
   "outputs": [],
   "source": [
    "students = {('Hà Văn Hoàng', 24, 'Hà Nội'): [6, 9, 10], \n",
    "            ('Trần Minh Tân', 26, 'Nghệ An'): [5, 5, 7], \n",
    "            ('Cao Hoàng Yến', 20, 'Bắc Ninh'): [3, 2, 5]}"
   ]
  },
  {
   "cell_type": "code",
   "execution_count": 52,
   "id": "8d5af71f",
   "metadata": {},
   "outputs": [],
   "source": [
    "#1. Tìm sinh viên có điểm toán cao nhất\n",
    "def max_mark(index):\n",
    "    math_mark = 0\n",
    "    for k, v in students.items():\n",
    "        if v[index] > math_mark:\n",
    "            math_mark = v[index]\n",
    "    for k, v in students.items():\n",
    "        if v[index] == math_mark:\n",
    "            print(k)\n"
   ]
  },
  {
   "cell_type": "code",
   "execution_count": 53,
   "id": "4e01c8ab",
   "metadata": {},
   "outputs": [
    {
     "name": "stdout",
     "output_type": "stream",
     "text": [
      "{('Hà Văn Hoàng', 24, 'Hà Nội'): [6, 9, 10, 7.75], ('Trần Minh Tân', 26, 'Nghệ An'): [5, 5, 7, 5.5], ('Cao Hoàng Yến', 20, 'Bắc Ninh'): [3, 2, 5, 3.25]}\n"
     ]
    }
   ],
   "source": [
    "# 2. Tìm sinh viên có điểm tổng kết cao nhất, \n",
    "# biết điểm toán có hệ số 2, điểm Lý và Hóa có hệ số 1, \n",
    "# điểm tổng kết = (Điểm Toán*2 + Điểm Lý + Điểm Hóa)/4\n",
    "for k, v in students.items():\n",
    "    v.append((v[0]*2+v[1]+v[2])/4)\n",
    "print(students)"
   ]
  },
  {
   "cell_type": "code",
   "execution_count": 54,
   "id": "b9585fc6",
   "metadata": {},
   "outputs": [
    {
     "name": "stdout",
     "output_type": "stream",
     "text": [
      "{('Hà Văn Hoàng', 24, 'Hà Nội'): [6, 9, 10, 7.75, 'Khá'], ('Trần Minh Tân', 26, 'Nghệ An'): [5, 5, 7, 5.5, 'Trung Bình'], ('Cao Hoàng Yến', 20, 'Bắc Ninh'): [3, 2, 5, 3.25, 'Yếu']}\n"
     ]
    }
   ],
   "source": [
    "# 3. Thêm vào thông tin điểm của mỗi sinh viên giá trị xếp loại, biết xếp loại dựa theo điểm tổng kết, \n",
    "# nếu điểm tổng kết > 8 thì loại giỏi, > 6 thì loại khá, > 5 loại trung bình, còn lại là loại yếu\n",
    "for k, v in students.items():\n",
    "    xl = \"Yếu\"\n",
    "    if v[3]>8:\n",
    "        xl = \"Giỏi\"\n",
    "    elif v[3]>6:\n",
    "        xl = \"Khá\"\n",
    "    elif v[3]>5:\n",
    "        xl = \"Trung Bình\"\n",
    "    else:\n",
    "        xl = \"Yếu\"\n",
    "    v.append(xl)\n",
    "print(students)"
   ]
  },
  {
   "cell_type": "code",
   "execution_count": 55,
   "id": "5a0f3010",
   "metadata": {},
   "outputs": [
    {
     "name": "stdout",
     "output_type": "stream",
     "text": [
      "{('Cao Hoàng Yến', 20, 'Bắc Ninh'): [3, 2, 5, 3.25, 'Yếu'], ('Hà Văn Hoàng', 24, 'Hà Nội'): [6, 9, 10, 7.75, 'Khá'], ('Trần Minh Tân', 26, 'Nghệ An'): [5, 5, 7, 5.5, 'Trung Bình']}\n"
     ]
    }
   ],
   "source": [
    "byName = dict(sorted(students.items(), key=lambda x:x[0][0],reverse=False))\n",
    "#print(students)\n",
    "print(byName)"
   ]
  },
  {
   "cell_type": "code",
   "execution_count": 56,
   "id": "00417aaf",
   "metadata": {},
   "outputs": [
    {
     "name": "stdout",
     "output_type": "stream",
     "text": [
      "{('Hà Văn Hoàng', 24, 'Hà Nội'): [6, 9, 10, 7.75, 'Khá'], ('Trần Minh Tân', 26, 'Nghệ An'): [5, 5, 7, 5.5, 'Trung Bình'], ('Cao Hoàng Yến', 20, 'Bắc Ninh'): [3, 2, 5, 3.25, 'Yếu']}\n"
     ]
    }
   ],
   "source": [
    "byMath = dict(sorted(students.items(), key=lambda x:x[1][0],reverse=True))\n",
    "print(byMath)"
   ]
  },
  {
   "cell_type": "code",
   "execution_count": 58,
   "id": "cf19bb69",
   "metadata": {},
   "outputs": [
    {
     "name": "stdout",
     "output_type": "stream",
     "text": [
      "{('Cao Hoàng Yến', 20, 'Bắc Ninh'): [3, 2, 5, 3.25, 'Yếu'], ('Trần Minh Tân', 26, 'Nghệ An'): [5, 5, 7, 5.5, 'Trung Bình'], ('Hà Văn Hoàng', 24, 'Hà Nội'): [6, 9, 10, 7.75, 'Khá']}\n"
     ]
    }
   ],
   "source": [
    "byXL = dict(sorted(students.items(), key=lambda x:x[1][3],reverse=False))\n",
    "print(byXL)"
   ]
  },
  {
   "cell_type": "code",
   "execution_count": null,
   "id": "9ab258c9",
   "metadata": {},
   "outputs": [],
   "source": []
  }
 ],
 "metadata": {
  "kernelspec": {
   "display_name": "Python 3 (ipykernel)",
   "language": "python",
   "name": "python3"
  },
  "language_info": {
   "codemirror_mode": {
    "name": "ipython",
    "version": 3
   },
   "file_extension": ".py",
   "mimetype": "text/x-python",
   "name": "python",
   "nbconvert_exporter": "python",
   "pygments_lexer": "ipython3",
   "version": "3.9.13"
  }
 },
 "nbformat": 4,
 "nbformat_minor": 5
}
