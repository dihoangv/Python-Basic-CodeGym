{
 "cells": [
  {
   "cell_type": "markdown",
   "id": "41347125",
   "metadata": {},
   "source": [
    "**Bài tập: Cho nhập list sinh viên có cấu trúc thông tin như ví dụ ở dưới\n",
    "    Danh sách sinh viên:\n",
    "students = [(\"Nguyễn Văn Bình\", 25, True, \"Nam Định\"),\n",
    "            (\"Nguyễn Văn Bình\", 25, True, \"Nam Định\"),\n",
    "            (\"Nguyễn Văn Bình\", 25, True, \"Nam Định\"),\n",
    "            (\"Nguyễn Văn Bình\", 25, True, \"Nam Định\")]\n",
    "Yêu cầu:\n",
    "1/ Tìm sinh viên ít tuổi nhất, nhiều tuổi nhất\n",
    "2/ Tìm số sinh viên nữ, sinh viên nam\n",
    "3/ Tìm số địa phương có nhiều sinh viên nhất\n",
    "4/ Tìm số sinh viên của mỗi địa phương\n",
    "5/ Sắp xếp danh sách sinh viên theo tên, tuổi, quê quán**"
   ]
  },
  {
   "cell_type": "code",
   "execution_count": 13,
   "id": "5b611e7f",
   "metadata": {},
   "outputs": [
    {
     "name": "stdout",
     "output_type": "stream",
     "text": [
      "Nhập số sinh viên: 3\n",
      "Nhập tên sinh viên thứ 1: Nguyễn Văn An\n",
      "Nhập tuổi sinh viên thứ 1: 22\n",
      "Nhập giới tính sinh viên thứ 1: True\n",
      "Nhập nơi cư trú của sinh viên thứ 1: Nam Định\n",
      "Danh sách sinh viên (['Nguyễn Văn An', '22', 'True', 'Nam Định'],)\n",
      "Nhập tên sinh viên thứ 2: Đinh Thị Hoa\n",
      "Nhập tuổi sinh viên thứ 2: 19\n",
      "Nhập giới tính sinh viên thứ 2: False\n",
      "Nhập nơi cư trú của sinh viên thứ 2: Ninh Bình\n",
      "Danh sách sinh viên (['Nguyễn Văn An', '22', 'True', 'Nam Định'], ['Đinh Thị Hoa', '19', 'False', 'Ninh Bình'])\n",
      "Nhập tên sinh viên thứ 3: Bùi Văn Ba\n",
      "Nhập tuổi sinh viên thứ 3: 23\n",
      "Nhập giới tính sinh viên thứ 3: True\n",
      "Nhập nơi cư trú của sinh viên thứ 3: Hà Nam\n",
      "Danh sách sinh viên (['Nguyễn Văn An', '22', 'True', 'Nam Định'], ['Đinh Thị Hoa', '19', 'False', 'Ninh Bình'], ['Bùi Văn Ba', '23', 'True', 'Hà Nam'])\n"
     ]
    }
   ],
   "source": [
    "n =  int(input(\"Nhập số sinh viên: \"))\n",
    "if n>0:\n",
    "    students = []\n",
    "    while len(students)<n:\n",
    "        _data = []\n",
    "        name = input(f\"Nhập tên sinh viên thứ {len(students)+1}: \")\n",
    "        age = input(f\"Nhập tuổi sinh viên thứ {len(students)+1}: \")\n",
    "        gender = input(f\"Nhập giới tính sinh viên thứ {len(students)+1}: \")\n",
    "        residence = input(f\"Nhập nơi cư trú của sinh viên thứ {len(students)+1}: \")\n",
    "        if name != \"\" and age != \"\" and gender != \"\" and residence != \"\":\n",
    "            students = list(students)\n",
    "            _data.append(name)\n",
    "            _data.append(age)\n",
    "            _data.append(gender)\n",
    "            _data.append(residence)\n",
    "            _data = tuple(_data)\n",
    "            students.append(list(_data))\n",
    "        else:\n",
    "            print(f\"Không được để trống, nhập lại dữ liệu sinh viên {len(students)+1}\")\n",
    "        students = tuple(students)\n",
    "        print(\"Danh sách sinh viên\", students)       \n",
    "else:\n",
    "    print(\"Lỗi\")\n",
    "    "
   ]
  },
  {
   "cell_type": "code",
   "execution_count": 22,
   "id": "1ac2f76f",
   "metadata": {},
   "outputs": [
    {
     "name": "stdout",
     "output_type": "stream",
     "text": [
      "19\n"
     ]
    }
   ],
   "source": [
    "print(students[1][1])"
   ]
  },
  {
   "cell_type": "code",
   "execution_count": 63,
   "id": "6e3d8e17",
   "metadata": {},
   "outputs": [
    {
     "name": "stdout",
     "output_type": "stream",
     "text": [
      "Thông tin sinh viên ít tuổi nhất:\n",
      "Tên:Đinh Thị Hoa, Tuổi: 19, Giới tính: False, Nơi cư trú: Ninh Bình\n",
      "Thông tin sinh viên nhiều tuổi nhất:\n",
      "Tên:Nguyễn Văn An, Tuổi: 22, Giới tính: True, Nơi cư trú: Nam Định\n"
     ]
    }
   ],
   "source": [
    "# 1/ Tìm sinh viên ít tuổi nhất, nhiều tuổi nhất\n",
    "youngest_stud = None\n",
    "oldest_stud = None\n",
    "\n",
    "for stud in students:\n",
    "    age = int(stud[1])\n",
    "    if youngest_stud is None or age < int(youngest_stud[1]):\n",
    "        youngest_stud = stud\n",
    "    if oldest_stud is None or age > int(oldest_studt[1]):\n",
    "        oldest_stud = stud\n",
    "\n",
    "print(\"Thông tin sinh viên ít tuổi nhất:\")\n",
    "print(f\"Tên:{youngest_stud[0]}, Tuổi: {youngest_stud[1]}, Giới tính: {youngest_stud[2]}, Nơi cư trú: {youngest_stud[3]}\")\n",
    "\n",
    "print(\"Thông tin sinh viên nhiều tuổi nhất:\")\n",
    "print(f\"Tên:{oldest_stud[0]}, Tuổi: {oldest_stud[1]}, Giới tính: {oldest_stud[2]}, Nơi cư trú: {oldest_stud[3]}\")\n"
   ]
  },
  {
   "cell_type": "code",
   "execution_count": 64,
   "id": "b708a312",
   "metadata": {},
   "outputs": [
    {
     "name": "stdout",
     "output_type": "stream",
     "text": [
      "Số sinh viên Nam: 2\n",
      "Số sinh viên Nữ: 1\n"
     ]
    }
   ],
   "source": [
    "#2/ Tìm số sinh viên nữ, sinh viên nam\n",
    "male = 0\n",
    "female = 0\n",
    "\n",
    "for stud in students:\n",
    "    gender = stud[2]\n",
    "    if gender == \"True\":\n",
    "        male += 1\n",
    "    elif gender == \"False\":\n",
    "        female += 1\n",
    "print(f\"Số sinh viên Nam: {male}\")\n",
    "print(f\"Số sinh viên Nữ: {female}\")"
   ]
  },
  {
   "cell_type": "code",
   "execution_count": 1,
   "id": "3fa63f61",
   "metadata": {},
   "outputs": [
    {
     "ename": "NameError",
     "evalue": "name 'students' is not defined",
     "output_type": "error",
     "traceback": [
      "\u001b[1;31m---------------------------------------------------------------------------\u001b[0m",
      "\u001b[1;31mNameError\u001b[0m                                 Traceback (most recent call last)",
      "\u001b[1;32m~\\AppData\\Local\\Temp\\ipykernel_20264\\2960811807.py\u001b[0m in \u001b[0;36m<module>\u001b[1;34m\u001b[0m\n\u001b[0;32m      1\u001b[0m \u001b[1;31m# 3/ Tìm số địa phương có nhiều sinh viên nhất\u001b[0m\u001b[1;33m\u001b[0m\u001b[1;33m\u001b[0m\u001b[0m\n\u001b[0;32m      2\u001b[0m \u001b[0mcount\u001b[0m \u001b[1;33m=\u001b[0m \u001b[1;33m{\u001b[0m\u001b[1;33m}\u001b[0m\u001b[1;33m\u001b[0m\u001b[1;33m\u001b[0m\u001b[0m\n\u001b[1;32m----> 3\u001b[1;33m \u001b[1;32mfor\u001b[0m \u001b[0mstud\u001b[0m \u001b[1;32min\u001b[0m \u001b[0mstudents\u001b[0m\u001b[1;33m:\u001b[0m\u001b[1;33m\u001b[0m\u001b[1;33m\u001b[0m\u001b[0m\n\u001b[0m\u001b[0;32m      4\u001b[0m     \u001b[0mresidence\u001b[0m \u001b[1;33m=\u001b[0m \u001b[0mstud\u001b[0m\u001b[1;33m[\u001b[0m\u001b[1;36m3\u001b[0m\u001b[1;33m]\u001b[0m\u001b[1;33m\u001b[0m\u001b[1;33m\u001b[0m\u001b[0m\n\u001b[0;32m      5\u001b[0m     \u001b[1;32mif\u001b[0m \u001b[0mresidence\u001b[0m \u001b[1;32min\u001b[0m \u001b[0mcount\u001b[0m\u001b[1;33m:\u001b[0m\u001b[1;33m\u001b[0m\u001b[1;33m\u001b[0m\u001b[0m\n",
      "\u001b[1;31mNameError\u001b[0m: name 'students' is not defined"
     ]
    }
   ],
   "source": [
    "# 3/ Tìm số địa phương có nhiều sinh viên nhất\n",
    "count = {}    \n",
    "for stud in students:\n",
    "    residence = stud[3]\n",
    "    if residence in count:\n",
    "        count[residence] += 1\n",
    "    else:\n",
    "        count[residence] = 1\n",
    "print(count)        "
   ]
  },
  {
   "cell_type": "code",
   "execution_count": null,
   "id": "5f3f5d55",
   "metadata": {},
   "outputs": [],
   "source": []
  }
 ],
 "metadata": {
  "kernelspec": {
   "display_name": "Python 3 (ipykernel)",
   "language": "python",
   "name": "python3"
  },
  "language_info": {
   "codemirror_mode": {
    "name": "ipython",
    "version": 3
   },
   "file_extension": ".py",
   "mimetype": "text/x-python",
   "name": "python",
   "nbconvert_exporter": "python",
   "pygments_lexer": "ipython3",
   "version": "3.9.13"
  }
 },
 "nbformat": 4,
 "nbformat_minor": 5
}
