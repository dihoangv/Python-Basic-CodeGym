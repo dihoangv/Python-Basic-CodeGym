{
 "cells": [
  {
   "cell_type": "code",
   "execution_count": 3,
   "id": "0ff70695",
   "metadata": {},
   "outputs": [
    {
     "name": "stdout",
     "output_type": "stream",
     "text": [
      "Name: Hoang Van Dien\n",
      "Age: 36\n",
      "Address: Hiep Hoa - Quang Yen - Quang Ninh\n"
     ]
    }
   ],
   "source": [
    "Name = 'Hoang Van Dien'\n",
    "Age = '36'\n",
    "Address = 'Hiep Hoa - Quang Yen - Quang Ninh'\n",
    "print('Name:',Name)\n",
    "print('Age:',Age)\n",
    "print('Address:',Address)"
   ]
  },
  {
   "cell_type": "code",
   "execution_count": null,
   "id": "87d9b3e0",
   "metadata": {},
   "outputs": [],
   "source": []
  }
 ],
 "metadata": {
  "kernelspec": {
   "display_name": "Python 3 (ipykernel)",
   "language": "python",
   "name": "python3"
  },
  "language_info": {
   "codemirror_mode": {
    "name": "ipython",
    "version": 3
   },
   "file_extension": ".py",
   "mimetype": "text/x-python",
   "name": "python",
   "nbconvert_exporter": "python",
   "pygments_lexer": "ipython3",
   "version": "3.9.13"
  }
 },
 "nbformat": 4,
 "nbformat_minor": 5
}
