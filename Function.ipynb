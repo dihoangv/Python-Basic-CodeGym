{
 "cells": [
  {
   "cell_type": "code",
   "execution_count": 6,
   "id": "35867d33",
   "metadata": {},
   "outputs": [],
   "source": [
    "#Hàm tính giai thửa của một số\n",
    "def tinhGiaiThua(number):\n",
    "    if number < 0:\n",
    "        print(\"Lỗi\")\n",
    "    elif number == 0:\n",
    "        print(\"Giai thừa = 1\")\n",
    "    else:\n",
    "        kq = 1\n",
    "        for i in range(1,number+1,1):\n",
    "            kq *=i\n",
    "        print(\"Giai thừa =\", kq)"
   ]
  },
  {
   "cell_type": "code",
   "execution_count": 8,
   "id": "0ab468d3",
   "metadata": {},
   "outputs": [
    {
     "name": "stdout",
     "output_type": "stream",
     "text": [
      "Lỗi\n",
      "Giai thừa = 1\n",
      "Giai thừa = 720\n",
      "Giai thừa = 3628800\n"
     ]
    }
   ],
   "source": [
    "tinhGiaiThua(-5)\n",
    "tinhGiaiThua(0)\n",
    "tinhGiaiThua(6)\n",
    "tinhGiaiThua(10)"
   ]
  },
  {
   "cell_type": "markdown",
   "id": "1355b488",
   "metadata": {},
   "source": [
    "**Xây dựng hàm với tham số là một chuỗi các ký thự bất kỳ gồm chữ cái và chữ số. Các số trong chuối được xác định bởi các dâu cách. Chức năng của hàm là tìm số chẵn lớn nhất, số lẻ nhỏ nhất từ tham số chuỗi. Vì dụ giá trị ban đầu của tham số là: \"bd 34 tr13 85 sh 342 21 def\" thì giá trị tìm được là 342 và 21**"
   ]
  },
  {
   "cell_type": "code",
   "execution_count": 27,
   "id": "c9687233",
   "metadata": {},
   "outputs": [],
   "source": [
    "def tim_so(strings):\n",
    "    \"\"\"\n",
    "    Function that finds the max even number in a string\n",
    "    Prameters: mystr(str) - a string contains numbers spacing a white-space\n",
    "    Returns: A max even number that found in the input string (int)\n",
    "    \"\"\"\n",
    "#strings = \"bd 34 tr13 85 sh 342 21 def\"\n",
    "    str1 = strings.split()\n",
    "    even_max = None\n",
    "    for w in str1:\n",
    "        if w.isdigit() and int(w)%2 ==0:\n",
    "            even_max = int(w)\n",
    "            break\n",
    "    if even_max is None:\n",
    "        print(\"Chuỗi không có số chẵn\")\n",
    "    else:\n",
    "        for w in str1:\n",
    "            if w.isdigit() and int(w)%2==0 and int(w)>even_max:\n",
    "                even_max = int(w)\n",
    "        print(\"Số chẵn lớn nhất trong chuỗi: \", even_max)"
   ]
  },
  {
   "cell_type": "code",
   "execution_count": 24,
   "id": "c9ce336d",
   "metadata": {},
   "outputs": [
    {
     "name": "stdout",
     "output_type": "stream",
     "text": [
      "Số chẵn lớn nhất trong chuỗi:  566\n"
     ]
    }
   ],
   "source": [
    "tim_so(\"aa ư ew 12 34 566 df\")"
   ]
  },
  {
   "cell_type": "code",
   "execution_count": 29,
   "id": "0df29c7c",
   "metadata": {},
   "outputs": [
    {
     "name": "stdout",
     "output_type": "stream",
     "text": [
      "Số chẵn lớn nhất trong chuỗi:  88\n",
      "Chuỗi không có số chẵn\n",
      "Chuỗi không có số chẵn\n"
     ]
    }
   ],
   "source": [
    "mytest = [\"anx 233 223 tr78 88 deff\", \"áidj skdk skdjaa sdk\", \"633 623 11 87 99\"]\n",
    "for i in mytest:\n",
    "    tim_so(i)"
   ]
  },
  {
   "cell_type": "code",
   "execution_count": 28,
   "id": "de6b6aea",
   "metadata": {},
   "outputs": [
    {
     "name": "stdout",
     "output_type": "stream",
     "text": [
      "\n",
      "    Function that finds the max even number in a string\n",
      "    Prameters: mystr(str) - a string contains numbers spacing a white-space\n",
      "    Returns: A max even number that found in the input string (int)\n",
      "    \n"
     ]
    }
   ],
   "source": [
    "print(tim_so.__doc__)"
   ]
  },
  {
   "cell_type": "code",
   "execution_count": 30,
   "id": "7812a484",
   "metadata": {},
   "outputs": [
    {
     "name": "stdout",
     "output_type": "stream",
     "text": [
      "Help on function tim_so in module __main__:\n",
      "\n",
      "tim_so(strings)\n",
      "    Function that finds the max even number in a string\n",
      "    Prameters: mystr(str) - a string contains numbers spacing a white-space\n",
      "    Returns: A max even number that found in the input string (int)\n",
      "\n",
      "None\n"
     ]
    }
   ],
   "source": [
    "print(help(tim_so))"
   ]
  },
  {
   "cell_type": "code",
   "execution_count": 32,
   "id": "91567798",
   "metadata": {},
   "outputs": [
    {
     "name": "stdout",
     "output_type": "stream",
     "text": [
      "Help on built-in function cos in module math:\n",
      "\n",
      "cos(x, /)\n",
      "    Return the cosine of x (measured in radians).\n",
      "\n",
      "None\n"
     ]
    }
   ],
   "source": [
    "from math import *\n",
    "print(help(cos))"
   ]
  },
  {
   "cell_type": "code",
   "execution_count": null,
   "id": "3fbd6d99",
   "metadata": {},
   "outputs": [],
   "source": []
  }
 ],
 "metadata": {
  "kernelspec": {
   "display_name": "Python 3 (ipykernel)",
   "language": "python",
   "name": "python3"
  },
  "language_info": {
   "codemirror_mode": {
    "name": "ipython",
    "version": 3
   },
   "file_extension": ".py",
   "mimetype": "text/x-python",
   "name": "python",
   "nbconvert_exporter": "python",
   "pygments_lexer": "ipython3",
   "version": "3.9.13"
  }
 },
 "nbformat": 4,
 "nbformat_minor": 5
}
