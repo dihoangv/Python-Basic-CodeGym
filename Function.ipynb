{
 "cells": [
  {
   "cell_type": "code",
   "execution_count": 6,
   "id": "35867d33",
   "metadata": {},
   "outputs": [],
   "source": [
    "#Hàm tính giai thửa của một số\n",
    "def tinhGiaiThua(number):\n",
    "    if number < 0:\n",
    "        print(\"Lỗi\")\n",
    "    elif number == 0:\n",
    "        print(\"Giai thừa = 1\")\n",
    "    else:\n",
    "        kq = 1\n",
    "        for i in range(1,number+1,1):\n",
    "            kq *=i\n",
    "        print(\"Giai thừa =\", kq)"
   ]
  },
  {
   "cell_type": "code",
   "execution_count": 8,
   "id": "0ab468d3",
   "metadata": {},
   "outputs": [
    {
     "name": "stdout",
     "output_type": "stream",
     "text": [
      "Lỗi\n",
      "Giai thừa = 1\n",
      "Giai thừa = 720\n",
      "Giai thừa = 3628800\n"
     ]
    }
   ],
   "source": [
    "tinhGiaiThua(-5)\n",
    "tinhGiaiThua(0)\n",
    "tinhGiaiThua(6)\n",
    "tinhGiaiThua(10)"
   ]
  },
  {
   "cell_type": "markdown",
   "id": "1355b488",
   "metadata": {},
   "source": [
    "**Xây dựng hàm với tham số là một chuỗi các ký thự bất kỳ gồm chữ cái và chữ số. Các số trong chuối được xác định bởi các dâu cách. Chức năng của hàm là tìm số chẵn lớn nhất, số lẻ nhỏ nhất từ tham số chuỗi. Vì dụ giá trị ban đầu của tham số là: \"bd 34 tr13 85 sh 342 21 def\" thì giá trị tìm được là 342 và 21**"
   ]
  },
  {
   "cell_type": "code",
   "execution_count": 27,
   "id": "c9687233",
   "metadata": {},
   "outputs": [],
   "source": [
    "def tim_so(strings):\n",
    "    \"\"\"\n",
    "    Function that finds the max even number in a string\n",
    "    Prameters: mystr(str) - a string contains numbers spacing a white-space\n",
    "    Returns: A max even number that found in the input string (int)\n",
    "    \"\"\"\n",
    "#strings = \"bd 34 tr13 85 sh 342 21 def\"\n",
    "    str1 = strings.split()\n",
    "    even_max = None\n",
    "    for w in str1:\n",
    "        if w.isdigit() and int(w)%2 ==0:\n",
    "            even_max = int(w)\n",
    "            break\n",
    "    if even_max is None:\n",
    "        print(\"Chuỗi không có số chẵn\")\n",
    "    else:\n",
    "        for w in str1:\n",
    "            if w.isdigit() and int(w)%2==0 and int(w)>even_max:\n",
    "                even_max = int(w)\n",
    "        print(\"Số chẵn lớn nhất trong chuỗi: \", even_max)"
   ]
  },
  {
   "cell_type": "code",
   "execution_count": 24,
   "id": "c9ce336d",
   "metadata": {},
   "outputs": [
    {
     "name": "stdout",
     "output_type": "stream",
     "text": [
      "Số chẵn lớn nhất trong chuỗi:  566\n"
     ]
    }
   ],
   "source": [
    "tim_so(\"aa ư ew 12 34 566 df\")"
   ]
  },
  {
   "cell_type": "code",
   "execution_count": 29,
   "id": "0df29c7c",
   "metadata": {},
   "outputs": [
    {
     "name": "stdout",
     "output_type": "stream",
     "text": [
      "Số chẵn lớn nhất trong chuỗi:  88\n",
      "Chuỗi không có số chẵn\n",
      "Chuỗi không có số chẵn\n"
     ]
    }
   ],
   "source": [
    "mytest = [\"anx 233 223 tr78 88 deff\", \"áidj skdk skdjaa sdk\", \"633 623 11 87 99\"]\n",
    "for i in mytest:\n",
    "    tim_so(i)"
   ]
  },
  {
   "cell_type": "code",
   "execution_count": 28,
   "id": "de6b6aea",
   "metadata": {},
   "outputs": [
    {
     "name": "stdout",
     "output_type": "stream",
     "text": [
      "\n",
      "    Function that finds the max even number in a string\n",
      "    Prameters: mystr(str) - a string contains numbers spacing a white-space\n",
      "    Returns: A max even number that found in the input string (int)\n",
      "    \n"
     ]
    }
   ],
   "source": [
    "print(tim_so.__doc__)"
   ]
  },
  {
   "cell_type": "code",
   "execution_count": 30,
   "id": "7812a484",
   "metadata": {},
   "outputs": [
    {
     "name": "stdout",
     "output_type": "stream",
     "text": [
      "Help on function tim_so in module __main__:\n",
      "\n",
      "tim_so(strings)\n",
      "    Function that finds the max even number in a string\n",
      "    Prameters: mystr(str) - a string contains numbers spacing a white-space\n",
      "    Returns: A max even number that found in the input string (int)\n",
      "\n",
      "None\n"
     ]
    }
   ],
   "source": [
    "print(help(tim_so))"
   ]
  },
  {
   "cell_type": "code",
   "execution_count": 32,
   "id": "91567798",
   "metadata": {},
   "outputs": [
    {
     "name": "stdout",
     "output_type": "stream",
     "text": [
      "Help on built-in function cos in module math:\n",
      "\n",
      "cos(x, /)\n",
      "    Return the cosine of x (measured in radians).\n",
      "\n",
      "None\n"
     ]
    }
   ],
   "source": [
    "from math import *\n",
    "print(help(cos))"
   ]
  },
  {
   "cell_type": "code",
   "execution_count": 3,
   "id": "3fbd6d99",
   "metadata": {},
   "outputs": [],
   "source": [
    "def tim_so(strings):\n",
    "    \"\"\"\n",
    "    Function that finds the max even number in a string\n",
    "    Prameters: mystr(str) - a string contains numbers spacing a white-space\n",
    "    Returns: A max even number that found in the input string (int)\n",
    "    \"\"\"\n",
    "#strings = \"bd 34 tr13 85 sh 342 21 def\"\n",
    "    str1 = strings.split()\n",
    "    even_max = None\n",
    "    for w in str1:\n",
    "        if w.isdigit() and int(w)%2 ==0:\n",
    "            even_max = int(w)\n",
    "            break\n",
    "    if even_max is not None:\n",
    "        for w in str1:\n",
    "            if w.isdigit() and int(w)%2==0 and int(w)>even_max:\n",
    "                even_max = int(w)\n",
    "    return even_max"
   ]
  },
  {
   "cell_type": "code",
   "execution_count": 4,
   "id": "5af71a04",
   "metadata": {},
   "outputs": [
    {
     "name": "stdout",
     "output_type": "stream",
     "text": [
      "Số chẵn lớn nhất trong chuỗi là: 246\n"
     ]
    }
   ],
   "source": [
    "result = tim_so(\"djsa 25sd 23 245 26 222 246\")\n",
    "if result is None:\n",
    "    print('Không có số chắn')\n",
    "else:\n",
    "    print('Số chẵn lớn nhất trong chuỗi là:', result)"
   ]
  },
  {
   "cell_type": "markdown",
   "id": "fbb17a15",
   "metadata": {},
   "source": [
    "**Nhập 2 số bất kỳ tình cộng trừ nhân chia**"
   ]
  },
  {
   "cell_type": "code",
   "execution_count": 5,
   "id": "8be7dd5c",
   "metadata": {},
   "outputs": [],
   "source": [
    "def calculate(number1, number2):\n",
    "    s = number1 + number2\n",
    "    sub = number1 - number2\n",
    "    mul = number1 * number2\n",
    "    div = None\n",
    "    if number2 != 0:\n",
    "        div = number1 / number2\n",
    "    return s, sub, mul, div"
   ]
  },
  {
   "cell_type": "code",
   "execution_count": 6,
   "id": "620ecadc",
   "metadata": {},
   "outputs": [
    {
     "name": "stdout",
     "output_type": "stream",
     "text": [
      "15 5 50 2.0\n"
     ]
    }
   ],
   "source": [
    "tong, hieu, tich, thuong = calculate(10, 5)\n",
    "print(tong, hieu, tich, thuong)"
   ]
  },
  {
   "cell_type": "code",
   "execution_count": 8,
   "id": "3241c365",
   "metadata": {},
   "outputs": [
    {
     "name": "stdout",
     "output_type": "stream",
     "text": [
      "(15, 5, 50, 2.0)\n",
      "<class 'tuple'>\n"
     ]
    }
   ],
   "source": [
    "result = calculate(10, 5)\n",
    "print(result)\n",
    "print(type(result))"
   ]
  },
  {
   "cell_type": "code",
   "execution_count": 9,
   "id": "3be21801",
   "metadata": {},
   "outputs": [
    {
     "data": {
      "text/plain": [
       "(15, 5, 50, 2.0)"
      ]
     },
     "execution_count": 9,
     "metadata": {},
     "output_type": "execute_result"
    }
   ],
   "source": [
    "calculate(10, 5)"
   ]
  },
  {
   "cell_type": "markdown",
   "id": "fba6548b",
   "metadata": {},
   "source": [
    "**Tham số của hàm**"
   ]
  },
  {
   "cell_type": "code",
   "execution_count": 11,
   "id": "3feb7492",
   "metadata": {},
   "outputs": [],
   "source": [
    "def calculate(number1, number2=10):\n",
    "    s = number1 + number2\n",
    "    sub = number1 - number2\n",
    "    mul = number1 * number2\n",
    "    div = None\n",
    "    if number2 != 0:\n",
    "        div = number1 / number2\n",
    "    return s, sub, mul, div"
   ]
  },
  {
   "cell_type": "code",
   "execution_count": 13,
   "id": "4f9a4bc9",
   "metadata": {},
   "outputs": [
    {
     "name": "stdout",
     "output_type": "stream",
     "text": [
      "(13, 7, 30, 3.3333333333333335)\n"
     ]
    }
   ],
   "source": [
    "result = calculate(10, 3)\n",
    "print(result)"
   ]
  },
  {
   "cell_type": "code",
   "execution_count": 14,
   "id": "890f23b9",
   "metadata": {},
   "outputs": [],
   "source": [
    "# Xây dựng hàm tính tổng các số truyền vào\n",
    "def mysum(*agrs):\n",
    "    result = 0\n",
    "    for i in agrs:\n",
    "        result += i\n",
    "    #return result\n",
    "    print(result)"
   ]
  },
  {
   "cell_type": "code",
   "execution_count": 15,
   "id": "6f21398f",
   "metadata": {},
   "outputs": [
    {
     "name": "stdout",
     "output_type": "stream",
     "text": [
      "16\n",
      "20\n",
      "8\n"
     ]
    }
   ],
   "source": [
    "mysum(12, 4)\n",
    "mysum(12, 4, -5, 9)\n",
    "mysum(12, 4, 0, 8, -12, -9, 5)"
   ]
  },
  {
   "cell_type": "markdown",
   "id": "d228a378",
   "metadata": {},
   "source": [
    "**Phạm vi của biến**"
   ]
  },
  {
   "cell_type": "code",
   "execution_count": 16,
   "id": "5e4b09ca",
   "metadata": {},
   "outputs": [],
   "source": [
    "def increment10(number):\n",
    "    result = number + 10\n",
    "    print(result)"
   ]
  },
  {
   "cell_type": "code",
   "execution_count": 18,
   "id": "732d84ed",
   "metadata": {},
   "outputs": [
    {
     "name": "stdout",
     "output_type": "stream",
     "text": [
      "12\n"
     ]
    }
   ],
   "source": [
    "increment10(2)"
   ]
  },
  {
   "cell_type": "code",
   "execution_count": 19,
   "id": "496f9749",
   "metadata": {},
   "outputs": [
    {
     "name": "stdout",
     "output_type": "stream",
     "text": [
      "Số tiền ban đầu là:  100\n",
      "Số tiền hiện tại 85\n",
      "Số tiền hiện tại:  115\n"
     ]
    }
   ],
   "source": [
    "amount = 100\n",
    "def draw(number):\n",
    "    global amount\n",
    "    amount = amount - number\n",
    "    print(\"Số tiền hiện tại\", amount)\n",
    "def deposit(number):\n",
    "    global amount\n",
    "    amount = amount + number\n",
    "    print(\"Số tiền hiện tại: \", amount)\n",
    "print(\"Số tiền ban đầu là: \", amount)\n",
    "\n",
    "draw(15)\n",
    "deposit(30)"
   ]
  },
  {
   "cell_type": "code",
   "execution_count": null,
   "id": "3ac4b4d0",
   "metadata": {},
   "outputs": [],
   "source": []
  },
  {
   "cell_type": "code",
   "execution_count": 20,
   "id": "723a3d52",
   "metadata": {},
   "outputs": [],
   "source": [
    "def dayOfMonth(month, year):\n",
    "    if (month == 1 or month == 3 or month == 5 or month == 7 or month == 8 or month == 10 or month == 12):\n",
    "        dayNumber = 31\n",
    "    elif month == 4 or month == 6 or month == 9 or month ==11:\n",
    "        dayNumber = 30\n",
    "    elif month == 2:\n",
    "        if year%400==0 or (year%4==0 and year%100!=0):\n",
    "            dayNumber = 29\n",
    "        else:\n",
    "            dayNumber = 28\n",
    "    else:\n",
    "        dayNumber = None\n",
    "    return dayNumber\n",
    "   "
   ]
  },
  {
   "cell_type": "code",
   "execution_count": 21,
   "id": "7a6e730d",
   "metadata": {},
   "outputs": [
    {
     "name": "stdout",
     "output_type": "stream",
     "text": [
      "Nhập năm: 2023\n",
      "Nhập tháng: 4\n",
      "Số tuần chẵn =  4\n",
      "Số tuần lẻ =  1\n"
     ]
    }
   ],
   "source": [
    "import datetime\n",
    "\n",
    "year = int(input(\"Nhập năm: \"))\n",
    "month = int(input(\"Nhập tháng: \"))\n",
    "\n",
    "text = \"\"\n",
    "days = dayOfMonth(month, year)\n",
    "for i in range(1, days+1, 1):\n",
    "    mydate = datetime.date(year, month, i)\n",
    "    wd = mydate.weekday()\n",
    "    text += str(wd)\n",
    "    if wd==6:\n",
    "        text+=' '\n",
    "weeks = text.split()\n",
    "even_wk = 0\n",
    "odd_wk = 0\n",
    "for w in weeks:\n",
    "    if len(w)==7:\n",
    "        even_wk += 1\n",
    "    else:\n",
    "        odd_wk += 1\n",
    "print(\"Số tuần chẵn = \", even_wk)\n",
    "print(\"Số tuần lẻ = \", odd_wk)"
   ]
  },
  {
   "cell_type": "code",
   "execution_count": 22,
   "id": "dfb35291",
   "metadata": {},
   "outputs": [],
   "source": [
    "def weekAnalys(month, year):\n",
    "    text = \"\"\n",
    "    days = dayOfMonth(month, year)\n",
    "    for i in range(1, days+1, 1):\n",
    "        mydate = datetime.date(year, month, i)\n",
    "        wd = mydate.weekday()\n",
    "        text += str(wd)\n",
    "        if wd==6:\n",
    "            text+=' '\n",
    "    weeks = text.split()\n",
    "    even_wk = 0\n",
    "    odd_wk = 0\n",
    "    for w in weeks:\n",
    "        if len(w)==7:\n",
    "            even_wk += 1\n",
    "        else:\n",
    "            odd_wk += 1\n",
    "    return even_wk+odd_wk, even_wk, odd_wk"
   ]
  },
  {
   "cell_type": "code",
   "execution_count": 23,
   "id": "4f29077e",
   "metadata": {},
   "outputs": [
    {
     "name": "stdout",
     "output_type": "stream",
     "text": [
      "(5, 4, 1)\n"
     ]
    }
   ],
   "source": [
    "print(weekAnalys(4, 2023))"
   ]
  },
  {
   "cell_type": "code",
   "execution_count": 24,
   "id": "0c528036",
   "metadata": {},
   "outputs": [
    {
     "name": "stdout",
     "output_type": "stream",
     "text": [
      "(5, 3, 2)\n"
     ]
    }
   ],
   "source": [
    "print(weekAnalys(3, 2023))"
   ]
  },
  {
   "cell_type": "code",
   "execution_count": 25,
   "id": "18a980d3",
   "metadata": {},
   "outputs": [
    {
     "name": "stdout",
     "output_type": "stream",
     "text": [
      "(6, 4, 2)\n",
      "(5, 3, 2)\n",
      "(5, 3, 2)\n",
      "(5, 4, 1)\n",
      "(5, 4, 1)\n",
      "(5, 3, 2)\n",
      "(6, 4, 2)\n",
      "(5, 3, 2)\n",
      "(5, 3, 2)\n",
      "(6, 4, 2)\n",
      "(5, 3, 2)\n",
      "(5, 4, 1)\n"
     ]
    }
   ],
   "source": [
    "for i in range(1, 13, 1):\n",
    "    print(weekAnalys(i, 2023))"
   ]
  },
  {
   "cell_type": "markdown",
   "id": "931884de",
   "metadata": {},
   "source": [
    "**Tìm 8 số nhỏ hơn 200000 sao cho số đó = tổng luỹ thừa 5 các chữa số trong số đó. ABCD = A^5+B^5+C^5+D^5**"
   ]
  },
  {
   "cell_type": "code",
   "execution_count": 2,
   "id": "3a05f646",
   "metadata": {},
   "outputs": [],
   "source": [
    "def findNumbers(limit = 200000, count = 8, p = 5):\n",
    "    \"\"\"\n",
    "    Hàm tìm 'count' số nhỏ hơn 'limit' để tổng lỹ thừa 'p' các chữ số trong số đó bằng chuinhs số đó\n",
    "    \"\"\"\n",
    "    found = 0\n",
    "    result = \"\"\n",
    "    for i in range(1, limit+1, 1):\n",
    "        _sum = 0\n",
    "        for j in str(i):\n",
    "            _sum += int(j)**p\n",
    "        if _sum == i:\n",
    "            found+=1\n",
    "            result += str(i) + \" \"\n",
    "            if found == count:\n",
    "                break\n",
    "    return result, found\n",
    "        "
   ]
  },
  {
   "cell_type": "code",
   "execution_count": 3,
   "id": "b47e896c",
   "metadata": {},
   "outputs": [
    {
     "data": {
      "text/plain": [
       "('1 4150 4151 54748 92727 93084 194979 ', 7)"
      ]
     },
     "execution_count": 3,
     "metadata": {},
     "output_type": "execute_result"
    }
   ],
   "source": [
    "findNumbers()"
   ]
  },
  {
   "cell_type": "markdown",
   "id": "870760e8",
   "metadata": {},
   "source": [
    "**Nhập vào một số nguyên N trong hệ thập phân. Viết phần mềm chuyển số N trong hệ thập phân sang hệ nhị phân.**"
   ]
  },
  {
   "cell_type": "code",
   "execution_count": 21,
   "id": "feffea57",
   "metadata": {},
   "outputs": [],
   "source": [
    "def convertToBinary(n):\n",
    "    re = \"\"\n",
    "    while n!=0:\n",
    "        re=str(n%2)+re\n",
    "        #re+=str(n%2)\n",
    "        n = n//2\n",
    "    #re=re[::-1]\n",
    "    return re\n",
    "    "
   ]
  },
  {
   "cell_type": "code",
   "execution_count": 22,
   "id": "50d2fa4f",
   "metadata": {
    "scrolled": true
   },
   "outputs": [
    {
     "data": {
      "text/plain": [
       "'10000'"
      ]
     },
     "execution_count": 22,
     "metadata": {},
     "output_type": "execute_result"
    }
   ],
   "source": [
    "convertToBinary(16)"
   ]
  },
  {
   "cell_type": "code",
   "execution_count": 3,
   "id": "23637ae5",
   "metadata": {},
   "outputs": [],
   "source": [
    "def myTile(name):\n",
    "    newname = \"\"\n",
    "    words = name.split()\n",
    "    for w in words:\n",
    "        newname += w[0].upper() + w[1:].lower() + ' '\n",
    "    newname = newname.strip()\n",
    "    return newname"
   ]
  },
  {
   "cell_type": "code",
   "execution_count": 4,
   "id": "10a77441",
   "metadata": {},
   "outputs": [
    {
     "data": {
      "text/plain": [
       "'Hoàng Văn Điển'"
      ]
     },
     "execution_count": 4,
     "metadata": {},
     "output_type": "execute_result"
    }
   ],
   "source": [
    "myTile('   Hoàng      văn   điểN    ')"
   ]
  },
  {
   "cell_type": "code",
   "execution_count": null,
   "id": "a9dda174",
   "metadata": {},
   "outputs": [],
   "source": []
  }
 ],
 "metadata": {
  "kernelspec": {
   "display_name": "Python 3 (ipykernel)",
   "language": "python",
   "name": "python3"
  },
  "language_info": {
   "codemirror_mode": {
    "name": "ipython",
    "version": 3
   },
   "file_extension": ".py",
   "mimetype": "text/x-python",
   "name": "python",
   "nbconvert_exporter": "python",
   "pygments_lexer": "ipython3",
   "version": "3.9.13"
  }
 },
 "nbformat": 4,
 "nbformat_minor": 5
}
