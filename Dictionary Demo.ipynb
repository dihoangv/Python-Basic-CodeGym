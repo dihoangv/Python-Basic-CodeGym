{
 "cells": [
  {
   "cell_type": "code",
   "execution_count": 1,
   "id": "ff4294a6",
   "metadata": {},
   "outputs": [],
   "source": [
    "fruits = {'Apple':'Red', 'Cherry':'Red', 'Mango':'Yellow', 'Grape':'Green'}"
   ]
  },
  {
   "cell_type": "code",
   "execution_count": 2,
   "id": "d0d06190",
   "metadata": {},
   "outputs": [
    {
     "name": "stdout",
     "output_type": "stream",
     "text": [
      "{'Apple': 'Red', 'Cherry': 'Red', 'Mango': 'Yellow', 'Grape': 'Green'}\n"
     ]
    }
   ],
   "source": [
    "print(fruits)"
   ]
  },
  {
   "cell_type": "code",
   "execution_count": 3,
   "id": "c86d84f7",
   "metadata": {},
   "outputs": [
    {
     "name": "stdout",
     "output_type": "stream",
     "text": [
      "<class 'dict'>\n"
     ]
    }
   ],
   "source": [
    "print(type(fruits))"
   ]
  },
  {
   "cell_type": "code",
   "execution_count": 4,
   "id": "b3625586",
   "metadata": {},
   "outputs": [],
   "source": [
    "empty_dict = {}"
   ]
  },
  {
   "cell_type": "code",
   "execution_count": 22,
   "id": "3d3518a7",
   "metadata": {},
   "outputs": [],
   "source": [
    "cities = {'VietNam':'Hanoi', 'China':'Bejing', 'VietNam':'HaiPhong'}"
   ]
  },
  {
   "cell_type": "code",
   "execution_count": 6,
   "id": "2175b38d",
   "metadata": {},
   "outputs": [
    {
     "name": "stdout",
     "output_type": "stream",
     "text": [
      "{'VietNam': 'HaiPhong', 'China': 'Bejing'}\n"
     ]
    }
   ],
   "source": [
    "print(cities)"
   ]
  },
  {
   "cell_type": "code",
   "execution_count": 7,
   "id": "f74290e1",
   "metadata": {},
   "outputs": [
    {
     "name": "stdout",
     "output_type": "stream",
     "text": [
      "{}\n"
     ]
    }
   ],
   "source": [
    "cities.clear()\n",
    "print(cities)"
   ]
  },
  {
   "cell_type": "code",
   "execution_count": 10,
   "id": "3fc6e0fa",
   "metadata": {},
   "outputs": [
    {
     "name": "stdout",
     "output_type": "stream",
     "text": [
      "HaiPhong\n",
      "{'China': 'Bejing'}\n"
     ]
    }
   ],
   "source": [
    "result = cities.pop('VietNam')\n",
    "print(result)\n",
    "print(cities)"
   ]
  },
  {
   "cell_type": "code",
   "execution_count": 11,
   "id": "6849e245",
   "metadata": {},
   "outputs": [
    {
     "name": "stdout",
     "output_type": "stream",
     "text": [
      "{'Thailand': 'Bankok'}\n"
     ]
    }
   ],
   "source": [
    "result = cities.fromkeys(['Thailand'], 'Bankok')\n",
    "print(result)"
   ]
  },
  {
   "cell_type": "code",
   "execution_count": 14,
   "id": "299a939f",
   "metadata": {},
   "outputs": [
    {
     "name": "stdout",
     "output_type": "stream",
     "text": [
      "dict_items([('VietNam', 'HaiPhong'), ('China', 'Bejing')])\n"
     ]
    }
   ],
   "source": [
    "print(cities.items())"
   ]
  },
  {
   "cell_type": "code",
   "execution_count": 16,
   "id": "0f6dd04b",
   "metadata": {},
   "outputs": [
    {
     "data": {
      "text/plain": [
       "dict_keys(['VietNam', 'China'])"
      ]
     },
     "execution_count": 16,
     "metadata": {},
     "output_type": "execute_result"
    }
   ],
   "source": [
    "cities.keys()"
   ]
  },
  {
   "cell_type": "code",
   "execution_count": 20,
   "id": "b17ad228",
   "metadata": {},
   "outputs": [
    {
     "data": {
      "text/plain": [
       "dict_values(['HaiPhong', 'Bejing'])"
      ]
     },
     "execution_count": 20,
     "metadata": {},
     "output_type": "execute_result"
    }
   ],
   "source": [
    "cities.values()"
   ]
  },
  {
   "cell_type": "code",
   "execution_count": 23,
   "id": "3537a1b9",
   "metadata": {},
   "outputs": [],
   "source": [
    "del cities['China']"
   ]
  },
  {
   "cell_type": "code",
   "execution_count": 5,
   "id": "12c317b3",
   "metadata": {},
   "outputs": [],
   "source": [
    "fruits = {'Apple':'Red', 'Cherry':'Red', 'Mango':'Yellow', 'Grape':'Green'}"
   ]
  },
  {
   "cell_type": "code",
   "execution_count": 2,
   "id": "5a5498b7",
   "metadata": {},
   "outputs": [
    {
     "name": "stdout",
     "output_type": "stream",
     "text": [
      "Key = Apple, value = Red\n",
      "Key = Cherry, value = Red\n",
      "Key = Mango, value = Yellow\n",
      "Key = Grape, value = Green\n"
     ]
    }
   ],
   "source": [
    "for key in fruits.keys():\n",
    "    print(f'Key = {key}, value = {fruits[key]}')"
   ]
  },
  {
   "cell_type": "code",
   "execution_count": 4,
   "id": "1dc04833",
   "metadata": {},
   "outputs": [
    {
     "name": "stdout",
     "output_type": "stream",
     "text": [
      "Key = Apple, value = Red\n",
      "Key = Cherry, value = Red\n",
      "Key = Mango, value = Yellow\n",
      "Key = Grape, value = Green\n"
     ]
    }
   ],
   "source": [
    "for k, val in fruits.items():\n",
    "    print(f'Key = {k}, value = {val}')"
   ]
  },
  {
   "cell_type": "code",
   "execution_count": 6,
   "id": "758cf7a5",
   "metadata": {},
   "outputs": [],
   "source": [
    "#Thêm phần tử vào DIC\\\n",
    "fruits['Banana'] = 'Yellow'"
   ]
  },
  {
   "cell_type": "code",
   "execution_count": 7,
   "id": "aaacee3b",
   "metadata": {},
   "outputs": [
    {
     "name": "stdout",
     "output_type": "stream",
     "text": [
      "{'Apple': 'Red', 'Cherry': 'Red', 'Mango': 'Yellow', 'Grape': 'Green', 'Banana': 'Yellow'}\n"
     ]
    }
   ],
   "source": [
    "print(fruits)"
   ]
  },
  {
   "cell_type": "code",
   "execution_count": 8,
   "id": "7b423148",
   "metadata": {},
   "outputs": [],
   "source": [
    "#Cập nhập:\n",
    "fruits['Mango'] = 'Green'"
   ]
  },
  {
   "cell_type": "code",
   "execution_count": 9,
   "id": "a7ba049a",
   "metadata": {},
   "outputs": [
    {
     "name": "stdout",
     "output_type": "stream",
     "text": [
      "{'Apple': 'Red', 'Cherry': 'Red', 'Mango': 'Green', 'Grape': 'Green', 'Banana': 'Yellow'}\n"
     ]
    }
   ],
   "source": [
    "print(fruits)"
   ]
  },
  {
   "cell_type": "markdown",
   "id": "90df76b7",
   "metadata": {},
   "source": [
    "**Nhập vào 1 chuỗi các chữ cái. Đếm xem số lượng của từng chữ cái trong chuỗi vừa nhập**"
   ]
  },
  {
   "cell_type": "code",
   "execution_count": 14,
   "id": "67a24e42",
   "metadata": {},
   "outputs": [
    {
     "name": "stdout",
     "output_type": "stream",
     "text": [
      "{'H': 1, 'e': 1, 'l': 3, 'o': 2, ' ': 1, 'w': 1, 'r': 1, 'd': 1}\n",
      "<class 'dict'>\n"
     ]
    }
   ],
   "source": [
    "text = 'Hello world'\n",
    "#result = {'H':1....}\n",
    "result = {}\n",
    "for i in text:\n",
    "    if i in result:\n",
    "        result[i] +=1\n",
    "    else:\n",
    "        result[i] =1\n",
    "print(result)\n",
    "print(type(result))"
   ]
  },
  {
   "cell_type": "code",
   "execution_count": 15,
   "id": "d03b5f3a",
   "metadata": {},
   "outputs": [
    {
     "name": "stdout",
     "output_type": "stream",
     "text": [
      "{'H': 1, 'e': 1, 'l': 3, 'o': 2, ' ': 1, 'w': 1, 'r': 1, 'd': 1}\n"
     ]
    }
   ],
   "source": [
    "result = {}\n",
    "for i in text:\n",
    "    result[i] = text.count(i)\n",
    "print(result)\n",
    "    "
   ]
  },
  {
   "cell_type": "code",
   "execution_count": 17,
   "id": "95f551ab",
   "metadata": {},
   "outputs": [
    {
     "name": "stdout",
     "output_type": "stream",
     "text": [
      "{'H': 0, 'e': 0, 'l': 0, 'o': 0, ' ': 0, 'w': 0, 'r': 0, 'd': 0}\n",
      "{'H': 1, 'e': 1, 'l': 3, 'o': 2, ' ': 1, 'w': 1, 'r': 1, 'd': 1}\n"
     ]
    }
   ],
   "source": [
    "result = dict.fromkeys(text,0)\n",
    "print(result)\n",
    "for i in text:\n",
    "    result[i] += 1\n",
    "print(result)"
   ]
  },
  {
   "cell_type": "markdown",
   "id": "547d778c",
   "metadata": {},
   "source": [
    "**Cho một list toạ độ các điểm [(3,3), (3,-1), (7,0), (9,3)]. Tìm điểm sao cho khoảng cách từ điểm đó đến các điểm còn lại trong list là nhỏ nhất.**"
   ]
  },
  {
   "cell_type": "code",
   "execution_count": 31,
   "id": "52aba602",
   "metadata": {},
   "outputs": [],
   "source": [
    "points = [(3,3), (3,-1), (7,0), (9,3)]"
   ]
  },
  {
   "cell_type": "code",
   "execution_count": 32,
   "id": "db612456",
   "metadata": {},
   "outputs": [],
   "source": [
    "def distance(x, y):\n",
    "    return ((x[0] - y[0])**2 + (x[1] - y[1])**2)**0.5"
   ]
  },
  {
   "cell_type": "code",
   "execution_count": 33,
   "id": "60bd7be7",
   "metadata": {},
   "outputs": [],
   "source": [
    "disc = dict.fromkeys(points, 0)"
   ]
  },
  {
   "cell_type": "code",
   "execution_count": 34,
   "id": "d6dc3e94",
   "metadata": {},
   "outputs": [
    {
     "name": "stdout",
     "output_type": "stream",
     "text": [
      "{(3, 3): 15.0, (3, -1): 15.33420817654564, (7, 0): 12.728656901081651, (9, 3): 16.816653826391967}\n"
     ]
    }
   ],
   "source": [
    "for i in points:\n",
    "    for j in points:\n",
    "        disc[i] += distance(i,j)\n",
    "print(disc)"
   ]
  },
  {
   "cell_type": "code",
   "execution_count": 35,
   "id": "eb925304",
   "metadata": {},
   "outputs": [
    {
     "name": "stdout",
     "output_type": "stream",
     "text": [
      "Khoảng cách nhỏ nhất 12.728656901081651\n"
     ]
    }
   ],
   "source": [
    "min_distance = disc[points[0]]\n",
    "for i in disc.values():\n",
    "    if i<min_distance:\n",
    "        min_distance = i\n",
    "print('Khoảng cách nhỏ nhất', min_distance)"
   ]
  },
  {
   "cell_type": "code",
   "execution_count": 39,
   "id": "7b862049",
   "metadata": {},
   "outputs": [
    {
     "name": "stdout",
     "output_type": "stream",
     "text": [
      "{(7, 0): 12.728656901081651, (3, 3): 15.0, (3, -1): 15.33420817654564, (9, 3): 16.816653826391967}\n"
     ]
    }
   ],
   "source": [
    "a = sorted(disc.items(), key = lambda x:x[1])\n",
    "result = dict(a)\n",
    "print(result)"
   ]
  },
  {
   "cell_type": "code",
   "execution_count": 44,
   "id": "7a96f94a",
   "metadata": {},
   "outputs": [
    {
     "name": "stdout",
     "output_type": "stream",
     "text": [
      "{(7, 0): 12.728656901081651, (3, 3): 15.0, (3, -1): 15.33420817654564, (9, 3): 16.816653826391967}\n"
     ]
    }
   ],
   "source": [
    "print(result)"
   ]
  },
  {
   "cell_type": "code",
   "execution_count": 37,
   "id": "9ba6e2d3",
   "metadata": {},
   "outputs": [
    {
     "name": "stdout",
     "output_type": "stream",
     "text": [
      "(7, 0)\n"
     ]
    }
   ],
   "source": [
    "for p, dis in disc.items():\n",
    "    if dis == min_distance:\n",
    "        print(p)"
   ]
  },
  {
   "cell_type": "code",
   "execution_count": 1,
   "id": "78f43dc2",
   "metadata": {},
   "outputs": [],
   "source": [
    "fruits = {'Apple':30, 'Mango':3, 'Lemon':10}"
   ]
  },
  {
   "cell_type": "code",
   "execution_count": 2,
   "id": "5e48be55",
   "metadata": {},
   "outputs": [
    {
     "name": "stdout",
     "output_type": "stream",
     "text": [
      "Có\n"
     ]
    }
   ],
   "source": [
    "for k, v in fruits.items():\n",
    "    if k=='Apple' and v !=0:\n",
    "        print('Có')\n",
    "        break"
   ]
  },
  {
   "cell_type": "code",
   "execution_count": 3,
   "id": "f381531d",
   "metadata": {},
   "outputs": [],
   "source": [
    "fruits['Chery'] = 7"
   ]
  },
  {
   "cell_type": "code",
   "execution_count": 4,
   "id": "edacea12",
   "metadata": {},
   "outputs": [
    {
     "name": "stdout",
     "output_type": "stream",
     "text": [
      "{'Apple': 30, 'Mango': 3, 'Lemon': 10, 'Chery': 7}\n"
     ]
    }
   ],
   "source": [
    "print(fruits)"
   ]
  },
  {
   "cell_type": "code",
   "execution_count": 5,
   "id": "fbfdd8db",
   "metadata": {},
   "outputs": [],
   "source": [
    "fruits['Chery'] = 10"
   ]
  },
  {
   "cell_type": "code",
   "execution_count": 6,
   "id": "eb9703a6",
   "metadata": {},
   "outputs": [
    {
     "name": "stdout",
     "output_type": "stream",
     "text": [
      "{'Apple': 30, 'Mango': 3, 'Lemon': 10, 'Chery': 10}\n"
     ]
    }
   ],
   "source": [
    "print(fruits)"
   ]
  },
  {
   "cell_type": "code",
   "execution_count": 8,
   "id": "06baa182",
   "metadata": {},
   "outputs": [],
   "source": [
    "del fruits['Chery']"
   ]
  },
  {
   "cell_type": "code",
   "execution_count": 9,
   "id": "988575f2",
   "metadata": {},
   "outputs": [
    {
     "name": "stdout",
     "output_type": "stream",
     "text": [
      "{'Apple': 30, 'Mango': 3, 'Lemon': 10}\n"
     ]
    }
   ],
   "source": [
    "print(fruits)"
   ]
  },
  {
   "cell_type": "code",
   "execution_count": 12,
   "id": "33a31596",
   "metadata": {},
   "outputs": [
    {
     "name": "stdout",
     "output_type": "stream",
     "text": [
      "{'P': 1, 'y': 1, 't': 1, 'h': 1, 'o': 2, 'n': 2, ' ': 1, 'p': 1, 'r': 2, 'g': 2, 'a': 1, 'm': 2, 'i': 1}\n"
     ]
    }
   ],
   "source": [
    "#Nhập vào 1 chuỗi. Tính số lượng xuất hiện của mỗi chữ cái trong chuỗi\n",
    "text = \"Python programming\"\n",
    "result = dict.fromkeys(text,0)\n",
    "for i in text:\n",
    "    result[i] += 1\n",
    "print(result)"
   ]
  },
  {
   "cell_type": "markdown",
   "id": "c97176d5",
   "metadata": {},
   "source": [
    "Viết một mini game giúp người dùng học từ mới tiếng Anh. Mỗi lần chơi màn hình sẽ hiển thị một từ tiếng anh (Hiển thị ngẫu nhiên  từ một diction  nảy có khoá là tiếng Anh, giá trị là nghĩa của từ đó bằng tiếng việt, và yêu cầu người dùng nhập vào nghĩa tiếng Việt, nếu đúng thì hiển thị Đúng ngược lại hiển thị Sai, và sau mỗi lần chương trình đánh giá kết quả đúng hay sai xong thì từ mới tiếng Anh khác lại xuất hiện và cứ lặp lại như thế đến khi nào người dùng nhập từ Quit"
   ]
  },
  {
   "cell_type": "code",
   "execution_count": 7,
   "id": "e2e39d6d",
   "metadata": {},
   "outputs": [],
   "source": [
    "vocabulary = {'donkey':'con lừa', 'lion':'sư tử', 'apple':'quả táo', 'monkey':'con khỉ', 'book':'quyển sách'}"
   ]
  },
  {
   "cell_type": "code",
   "execution_count": 8,
   "id": "53238dde",
   "metadata": {},
   "outputs": [],
   "source": [
    "import random"
   ]
  },
  {
   "cell_type": "code",
   "execution_count": 9,
   "id": "21fbf8e3",
   "metadata": {},
   "outputs": [],
   "source": [
    "en_words_list = list(vocabulary.keys())\n",
    "en_word = random.choice(en_words_list)"
   ]
  },
  {
   "cell_type": "markdown",
   "id": "3300c723",
   "metadata": {},
   "source": [
    "Bước 1: Chương trình đưa ra từ tiếng Anh\n",
    "Bước 2: Người chơi nhập nghĩa tiếng Việt của từ Tiếng Anh xuất hiện ở trên\n",
    "Bước 3: Chương trình phải kết luận: Đúng hay Sai\n",
    "Bước 4: Chương trình hỏi có tiếp tục chơi hay không? nếu tiếp tục quay lại bước 1, ngược lại thì kết thúc chương trình"
   ]
  },
  {
   "cell_type": "code",
   "execution_count": 4,
   "id": "5c5ba054",
   "metadata": {},
   "outputs": [
    {
     "name": "stdout",
     "output_type": "stream",
     "text": [
      "donkey\n"
     ]
    }
   ],
   "source": [
    "print(en_word)"
   ]
  },
  {
   "cell_type": "code",
   "execution_count": 23,
   "id": "12635e21",
   "metadata": {},
   "outputs": [],
   "source": [
    "def loadData(path):\n",
    "    vocabulary = {}\n",
    "    f = open('Data.txt', 'r', encoding='utf')\n",
    "    for i in f:\n",
    "        words = i.split(':')\n",
    "        if words[1].count('\\n')!=0:\n",
    "            vocabulary[words[0]] = words[1][:-1].strip()\n",
    "        else:\n",
    "            vocabulary[words[0]] = words[1].strip()\n",
    "    f.close()\n",
    "    return vocabulary"
   ]
  },
  {
   "cell_type": "code",
   "execution_count": 24,
   "id": "1ea42de1",
   "metadata": {},
   "outputs": [
    {
     "name": "stdout",
     "output_type": "stream",
     "text": [
      "{'donkey': 'con lừa', 'lion': 'sư tử', 'apple': 'quả táo', 'monkey': 'con khỉ', 'book': 'quyển sách'}\n"
     ]
    }
   ],
   "source": [
    "print(loadData('Data.txt'))"
   ]
  },
  {
   "cell_type": "code",
   "execution_count": 6,
   "id": "aed7cca4",
   "metadata": {},
   "outputs": [
    {
     "name": "stdout",
     "output_type": "stream",
     "text": [
      "Chương trình học từ mới\n",
      "English: donkey\n",
      "Nhập nghĩa tiếng Việt:con lừa\n",
      "donkey con lừa\n",
      "Câu trả lời chính xác\n",
      "Bạn có chơi tiếp không?co\n",
      "English: donkey\n",
      "Nhập nghĩa tiếng Việt:con khỉ\n",
      "donkey con lừa\n",
      "Chưa chính xác\n",
      "Bạn có chơi tiếp không?quit\n"
     ]
    }
   ],
   "source": [
    "print('Chương trình học từ mới')\n",
    "lua_chon = ''\n",
    "while(lua_chon != 'quit'):\n",
    "    print(f'English: {en_word}')\n",
    "    char=input(f'Nhập nghĩa tiếng Việt:')\n",
    "    for k,v in vocabulary.items():\n",
    "        print(k,v)\n",
    "        if k==en_word and v==char:\n",
    "            print('Câu trả lời chính xác')\n",
    "            break\n",
    "        else:\n",
    "            print('Chưa chính xác')\n",
    "            break\n",
    "    lua_chon = input('Bạn có chơi tiếp không?')"
   ]
  },
  {
   "cell_type": "code",
   "execution_count": 22,
   "id": "ab3a9723",
   "metadata": {},
   "outputs": [
    {
     "name": "stdout",
     "output_type": "stream",
     "text": [
      "Nghĩa tiếng việt của từ lion là gì?\n",
      "Câu trả lời của bạn là: sư tử\n",
      "Bravo, đúng rồi\n",
      "Enter để tiếp tục chơi, nhập ký tự bất kỳ để Quit\n",
      "Nghĩa tiếng việt của từ monkey là gì?\n",
      "Câu trả lời của bạn là: con khỉ\n",
      "Bravo, đúng rồi\n",
      "Enter để tiếp tục chơi, nhập ký tự bất kỳ để Quit\n",
      "Nghĩa tiếng việt của từ book là gì?\n",
      "Câu trả lời của bạn là: sach\n",
      "Chưa chính xác\n",
      "Enter để tiếp tục chơi, nhập ký tự bất kỳ để Quit\n",
      "Nghĩa tiếng việt của từ donkey là gì?\n",
      "Câu trả lời của bạn là: con lừa\n",
      "Bravo, đúng rồi\n",
      "Enter để tiếp tục chơi, nhập ký tự bất kỳ để Quit \n",
      "Chương trình kết thúc...\n"
     ]
    }
   ],
   "source": [
    "vocabulary = loadData('data.txt')\n",
    "en_words_list = list(vocabulary.keys())\n",
    "while True:\n",
    "    en_word = random.choice(en_words_list)\n",
    "    print(f'Nghĩa tiếng việt của từ {en_word} là gì?')\n",
    "    vn_word = input(\"Câu trả lời của bạn là: \")\n",
    "    if vocabulary[en_word].lower() == vn_word.strip().lower():\n",
    "        print('Bravo, đúng rồi')\n",
    "    else:\n",
    "        print('Chưa chính xác')\n",
    "    confirmation = input('Enter để tiếp tục chơi, nhập ký tự bất kỳ để Quit')\n",
    "    if confirmation.lower()!='':\n",
    "        print(\"Chương trình kết thúc...\")\n",
    "        break\n",
    "    "
   ]
  },
  {
   "cell_type": "code",
   "execution_count": null,
   "id": "fc64df1d",
   "metadata": {},
   "outputs": [],
   "source": []
  }
 ],
 "metadata": {
  "kernelspec": {
   "display_name": "Python 3 (ipykernel)",
   "language": "python",
   "name": "python3"
  },
  "language_info": {
   "codemirror_mode": {
    "name": "ipython",
    "version": 3
   },
   "file_extension": ".py",
   "mimetype": "text/x-python",
   "name": "python",
   "nbconvert_exporter": "python",
   "pygments_lexer": "ipython3",
   "version": "3.9.13"
  }
 },
 "nbformat": 4,
 "nbformat_minor": 5
}
