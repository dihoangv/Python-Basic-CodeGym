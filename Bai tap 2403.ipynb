{
 "cells": [
  {
   "cell_type": "markdown",
   "id": "a69a4852",
   "metadata": {},
   "source": [
    "### **Bài 1. Theo luật từ năm 2020 thuế suất thu nhập cá nhân được tính như sau: Nếu phần thu nhập tính thuế/tháng đến 5 triệu thì thuế suất là 5%. Trên 5 triệu đến 10 triệu thì thuế suất là 10%. Trên 10 triệu đến 18 triệu là 15%. Trên 18 triệu đến 32 triệu là 20%. Trên 32 triệu đến 52 triệu là 25%. Trên 52 triệu đến 80 triệu là 30%. Trên 80 triệu là 35%. Tính: Thuế TNCN phải đóng khi biết tổng thu nhập và số người phụ thuộc. Biết rằng, mức giảm trừ gia cảnh được áp dụng cho bản thân người đóng thuế là 11 triệu/tháng. Mức áp dụng đối với người phụ thuộc là 4,4 triệu/tháng. Thu nhập tính thuế thu nhập cá nhân là thu nhập còn lại sau khi tổng thu nhập đã trừ đi các tổng giảm trừ gia cảnh.**\n"
   ]
  },
  {
   "cell_type": "code",
   "execution_count": 1,
   "id": "fb9c6536",
   "metadata": {},
   "outputs": [
    {
     "name": "stdout",
     "output_type": "stream",
     "text": [
      "Thu nhập: 20000000\n",
      "Số người phụ thuộc: 0\n",
      "Thu nhập bị chịu thuế là: 9000000.0\n",
      "Thuế TNCN phải đóng: 650000.0\n"
     ]
    }
   ],
   "source": [
    "thu_nhap = float(input('Thu nhập: '))\n",
    "giam_tru = int(input('Số người phụ thuộc: '))\n",
    "chiu_thue = thu_nhap-11000000-giam_tru*4400000\n",
    "\n",
    "print('Thu nhập bị chịu thuế là:', chiu_thue)\n",
    "if (0<chiu_thue<=5000000):\n",
    "    tncn = chiu_thue*0.05\n",
    "    print('Thuế TNCN phải đóng:',tncn)\n",
    "elif (5000000<chiu_thue<=10000000):\n",
    "    tncn = 5000000*0.05+(chiu_thue-5000000)*0.1\n",
    "    print('Thuế TNCN phải đóng:',tncn)\n",
    "elif (10000000<chiu_thue<=18000000):\n",
    "    tncn = 5000000*0.05+5000000*0.1+(chiu_thue-10000000)*0.15\n",
    "    print('Thuế TNCN phải đóng:',tncn)\n",
    "elif (18000000<chiu_thue<=32000000):\n",
    "    tncn = 5000000*0.05+5000000*0.1+8000000*0.15+(chiu_thue-18000000)*0.2\n",
    "    print('Thuế TNCN phải đóng:',tncn)\n",
    "elif (32000000<chiu_thue<=52000000):\n",
    "    tncn = 5000000*0.05+5000000*0.1+8000000*0.15+14000000*0.2+(chiu_thue-32000000)*0.25\n",
    "    print('Thuế TNCN phải đóng:',tncn)\n",
    "elif (52000000<chiu_thue<=80000000):\n",
    "    tncn = 5000000*0.05+5000000*0.1+8000000*0.15+14000000*0.2+20000000*0.25+(chiu_thue-52000000)*0.3\n",
    "    print('Thuế TNCN phải đóng:',tncn)\n",
    "elif chiu_thue>80000000:\n",
    "    tncn = 5000000*0.05+5000000*0.1+8000000*0.15+14000000*0.2+20000000*0.25+28000000*0.3+(chiu_thue-80000000)*0.35\n",
    "    print('Thuế TNCN phải đóng:',tncn)\n",
    "else:\n",
    "    print('Không phải đóng thuế')"
   ]
  },
  {
   "cell_type": "markdown",
   "id": "a10c1e34",
   "metadata": {},
   "source": [
    "### ***Bài 2. Viết chương trình để tính cước điện thoại bàn cho một hộ gia đình. Biết rằng phí thuê bao bắt buộc là 25 nghìn, 600 đồng cho mỗi gọi của 50 phút đầu tiên, 400 đồng cho mỗi phút gọi của 150 phút tiếp theo, 200 đồng cho bất kỳ mỗi phút nào sau 200 phút đầu tiên. Nhập vào số phút gọi, tính số tiền mà hộ gia đình đó phải trả!**"
   ]
  },
  {
   "cell_type": "code",
   "execution_count": 16,
   "id": "cf99178c",
   "metadata": {},
   "outputs": [
    {
     "name": "stdout",
     "output_type": "stream",
     "text": [
      "Nhập vào số phút gọi:210\n",
      "Tiền cước mà bạn phải thanh toán:  117000.0\n"
     ]
    }
   ],
   "source": [
    "phut_goi = float(input('Nhập vào số phút gọi:'))\n",
    "\n",
    "if (0<phut_goi<=50):\n",
    "    cuoc_goi = 25000+phut_goi*600\n",
    "elif (50<phut_goi<=200):\n",
    "    cuoc_goi = 25000+50*600+(phut_goi-50)*400\n",
    "else:\n",
    "    cuoc_goi = 25000+50*600+150*400+(phut_goi-200)*200\n",
    "print('Tiền cước mà bạn phải thanh toán: ',cuoc_goi)"
   ]
  },
  {
   "cell_type": "markdown",
   "id": "5638e24a",
   "metadata": {},
   "source": [
    "### **Bài 3. Nhập vào toạ độ của 3 điểm A, B, C. Tìm tọa độ điểm D sao cho 4 điểm ABCD là 4 đỉnh của một hình bình hành.**"
   ]
  },
  {
   "cell_type": "code",
   "execution_count": 21,
   "id": "bdca5ca5",
   "metadata": {},
   "outputs": [
    {
     "name": "stdout",
     "output_type": "stream",
     "text": [
      "Nhập vào toạ độ điểm Ax: 2\n",
      "Nhập vào toạ độ điểm Ay: 1\n",
      "Nhập vào toạ độ điểm Bx: 2\n",
      "Nhập vào toạ độ điểm By: 3\n",
      "Nhập vào toạ độ điểm Cx: 4\n",
      "Nhập vào toạ độ điểm Cy: 5\n",
      "Với toạ độ điểm D: (4.0 7.0) thì ABCD sẽ là 4 đỉnh của một hình bình hành\n"
     ]
    }
   ],
   "source": [
    "Ax = float(input('Nhập vào toạ độ điểm Ax: '))\n",
    "Ay = float(input('Nhập vào toạ độ điểm Ay: '))\n",
    "Bx = float(input('Nhập vào toạ độ điểm Bx: '))\n",
    "By = float(input('Nhập vào toạ độ điểm By: '))\n",
    "Cx = float(input('Nhập vào toạ độ điểm Cx: '))\n",
    "Cy = float(input('Nhập vào toạ độ điểm Cy: '))\n",
    "\n",
    "Dx = Cx+Bx-Ax\n",
    "Dy = Cy+By-Ay\n",
    "\n",
    "if (Bx-Ax == Dx-Cx) and (By-Ay == Dy-Cy):\n",
    "    print(f'Với toạ độ điểm D: ({Dx} {Dy}) thì ABCD sẽ là 4 đỉnh của một hình bình hành')\n",
    "else:\n",
    "    print('4 điểm ABCD không tạo thành 4 đỉnh của một hình bình hành')"
   ]
  },
  {
   "cell_type": "code",
   "execution_count": null,
   "id": "00299ee5",
   "metadata": {},
   "outputs": [],
   "source": []
  },
  {
   "cell_type": "code",
   "execution_count": null,
   "id": "8633e405",
   "metadata": {},
   "outputs": [],
   "source": []
  }
 ],
 "metadata": {
  "kernelspec": {
   "display_name": "Python 3 (ipykernel)",
   "language": "python",
   "name": "python3"
  },
  "language_info": {
   "codemirror_mode": {
    "name": "ipython",
    "version": 3
   },
   "file_extension": ".py",
   "mimetype": "text/x-python",
   "name": "python",
   "nbconvert_exporter": "python",
   "pygments_lexer": "ipython3",
   "version": "3.9.13"
  }
 },
 "nbformat": 4,
 "nbformat_minor": 5
}
