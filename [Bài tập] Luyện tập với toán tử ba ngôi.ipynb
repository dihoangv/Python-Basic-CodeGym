{
 "cells": [
  {
   "cell_type": "markdown",
   "id": "f9f5e17d",
   "metadata": {},
   "source": [
    "## **[Bài tập] Luyện tập với toán tử ba ngôi**"
   ]
  },
  {
   "cell_type": "code",
   "execution_count": 2,
   "id": "5f1282eb",
   "metadata": {},
   "outputs": [
    {
     "name": "stdout",
     "output_type": "stream",
     "text": [
      "Nhập vào số bất kì: 55\n",
      "Số 55 là số lẻ\n"
     ]
    }
   ],
   "source": [
    "num = int(input(\"Nhập vào số bất kì: \"))\n",
    "if num%2 == 0:\n",
    "    print(f\"Số {num} là số chẵn\")\n",
    "else:\n",
    "    print(f\"Số {num} là số lẻ\")"
   ]
  },
  {
   "cell_type": "code",
   "execution_count": null,
   "id": "cc91792a",
   "metadata": {},
   "outputs": [],
   "source": []
  }
 ],
 "metadata": {
  "kernelspec": {
   "display_name": "Python 3 (ipykernel)",
   "language": "python",
   "name": "python3"
  },
  "language_info": {
   "codemirror_mode": {
    "name": "ipython",
    "version": 3
   },
   "file_extension": ".py",
   "mimetype": "text/x-python",
   "name": "python",
   "nbconvert_exporter": "python",
   "pygments_lexer": "ipython3",
   "version": "3.9.13"
  }
 },
 "nbformat": 4,
 "nbformat_minor": 5
}
