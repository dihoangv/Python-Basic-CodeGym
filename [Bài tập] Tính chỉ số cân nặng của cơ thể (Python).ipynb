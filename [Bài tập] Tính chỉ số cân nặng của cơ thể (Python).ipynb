{
 "cells": [
  {
   "cell_type": "code",
   "execution_count": 2,
   "id": "ffd9a273",
   "metadata": {},
   "outputs": [
    {
     "name": "stdout",
     "output_type": "stream",
     "text": [
      "Xin mời nhập số cân nặng(kg): 58\n",
      "Xin mời nhập số chiều cao(m): 1.62\n",
      "22.10028959000152\n",
      "Bình Thường\n"
     ]
    }
   ],
   "source": [
    "can_nang = float(input(\"Xin mời nhập số cân nặng(kg): \"))\n",
    "chieu_cao = float(input(\"Xin mời nhập số chiều cao(m): \"))\n",
    "bmi = can_nang/(chieu_cao * chieu_cao)\n",
    "print(bmi)\n",
    "if bmi > 40:\n",
    "    print('Béo phì cấp độ III')\n",
    "elif 35 <= bmi < 40:\n",
    "    print('Béo phì cấp độ II')\n",
    "elif 30 <= bmi < 35:\n",
    "    print('Béo phì cấp độ I')\n",
    "elif 25 <= bmi < 30:\n",
    "    print('Thừa cân ')\n",
    "elif 18.5 <= bmi < 25:\n",
    "    print(\"Bình Thường\")\n",
    "elif 17 <= bmi < 18.5:\n",
    "    print(\"Gầy cấp độ I\")\n",
    "elif 16 <= bmi < 17:\n",
    "    print(\"Gầy cấp độ II\")\n",
    "else:\n",
    "    print(\"Gầy cấp độ III\")"
   ]
  },
  {
   "cell_type": "code",
   "execution_count": null,
   "id": "fde69c7e",
   "metadata": {},
   "outputs": [],
   "source": []
  }
 ],
 "metadata": {
  "kernelspec": {
   "display_name": "Python 3 (ipykernel)",
   "language": "python",
   "name": "python3"
  },
  "language_info": {
   "codemirror_mode": {
    "name": "ipython",
    "version": 3
   },
   "file_extension": ".py",
   "mimetype": "text/x-python",
   "name": "python",
   "nbconvert_exporter": "python",
   "pygments_lexer": "ipython3",
   "version": "3.9.13"
  }
 },
 "nbformat": 4,
 "nbformat_minor": 5
}
