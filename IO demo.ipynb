{
 "cells": [
  {
   "cell_type": "code",
   "execution_count": 14,
   "id": "68894040",
   "metadata": {},
   "outputs": [
    {
     "name": "stdout",
     "output_type": "stream",
     "text": [
      "Python|Android\n"
     ]
    }
   ],
   "source": [
    "print(\"Python\", \"Android\", sep='|', end='\\n')"
   ]
  },
  {
   "cell_type": "code",
   "execution_count": 17,
   "id": "7b88c655",
   "metadata": {},
   "outputs": [
    {
     "name": "stdout",
     "output_type": "stream",
     "text": [
      "Tổng của 16 và 5 là 21\n"
     ]
    }
   ],
   "source": [
    "a = 16\n",
    "b = 5\n",
    "print('Tổng của '+ str(a)+' và ' + str(b) + ' là ' + str(a+b))"
   ]
  },
  {
   "cell_type": "markdown",
   "id": "fe20490a",
   "metadata": {},
   "source": [
    "**Định dạng với index**"
   ]
  },
  {
   "cell_type": "code",
   "execution_count": 20,
   "id": "bd74fdb0",
   "metadata": {},
   "outputs": [
    {
     "name": "stdout",
     "output_type": "stream",
     "text": [
      "Tổng của 16 và 5 là 21\n"
     ]
    }
   ],
   "source": [
    "print(\"Tổng của {0} và {1} là {2}\".format(a, b, a+b))"
   ]
  },
  {
   "cell_type": "markdown",
   "id": "d83ae72a",
   "metadata": {},
   "source": [
    "**Định dạng với keyword**"
   ]
  },
  {
   "cell_type": "code",
   "execution_count": 21,
   "id": "ea44cd19",
   "metadata": {},
   "outputs": [
    {
     "name": "stdout",
     "output_type": "stream",
     "text": [
      "Tổng của 16 và 5 là 21\n"
     ]
    }
   ],
   "source": [
    "print(\"Tổng của {a} và {b} là {c}\".format(a = a, b = b, c = a+b))"
   ]
  },
  {
   "cell_type": "code",
   "execution_count": 23,
   "id": "e56887fd",
   "metadata": {},
   "outputs": [
    {
     "name": "stdout",
     "output_type": "stream",
     "text": [
      "Tổng của 16 và 5 là 21\n"
     ]
    }
   ],
   "source": [
    "print(f\"Tổng của {a} và {b} là {a+b}\")"
   ]
  },
  {
   "cell_type": "code",
   "execution_count": 28,
   "id": "4e58b6b8",
   "metadata": {},
   "outputs": [
    {
     "name": "stdout",
     "output_type": "stream",
     "text": [
      "Nhập 1 số tự nhiên:20\n",
      "20\n",
      "<class 'int'>\n",
      "30\n"
     ]
    }
   ],
   "source": [
    "number = int(input('Nhập 1 số tự nhiên:'))\n",
    "print(number)\n",
    "print(type(number))\n",
    "print(number + 10)"
   ]
  },
  {
   "cell_type": "code",
   "execution_count": null,
   "id": "432a370e",
   "metadata": {},
   "outputs": [],
   "source": []
  }
 ],
 "metadata": {
  "kernelspec": {
   "display_name": "Python 3 (ipykernel)",
   "language": "python",
   "name": "python3"
  },
  "language_info": {
   "codemirror_mode": {
    "name": "ipython",
    "version": 3
   },
   "file_extension": ".py",
   "mimetype": "text/x-python",
   "name": "python",
   "nbconvert_exporter": "python",
   "pygments_lexer": "ipython3",
   "version": "3.9.13"
  }
 },
 "nbformat": 4,
 "nbformat_minor": 5
}
