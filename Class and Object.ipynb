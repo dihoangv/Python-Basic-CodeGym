{
 "cells": [
  {
   "cell_type": "code",
   "execution_count": 15,
   "id": "d383b30d",
   "metadata": {},
   "outputs": [],
   "source": [
    "class Student:\n",
    "    #Liệt kê thuộc tính hay dữ liệu của lớp\n",
    "    name = 'Hà Văn Hoàng'\n",
    "    age =  5\n",
    "    gender = 'Male'\n",
    "    residence = 'Từ Liêm - Hà Nội'\n",
    "    #Phương thức của đối tượng\n",
    "    def __init__(self, name, age, gender, res):\n",
    "        self.name = name\n",
    "        self.age = age\n",
    "        self.gender = gender\n",
    "        self.residence = res\n",
    "        print('Đối tượng đã khởi tạo thành công')\n",
    "                 \n",
    "                 \n",
    "    def run(self):\n",
    "        print('Student can run')\n",
    "    def info(self):\n",
    "        print(f'Name = {self.name}, age = {self.age}, \\\n",
    "        gender = {self.gender}, residence = {self.residence}')\n",
    "    def study(self):\n",
    "        print('Student can study...')\n",
    "    "
   ]
  },
  {
   "cell_type": "code",
   "execution_count": 16,
   "id": "fa4bd90c",
   "metadata": {},
   "outputs": [
    {
     "ename": "TypeError",
     "evalue": "__init__() missing 4 required positional arguments: 'name', 'age', 'gender', and 'res'",
     "output_type": "error",
     "traceback": [
      "\u001b[1;31m---------------------------------------------------------------------------\u001b[0m",
      "\u001b[1;31mTypeError\u001b[0m                                 Traceback (most recent call last)",
      "\u001b[1;32m~\\AppData\\Local\\Temp\\ipykernel_2256\\3868054200.py\u001b[0m in \u001b[0;36m<module>\u001b[1;34m\u001b[0m\n\u001b[0;32m      1\u001b[0m \u001b[1;31m#Để sử dụng, chúng ta tạo các đối tượng\u001b[0m\u001b[1;33m\u001b[0m\u001b[1;33m\u001b[0m\u001b[0m\n\u001b[1;32m----> 2\u001b[1;33m \u001b[0mstud1\u001b[0m \u001b[1;33m=\u001b[0m \u001b[0mStudent\u001b[0m\u001b[1;33m(\u001b[0m\u001b[1;33m)\u001b[0m\u001b[1;33m\u001b[0m\u001b[1;33m\u001b[0m\u001b[0m\n\u001b[0m\u001b[0;32m      3\u001b[0m \u001b[0mstud1\u001b[0m\u001b[1;33m.\u001b[0m\u001b[0minfo\u001b[0m\u001b[1;33m(\u001b[0m\u001b[1;33m)\u001b[0m\u001b[1;33m\u001b[0m\u001b[1;33m\u001b[0m\u001b[0m\n\u001b[0;32m      4\u001b[0m \u001b[0mstud1\u001b[0m\u001b[1;33m.\u001b[0m\u001b[0mstudy\u001b[0m\u001b[1;33m(\u001b[0m\u001b[1;33m)\u001b[0m\u001b[1;33m\u001b[0m\u001b[1;33m\u001b[0m\u001b[0m\n",
      "\u001b[1;31mTypeError\u001b[0m: __init__() missing 4 required positional arguments: 'name', 'age', 'gender', and 'res'"
     ]
    }
   ],
   "source": [
    "#Để sử dụng, chúng ta tạo các đối tượng\n",
    "stud1 = Student()\n",
    "stud1.info()\n",
    "stud1.study()"
   ]
  },
  {
   "cell_type": "code",
   "execution_count": 7,
   "id": "ec8f2fe2",
   "metadata": {},
   "outputs": [
    {
     "name": "stdout",
     "output_type": "stream",
     "text": [
      "Name = Hà Văn Hoàng, age = 5,         gender = Male, residence = Từ Liêm - Hà Nội\n"
     ]
    }
   ],
   "source": [
    "stud2 = Student()\n",
    "stud2.info()"
   ]
  },
  {
   "cell_type": "code",
   "execution_count": 18,
   "id": "f844c108",
   "metadata": {},
   "outputs": [
    {
     "name": "stdout",
     "output_type": "stream",
     "text": [
      "Đối tượng đã khởi tạo thành công\n",
      "Name = Lê Văn Vĩnh, age = 20,         gender = Male, residence = Đống Đa - Hà Nội\n"
     ]
    }
   ],
   "source": [
    "stud1 = Student(\"Lê Văn Vĩnh\", 20, 'Male', 'Đống Đa - Hà Nội')\n",
    "stud1.info()"
   ]
  },
  {
   "cell_type": "markdown",
   "id": "ceafc1b9",
   "metadata": {},
   "source": [
    "**Xây dựng lớp hình tròng gồm thuộc tính bán kính r và các phương thức tính chu vi, diện tích hình tròn**"
   ]
  },
  {
   "cell_type": "code",
   "execution_count": 37,
   "id": "6f409c7b",
   "metadata": {},
   "outputs": [],
   "source": [
    "class Circle:\n",
    "    #Hàm khởi tạo\n",
    "    def __init__(self,r):\n",
    "        self.r = r\n",
    "        if r<=0:\n",
    "            print('Bán kinh phải là số dương')\n",
    "        else:\n",
    "            self.r = r\n",
    "    def length(self):\n",
    "        if self.r>0:\n",
    "            return 2*3.14.self.r\n",
    "    def area(self):\n",
    "        if self.r>0:\n",
    "            return 3.14*self.r*self.r\n",
    "    def display(self):\n",
    "        print(f'r = {self.r}, s = {self.area()}')"
   ]
  },
  {
   "cell_type": "code",
   "execution_count": 38,
   "id": "dd501868",
   "metadata": {},
   "outputs": [
    {
     "name": "stdout",
     "output_type": "stream",
     "text": [
      "Bán kinh phải là số dương\n",
      "Chu vi =  None\n",
      "Diện tích =  None\n"
     ]
    }
   ],
   "source": [
    "ht1 = Circle(-10)\n",
    "if ht1!=None:\n",
    "    print('Chu vi = ', ht1.length())\n",
    "    print('Diện tích = ', ht1.area())\n",
    "else:\n",
    "    print('Bán kính là số dương')"
   ]
  },
  {
   "cell_type": "markdown",
   "id": "070340cb",
   "metadata": {},
   "source": [
    "**Khởi tạo 100 hình tròn, tìm hình tròn có bán kính lớn nhất, sắp xếp theo chiều giảm dần của bán kính**"
   ]
  },
  {
   "cell_type": "code",
   "execution_count": 41,
   "id": "059b2d6c",
   "metadata": {},
   "outputs": [
    {
     "name": "stdout",
     "output_type": "stream",
     "text": [
      "r = 31, s = 3017.54\n",
      "r = 58, s = 10562.960000000001\n",
      "r = 43, s = 5805.860000000001\n",
      "r = 76, s = 18136.64\n",
      "r = 65, s = 13266.5\n",
      "r = 96, s = 28938.239999999998\n",
      "r = 60, s = 11304.0\n",
      "r = 100, s = 31400.0\n",
      "r = 69, s = 14949.539999999999\n",
      "r = 98, s = 30156.56\n"
     ]
    }
   ],
   "source": [
    "import random\n",
    "circles = []\n",
    "for i in range(100):\n",
    "    r = random.randint(1,100)\n",
    "    c = Circle(r)\n",
    "    circles.append(c)\n",
    "for i in circles[:10]:\n",
    "    i.display()\n"
   ]
  },
  {
   "cell_type": "code",
   "execution_count": 43,
   "id": "b148b348",
   "metadata": {},
   "outputs": [
    {
     "name": "stdout",
     "output_type": "stream",
     "text": [
      "Bán kính lớn nhất: 100\n",
      "Bán kính nhỏ nhất: 1\n"
     ]
    }
   ],
   "source": [
    "r_min = 101\n",
    "r_max = 0\n",
    "for i in circles:\n",
    "    if i.r > r_max:\n",
    "        r_max = i.r\n",
    "    if i.r < r_min:\n",
    "        r_min = i.r\n",
    "print('Bán kính lớn nhất:', r_max)\n",
    "print('Bán kính nhỏ nhất:', r_min)"
   ]
  },
  {
   "cell_type": "code",
   "execution_count": 44,
   "id": "91e99df0",
   "metadata": {},
   "outputs": [],
   "source": [
    "sorted_circle = sorted(circles, key = lambda x:x.r, reverse=True)"
   ]
  },
  {
   "cell_type": "code",
   "execution_count": 45,
   "id": "7aca548c",
   "metadata": {},
   "outputs": [
    {
     "name": "stdout",
     "output_type": "stream",
     "text": [
      "r = 31, s = 3017.54\n",
      "r = 58, s = 10562.960000000001\n",
      "r = 43, s = 5805.860000000001\n",
      "r = 76, s = 18136.64\n",
      "r = 65, s = 13266.5\n",
      "r = 96, s = 28938.239999999998\n",
      "r = 60, s = 11304.0\n",
      "r = 100, s = 31400.0\n",
      "r = 69, s = 14949.539999999999\n",
      "r = 98, s = 30156.56\n"
     ]
    }
   ],
   "source": [
    "for i in circles[:10]:\n",
    "    i.display()"
   ]
  },
  {
   "cell_type": "code",
   "execution_count": 46,
   "id": "a52c4810",
   "metadata": {},
   "outputs": [
    {
     "name": "stdout",
     "output_type": "stream",
     "text": [
      "r = 31, s = 3017.54\n",
      "r = 58, s = 10562.960000000001\n",
      "r = 43, s = 5805.860000000001\n",
      "r = 76, s = 18136.64\n",
      "r = 65, s = 13266.5\n",
      "r = 96, s = 28938.239999999998\n",
      "r = 60, s = 11304.0\n",
      "r = 100, s = 31400.0\n",
      "r = 69, s = 14949.539999999999\n",
      "r = 98, s = 30156.56\n"
     ]
    }
   ],
   "source": [
    "sorted_circle = sorted(circles, key = lambda x:x.r, reverse=False)\n",
    "for i in circles[:10]:\n",
    "    i.display()"
   ]
  },
  {
   "cell_type": "markdown",
   "id": "3a19beae",
   "metadata": {},
   "source": [
    "**Khởi tạo 100 hình tam giác. Tìm hình tam giác có chu vi lớn nhất, tam giác có diện tích lớn nhất**"
   ]
  },
  {
   "cell_type": "code",
   "execution_count": 47,
   "id": "a62dc423",
   "metadata": {},
   "outputs": [],
   "source": [
    "class tam_giac:\n",
    "    #Hàm khởi tạo\n",
    "    def __init__(self,a,b,c):\n",
    "        self.a = a\n",
    "        self.b = b\n",
    "        self.c = c\n",
    "    def is_tam_giac(self):\n",
    "        if(a+b>c) or (a+c>b) or (b+c>a):\n",
    "            print('Không phải là tam giác')\n",
    "    def chu_vi(self):\n",
    "        return a+b+c\n",
    "    def dien_tich(self):\n",
    "        nua_chu_vi = self.chuvi()/2\n",
    "        return (nua_chu_vi*(nua_chu_vi-a)*(nua_chu_vi-b)*(nua_chu_vi-c))**0.5          "
   ]
  },
  {
   "cell_type": "code",
   "execution_count": 48,
   "id": "44f37abd",
   "metadata": {},
   "outputs": [
    {
     "name": "stdout",
     "output_type": "stream",
     "text": [
      "40 37 5\n"
     ]
    }
   ],
   "source": [
    "import random\n",
    "tamgiac = []\n",
    "for i in range(100):\n",
    "    a = random.randint(1,100)\n",
    "    b = random.randint(1,100)\n",
    "    c = random.randint(1,100)\n",
    "print(a, b, c)"
   ]
  },
  {
   "cell_type": "code",
   "execution_count": 4,
   "id": "740f7769",
   "metadata": {},
   "outputs": [],
   "source": [
    "class Triangle:\n",
    "    def __int__(self, a, b, c):\n",
    "        self.a = a\n",
    "        self.b = b\n",
    "        self.c = c\n",
    "    def check(self):\n",
    "        return True if self.a+self.b>self.c and self.a+self.c>self.b and self.b+self.c>self.a else False\n",
    "    def display(self):\n",
    "        print(f'({self.a}, {self.b}, {self.c})')"
   ]
  },
  {
   "cell_type": "code",
   "execution_count": 5,
   "id": "4149cc6c",
   "metadata": {},
   "outputs": [
    {
     "ename": "TypeError",
     "evalue": "Triangle() takes no arguments",
     "output_type": "error",
     "traceback": [
      "\u001b[1;31m---------------------------------------------------------------------------\u001b[0m",
      "\u001b[1;31mTypeError\u001b[0m                                 Traceback (most recent call last)",
      "\u001b[1;32m~\\AppData\\Local\\Temp\\ipykernel_11428\\1169668916.py\u001b[0m in \u001b[0;36m<module>\u001b[1;34m\u001b[0m\n\u001b[0;32m      6\u001b[0m     \u001b[0mb\u001b[0m \u001b[1;33m=\u001b[0m \u001b[0mrandom\u001b[0m\u001b[1;33m.\u001b[0m\u001b[0mrandint\u001b[0m\u001b[1;33m(\u001b[0m\u001b[1;36m1\u001b[0m\u001b[1;33m,\u001b[0m\u001b[1;36m100\u001b[0m\u001b[1;33m)\u001b[0m\u001b[1;33m\u001b[0m\u001b[1;33m\u001b[0m\u001b[0m\n\u001b[0;32m      7\u001b[0m     \u001b[0mc\u001b[0m \u001b[1;33m=\u001b[0m \u001b[0mrandom\u001b[0m\u001b[1;33m.\u001b[0m\u001b[0mrandint\u001b[0m\u001b[1;33m(\u001b[0m\u001b[1;36m1\u001b[0m\u001b[1;33m,\u001b[0m\u001b[1;36m100\u001b[0m\u001b[1;33m)\u001b[0m\u001b[1;33m\u001b[0m\u001b[1;33m\u001b[0m\u001b[0m\n\u001b[1;32m----> 8\u001b[1;33m     \u001b[0mtr\u001b[0m \u001b[1;33m=\u001b[0m \u001b[0mTriangle\u001b[0m\u001b[1;33m(\u001b[0m\u001b[0ma\u001b[0m\u001b[1;33m,\u001b[0m\u001b[0mb\u001b[0m\u001b[1;33m,\u001b[0m\u001b[0mc\u001b[0m\u001b[1;33m)\u001b[0m\u001b[1;33m\u001b[0m\u001b[1;33m\u001b[0m\u001b[0m\n\u001b[0m\u001b[0;32m      9\u001b[0m     \u001b[1;32mif\u001b[0m \u001b[0mtr\u001b[0m\u001b[1;33m.\u001b[0m\u001b[0mcheck\u001b[0m\u001b[1;33m(\u001b[0m\u001b[1;33m)\u001b[0m\u001b[1;33m:\u001b[0m\u001b[1;33m\u001b[0m\u001b[1;33m\u001b[0m\u001b[0m\n\u001b[0;32m     10\u001b[0m         \u001b[0mtrs\u001b[0m\u001b[1;33m.\u001b[0m\u001b[0mappend\u001b[0m\u001b[1;33m(\u001b[0m\u001b[0mtr\u001b[0m\u001b[1;33m)\u001b[0m\u001b[1;33m\u001b[0m\u001b[1;33m\u001b[0m\u001b[0m\n",
      "\u001b[1;31mTypeError\u001b[0m: Triangle() takes no arguments"
     ]
    }
   ],
   "source": [
    "import random\n",
    "trs = []\n",
    "i = 0\n",
    "while True:\n",
    "    a = random.randint(1,100)\n",
    "    b = random.randint(1,100)\n",
    "    c = random.randint(1,100)\n",
    "    tr = Triangle(a,b,c)\n",
    "    if tr.check():\n",
    "        trs.append(tr)\n",
    "        i+=1\n",
    "    if i==100:\n",
    "        break\n",
    "for i in trs:\n",
    "    i.display()\n",
    "        "
   ]
  },
  {
   "cell_type": "markdown",
   "id": "79000e65",
   "metadata": {},
   "source": [
    "**VIết một phần mềm quản lý các con vật trong vườn bách thú**"
   ]
  },
  {
   "cell_type": "code",
   "execution_count": null,
   "id": "91f09251",
   "metadata": {},
   "outputs": [],
   "source": [
    "##Được biết trong vườn bác thú có Hổ, Voi, Chim: Bồ câu, Cò trắng, Trăn, Hà mã"
   ]
  },
  {
   "cell_type": "code",
   "execution_count": 46,
   "id": "ce885e38",
   "metadata": {},
   "outputs": [],
   "source": [
    "class Animal:\n",
    "    def __init__(self, name, color, food, place):\n",
    "        self.name = name\n",
    "        self.color = color\n",
    "        self.food = food\n",
    "        self.place = place\n",
    "    def info(self):\n",
    "        print('Tên = ', self.name)\n",
    "        print('Màu = ', self.color)\n",
    "        print('Thức ăn = ', self.food)\n",
    "        print('Khu nuôi dưỡng = ', self.place)"
   ]
  },
  {
   "cell_type": "code",
   "execution_count": 53,
   "id": "88edcf96",
   "metadata": {},
   "outputs": [],
   "source": [
    "class Bird(Animal):\n",
    "    def __init__(self, name, color, food, place, eggtime):\n",
    "        super().__init__(name, color, food, place)\n",
    "        self.eggtime = eggtime\n",
    "    \n",
    "    def produceEgg(self):\n",
    "        print('Có thể đẻ trứng')\n",
    "    def infor(self):\n",
    "        super().info()\n",
    "        print('Thời gian đẻ trứng = ', self.eggtime)\n",
    "        "
   ]
  },
  {
   "cell_type": "code",
   "execution_count": 54,
   "id": "654db68f",
   "metadata": {},
   "outputs": [
    {
     "name": "stdout",
     "output_type": "stream",
     "text": [
      "Tên =  Có trắng\n",
      "Màu =  Trắng\n",
      "Thức ăn =  Cá\n",
      "Khu nuôi dưỡng =  Khu B\n",
      "Thời gian đẻ trứng =  1 năm / 1\n"
     ]
    }
   ],
   "source": [
    "bird = Bird('Có trắng', 'Trắng', 'Cá', 'Khu B', '1 năm / 1')\n",
    "bird.infor()"
   ]
  },
  {
   "cell_type": "code",
   "execution_count": 77,
   "id": "978d3163",
   "metadata": {},
   "outputs": [],
   "source": [
    "class Reptile(Animal):\n",
    "    def __init__(self, name, color, food, place, length):\n",
    "        super().__init__(name, color, food, place)\n",
    "        #self.eggtime = eggtime\n",
    "        self.length = length\n",
    "        \n",
    "    def inform(self):\n",
    "        super().info()\n",
    "        #print('Thời gian đẻ trứng= ', self.eegtime)\n",
    "        print('Chiều dài = ', self.length)"
   ]
  },
  {
   "cell_type": "code",
   "execution_count": 78,
   "id": "f9c81ddf",
   "metadata": {},
   "outputs": [
    {
     "name": "stdout",
     "output_type": "stream",
     "text": [
      "Tên =  Trăn nam mỹ\n",
      "Màu =  Đen\n",
      "Thức ăn =  Thịt\n",
      "Khu nuôi dưỡng =  Khu C\n",
      "Chiều dài =  5 mét\n"
     ]
    }
   ],
   "source": [
    "reptile = Reptile('Trăn nam mỹ', 'Đen', 'Thịt', 'Khu C', '5 mét')\n",
    "reptile.inform()"
   ]
  },
  {
   "cell_type": "markdown",
   "id": "63ef86fe",
   "metadata": {},
   "source": [
    "**Định nghĩa lớp hình tròn gồm thuộc tính r. Định nghĩa lớp hình trụ kế thừa từ hình tròn với thuộc tính bổ sung là h. Nhập vào một list ngẫu nhiên gồm hình tròn và hình trụ. Tính diện tích hình tròn và diện tích xung quanh của hình trụ**"
   ]
  },
  {
   "cell_type": "markdown",
   "id": "9f963aad",
   "metadata": {},
   "source": [
    "class Circle:\n",
    "    def __init__(self, r):\n",
    "        self.r = r\n",
    "    def info(self):\n",
    "        print('Bán kính = ', self.r)\n",
    "    def area_cir(self):\n",
    "        print('Hình tròn có diện tích là: ', self.r * 3.14)"
   ]
  },
  {
   "cell_type": "markdown",
   "id": "afea41bf",
   "metadata": {},
   "source": [
    "class Cylinder(Circle):\n",
    "    def __init__(self, r, h):\n",
    "        super().__init__(r)\n",
    "        self.h = h\n",
    "    def infor(self):\n",
    "        super().info()\n",
    "        print('Chiều cao = ', self.h)\n",
    "    def area_cyl(self):\n",
    "        print('Hình trụ có diện tích là: ', 2*area_)"
   ]
  },
  {
   "cell_type": "code",
   "execution_count": 92,
   "id": "3390567d",
   "metadata": {},
   "outputs": [
    {
     "name": "stdout",
     "output_type": "stream",
     "text": [
      "Bán kính =  3\n",
      "Chiều cao =  5\n"
     ]
    }
   ],
   "source": [
    "cylinder = Cylinder(3, 5)\n",
    "cylinder.infor()"
   ]
  },
  {
   "cell_type": "code",
   "execution_count": 114,
   "id": "bc1af029",
   "metadata": {},
   "outputs": [],
   "source": [
    "class HinhTron:\n",
    "    def __init__(self, r):\n",
    "        self.r = r\n",
    "    def s(self):\n",
    "        return 3.14*self.r*self.r\n",
    "    def __str__(self):\n",
    "        return f'Hình tròn: (r = {self.r}, s = {self.s()})'\n",
    "\n",
    "class HinhTru(HinhTron):\n",
    "    def __init__(self, r, h):\n",
    "        super().__init__(r)\n",
    "        self.h = h\n",
    "    def s(self):\n",
    "        return super().s() * self.h\n",
    "    def __str__(self):\n",
    "        return f'Hình trụ: (r = {self.r}, h = {self.h}, s = {self.s()})'"
   ]
  },
  {
   "cell_type": "code",
   "execution_count": 115,
   "id": "fd00e19d",
   "metadata": {},
   "outputs": [],
   "source": [
    "import random"
   ]
  },
  {
   "cell_type": "code",
   "execution_count": 116,
   "id": "eb4f85ff",
   "metadata": {},
   "outputs": [
    {
     "name": "stdout",
     "output_type": "stream",
     "text": [
      "Nhập số lượng hình: 20\n",
      "Hình trụ: (r = 99, h = 52, s = 1600307.2800000003)\n",
      "Hình tròn: (r = 22, s = 1519.76)\n",
      "Hình tròn: (r = 71, s = 15828.74)\n",
      "Hình tròn: (r = 36, s = 4069.44)\n",
      "Hình trụ: (r = 42, h = 74, s = 409883.04)\n",
      "Hình trụ: (r = 49, h = 53, s = 399574.42000000004)\n",
      "Hình tròn: (r = 65, s = 13266.5)\n",
      "Hình trụ: (r = 95, h = 92, s = 2607142.0)\n",
      "Hình tròn: (r = 63, s = 12462.660000000002)\n",
      "Hình tròn: (r = 92, s = 26576.96)\n",
      "Hình tròn: (r = 30, s = 2826.0)\n",
      "Hình trụ: (r = 90, h = 56, s = 1424304.0000000002)\n",
      "Hình tròn: (r = 91, s = 26002.34)\n",
      "Hình trụ: (r = 74, h = 98, s = 1685074.72)\n",
      "Hình trụ: (r = 35, h = 68, s = 261562.0)\n",
      "Hình trụ: (r = 56, h = 94, s = 925621.7600000001)\n",
      "Hình tròn: (r = 34, s = 3629.84)\n",
      "Hình trụ: (r = 41, h = 59, s = 311422.06)\n",
      "Hình tròn: (r = 73, s = 16733.06)\n",
      "Hình tròn: (r = 73, s = 16733.06)\n"
     ]
    }
   ],
   "source": [
    "n = int(input('Nhập số lượng hình: '))\n",
    "mylist = []\n",
    "for i in range(n):\n",
    "    choice = random.randint(1,10)\n",
    "    if choice <=5:\n",
    "        r = random.randint(20, 100)\n",
    "        mylist.append(HinhTron(r))\n",
    "    else:\n",
    "        r = random.randint(20, 100)\n",
    "        h = random.randint(20, 100)\n",
    "        mylist.append(HinhTru(r, h))\n",
    "for h in mylist:\n",
    "    print(str(h))"
   ]
  },
  {
   "cell_type": "code",
   "execution_count": 106,
   "id": "24f8b014",
   "metadata": {},
   "outputs": [
    {
     "name": "stdout",
     "output_type": "stream",
     "text": [
      "Hình tròn: (r = 10)\n"
     ]
    }
   ],
   "source": [
    "ht = HinhTron(10)\n",
    "print(repr(ht))"
   ]
  },
  {
   "cell_type": "code",
   "execution_count": null,
   "id": "a409ad38",
   "metadata": {},
   "outputs": [],
   "source": []
  },
  {
   "cell_type": "code",
   "execution_count": null,
   "id": "e275fad1",
   "metadata": {},
   "outputs": [],
   "source": []
  },
  {
   "cell_type": "code",
   "execution_count": null,
   "id": "784c45c4",
   "metadata": {},
   "outputs": [],
   "source": []
  },
  {
   "cell_type": "code",
   "execution_count": null,
   "id": "88575125",
   "metadata": {},
   "outputs": [],
   "source": []
  }
 ],
 "metadata": {
  "kernelspec": {
   "display_name": "Python 3 (ipykernel)",
   "language": "python",
   "name": "python3"
  },
  "language_info": {
   "codemirror_mode": {
    "name": "ipython",
    "version": 3
   },
   "file_extension": ".py",
   "mimetype": "text/x-python",
   "name": "python",
   "nbconvert_exporter": "python",
   "pygments_lexer": "ipython3",
   "version": "3.9.13"
  }
 },
 "nbformat": 4,
 "nbformat_minor": 5
}
