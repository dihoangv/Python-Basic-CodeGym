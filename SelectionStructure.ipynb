{
 "cells": [
  {
   "cell_type": "markdown",
   "id": "a9f8f996",
   "metadata": {},
   "source": [
    "**Ví dụ IF**"
   ]
  },
  {
   "cell_type": "code",
   "execution_count": null,
   "id": "1ccee57c",
   "metadata": {},
   "outputs": [],
   "source": [
    "failure = 0"
   ]
  },
  {
   "cell_type": "code",
   "execution_count": 5,
   "id": "8665044c",
   "metadata": {},
   "outputs": [
    {
     "name": "stdout",
     "output_type": "stream",
     "text": [
      "Enter the password: ádsasd\n",
      "Your infor is sent successfully\n",
      "Your registration is done\n"
     ]
    }
   ],
   "source": [
    "password = input('Enter the password: ')\n",
    "if len(password) < 6:\n",
    "    print(f' Length of the password = {len(password)}')\n",
    "    print('Error: The password contains least 6 character!')\n",
    "    print('Try again ...')\n",
    "    failure += 1\n",
    "    if failure == 3:\n",
    "        print('You failed 3 times, Try again after 20 seconds...')\n",
    "        failure = 0\n",
    "else:\n",
    "    print('Your infor is sent successfully')\n",
    "    print('Your registration is done')\n",
    "    location = input('Your localtion: ')\n",
    "    if location.upper() == 'VIETNAM':\n",
    "        print('Welcome, Vietnamese')\n",
    "        print('Your localtion is fully our support')\n",
    "    else:\n",
    "        print('You localtion is limited of our support')"
   ]
  },
  {
   "cell_type": "markdown",
   "id": "4bc16eb0",
   "metadata": {},
   "source": [
    "**Ví dụ về elif**"
   ]
  },
  {
   "cell_type": "code",
   "execution_count": 9,
   "id": "03c5c816",
   "metadata": {},
   "outputs": [
    {
     "name": "stdout",
     "output_type": "stream",
     "text": [
      "How is the weather today: rainy\n",
      "Stay at home, no any plan\n"
     ]
    }
   ],
   "source": [
    "weather = input('How is the weather today: ')\n",
    "if weather.lower() == 'sunny':\n",
    "    print('My plan is going to play football')\n",
    "elif weather.lower() == 'cloudy':\n",
    "    print('My plan is going to play table tennis')\n",
    "elif weather.lower() == 'rainy':\n",
    "    print('Stay at home, no any plan')\n",
    "else:\n",
    "    print('Your input is incorrect...')"
   ]
  },
  {
   "cell_type": "code",
   "execution_count": 10,
   "id": "0f358d34",
   "metadata": {
    "scrolled": true
   },
   "outputs": [
    {
     "ename": "SyntaxError",
     "evalue": "f-string: invalid syntax (2476540035.py, line 4)",
     "output_type": "error",
     "traceback": [
      "\u001b[1;36m  File \u001b[1;32m\"C:\\Users\\dihoangv\\AppData\\Local\\Temp\\ipykernel_14188\\2476540035.py\"\u001b[1;36m, line \u001b[1;32m4\u001b[0m\n\u001b[1;33m    print(f'{number1} is the max, {number 2} is the min')\u001b[0m\n\u001b[1;37m        ^\u001b[0m\n\u001b[1;31mSyntaxError\u001b[0m\u001b[1;31m:\u001b[0m f-string: invalid syntax\n"
     ]
    }
   ],
   "source": [
    "number1 = int(input('Enter the first number: '))\n",
    "number2 = int(input('Enter the first number: '))\n",
    "if number1 > number2:\n",
    "    print(f'{number1} is the max, {number 2} is the min')\n",
    "else:\n",
    "    print(f'{number1} is the min, {number 2} is the max')"
   ]
  },
  {
   "cell_type": "code",
   "execution_count": 11,
   "id": "45207af3",
   "metadata": {
    "scrolled": true
   },
   "outputs": [
    {
     "name": "stdout",
     "output_type": "stream",
     "text": [
      "Enter the first number: 6\n",
      "Enter the first number: 5\n",
      "6\n"
     ]
    }
   ],
   "source": [
    "number1 = int(input('Enter the first number: '))\n",
    "number2 = int(input('Enter the first number: '))\n",
    "_max = number1 if number1 > number2 else number2 if number2 > number1 else number1\n",
    "print(_max)"
   ]
  },
  {
   "cell_type": "code",
   "execution_count": 9,
   "id": "395243b0",
   "metadata": {},
   "outputs": [
    {
     "name": "stdout",
     "output_type": "stream",
     "text": [
      "Enter the first number: 3\n",
      "Enter the second number: 4\n",
      "Enter the third number: 6\n",
      "Max = 6\n"
     ]
    }
   ],
   "source": [
    "number1 = int(input('Enter the first number: '))\n",
    "number2 = int(input('Enter the second number: '))\n",
    "number3 = int(input('Enter the third number: '))\n",
    "max_ = number1 if number1 > number2 and number1 > number3 else number2 if number2 > number3 else number3\n",
    "print('Max =',max_)"
   ]
  },
  {
   "cell_type": "markdown",
   "id": "67a16679",
   "metadata": {},
   "source": [
    "# **BÀI TẬP**"
   ]
  },
  {
   "cell_type": "markdown",
   "id": "d1a59e7a",
   "metadata": {},
   "source": [
    "### **Bài 1. Nhập 1 số tự nhiên từ 0-6, nếu 0 in ra thứ 2, 1 in ra thứ 3, cứ như thế, 6 thì in chủ nhật. Ngoài phạm vi 0-6 in ra là lỗi nhập dữ liệu đầu vào**"
   ]
  },
  {
   "cell_type": "code",
   "execution_count": 4,
   "id": "c825c1d3",
   "metadata": {},
   "outputs": [
    {
     "name": "stdout",
     "output_type": "stream",
     "text": [
      "Input number 0-6: 9\n",
      "Input number incorrect!!!\n"
     ]
    }
   ],
   "source": [
    "num = int(input(\"Input number 0-6: \"))\n",
    "mon = 'Monday'\n",
    "tue = 'Tuesday'\n",
    "wed = 'Wednesday'\n",
    "thu = 'Thurday'\n",
    "fri = 'Friday'\n",
    "sat = 'Saturday'\n",
    "sun = 'Sunday'\n",
    "incorrect = 'Input number incorrect!!!'\n",
    "weekday = mon if num==0 else tue if num==1 else wed if num==2 else thu if num==3 else fri if num==4 else sat if num==5 else sun if num==6 else incorrect\n",
    "print(weekday)"
   ]
  },
  {
   "cell_type": "markdown",
   "id": "8c1082a6",
   "metadata": {},
   "source": [
    "### **Bài 2. Viết phần mềm tính giá tiền điện của các hộ người dùng. Biết giá cước tiền điện từ năm 2021 được tính như sau: Dưới 50 số thì giá cước là 1678đ/1 số, từ số 51 đến số 100 với 1734 đ/số, từ 101 đến 200 với 2014đ/số, từ 201 đến 300 với 2536đ/số, từ 301 đến 400 với 2834đ/số, từ 401 trở đi với 2927đ/số. Nhập vào số điện tiêu dùng trong tháng của một hộ gia đình. Tính số tiền phải đóng trong tháng đó căn cứ vào giá cước ở trên.**"
   ]
  },
  {
   "cell_type": "code",
   "execution_count": 6,
   "id": "5dfd5483",
   "metadata": {},
   "outputs": [
    {
     "name": "stdout",
     "output_type": "stream",
     "text": [
      "Nhập vào chỉ số tiêu thụ điện: 100\n",
      "Số tiền phải đóng là: 170600.0 đ\n"
     ]
    }
   ],
   "source": [
    "kwh = float(input('Nhập vào chỉ số tiêu thụ điện: '))\n",
    "level1 = 1678\n",
    "level2 = 1734\n",
    "level3 = 2014\n",
    "level4 = 2536\n",
    "level5 = 2834\n",
    "level6 = 2927\n",
    "\n",
    "if (kwh<=50):\n",
    "    m = kwh*level1\n",
    "elif(50<kwh<=100):\n",
    "    m = 50*level1+(kwh-50)*level2\n",
    "elif(100<kwh<=200):\n",
    "    m = 50*level1+50*level2+(kwh-100)*level3\n",
    "elif(200<kwh<=300):\n",
    "    m = 50*level1+50*level2+100*level3+(kwh-200)*level4\n",
    "elif(300<kwh<=400):\n",
    "    m = 50*level1+50*level2+100*level3+100*level4+(kwh-300)*level5\n",
    "else:\n",
    "    m = 50*level1+50*level2+100*level3+100*level4+100*level5+(kwh-400)*level6\n",
    "    \n",
    "print('Số tiền phải đóng là:', m,'đ')   "
   ]
  },
  {
   "cell_type": "markdown",
   "id": "419b681d",
   "metadata": {},
   "source": [
    "### **Bài 3. Nhập a, b, c là hệ số của một đa thức bậc 2. In ra phương trình bậc 2 dưới dạng chuẩn (dạng chuẩn có nghĩa là tự nhiên như khi viết tay đa thức ra giấy hoặc bảng). Các hệ số 1, -1 thì không in hệ số, 0 thì không in bậc đó. Ví dụ: a = 1, b = -3, c= 0 thì in ra là x^2 – 3x.**"
   ]
  },
  {
   "cell_type": "code",
   "execution_count": 33,
   "id": "93bb95b0",
   "metadata": {},
   "outputs": [
    {
     "name": "stdout",
     "output_type": "stream",
     "text": [
      "Nhập hệ số a: 1\n",
      "Nhập hệ số b: 2\n",
      "Nhập hệ số c: 3\n",
      "Phương trình bậc 2 có dạng: x^2+2x+3=0\n"
     ]
    }
   ],
   "source": [
    "a = input('Nhập hệ số a: ')\n",
    "b = input('Nhập hệ số b: ')\n",
    "c = input('Nhập hệ số c: ')\n",
    "\n",
    "hs_a = 'x^2' if a=='1' else '-x^2' if a=='-1' else \"\" if a=='0' else a+'x^2'\n",
    "hs_b = 'x' if b=='1' else '-x' if b=='-1' else \"\" if b=='0' else b+'x'\n",
    "hs_b = '+'+hs_b if (hs_b[0:1] !='-' and b!='0' and a!='0') else hs_b\n",
    "hs_c = \"\" if c=='0' else c\n",
    "hs_c = '+'+hs_c if (hs_c[0:1] !='-' and c!='0' and b!='0') else hs_c\n",
    "\n",
    "#print('Phương trình bậc 2 có dạng:',hs_a+hs_b+hs_c)\n",
    "\n",
    "if(a!='0'):\n",
    "    print('Phương trình bậc 2 có dạng:',hs_a+hs_b+hs_c+'=0')\n",
    "elif(a=='0' and b!='0'):\n",
    "    print('Phương trình bậc nhất có dạng:',hs_b+hs_c+'=0')\n",
    "else:\n",
    "    print('Số bạn nhập vào không thoả mãn điều kiện tạo thành phương trình')"
   ]
  },
  {
   "cell_type": "code",
   "execution_count": null,
   "id": "7d8f6246",
   "metadata": {},
   "outputs": [],
   "source": [
    "a = int(input('Nhập a: '))\n",
    "b = int(input('Nhập b: '))\n",
    "c = int(input('Nhập c: '))\n",
    "\n",
    "hsa = f' {a}x^2' if a<-1 or a>1 else '-x^2' if a==-1 else 'x^2' if a==1 else ''\n",
    "hsa = f' {b}x' if b<-1 else '-x' if b==-1 else '' if b==0 else '+x' if b==1 else f'+{b}x'\n",
    "hsc = f'{c}' if c<0 else '' if c==0 else f'+{c}'\n",
    "\n",
    "print(f'{hsa}{hsb}{hsc}')"
   ]
  },
  {
   "cell_type": "code",
   "execution_count": null,
   "id": "756ec783",
   "metadata": {},
   "outputs": [],
   "source": [
    "\n",
    "\n",
    "\n"
   ]
  },
  {
   "cell_type": "code",
   "execution_count": null,
   "id": "3342aa66",
   "metadata": {},
   "outputs": [],
   "source": []
  },
  {
   "cell_type": "code",
   "execution_count": null,
   "id": "effd79bc",
   "metadata": {},
   "outputs": [],
   "source": []
  },
  {
   "cell_type": "code",
   "execution_count": null,
   "id": "42b93fc9",
   "metadata": {},
   "outputs": [],
   "source": []
  },
  {
   "cell_type": "code",
   "execution_count": null,
   "id": "fac6b485",
   "metadata": {},
   "outputs": [],
   "source": []
  },
  {
   "cell_type": "code",
   "execution_count": null,
   "id": "81502c95",
   "metadata": {},
   "outputs": [],
   "source": []
  },
  {
   "cell_type": "code",
   "execution_count": 8,
   "id": "d432f39f",
   "metadata": {},
   "outputs": [
    {
     "name": "stdout",
     "output_type": "stream",
     "text": [
      "Nhập điểm Toán: 8\n",
      "Nhập điểm Lý: 9\n",
      "Nhập điểm Hoá: 7\n",
      "Điểm tổng kết: 8.0 Xếp loại B+ Khá giỏi\n"
     ]
    }
   ],
   "source": [
    "toan = float(input('Nhập điểm Toán: '))\n",
    "ly = float(input('Nhập điểm Lý: '))\n",
    "hoa = float(input('Nhập điểm Hoá: '))\n",
    "tongket = (toan*2 + ly + hoa)/4\n",
    "\n",
    "if(8.4<tongket<=10):\n",
    "    print('Điểm tổng kết:', tongket,'Xếp loại A Giỏi')\n",
    "elif(7.9<tongket<=8.4):\n",
    "    print('Điểm tổng kết:', tongket,'Xếp loại B+ Khá giỏi')\n",
    "elif(6.9<tongket<=7.9):\n",
    "    print('Điểm tổng kết:', tongket,'Xếp loại B Khá')\n",
    "elif(6.4<tongket<=6.9):\n",
    "    print('Điểm tổng kết:', tongket,'Xếp loại C+ Trung bình khá')\n",
    "elif(5.4<tongket<=6.4):\n",
    "    print('Điểm tổng kết:', tongket,'Xếp loại C Trung bình') \n",
    "elif(4.9<tongket<=5.4):\n",
    "    print('Điểm tổng kết:', tongket,'Xếp loại D+ Trung bình yếu')\n",
    "elif(3.9<tongket<=4.9):\n",
    "    print('Điểm tổng kết:', tongket,'Xếp loại D Yếu')\n",
    "else:\n",
    "    print('Điểm tổng kết:', tongket,'Xếp loại F Kém')"
   ]
  },
  {
   "cell_type": "code",
   "execution_count": null,
   "id": "9dfcea01",
   "metadata": {},
   "outputs": [],
   "source": []
  },
  {
   "cell_type": "code",
   "execution_count": null,
   "id": "7dd85568",
   "metadata": {},
   "outputs": [],
   "source": []
  },
  {
   "cell_type": "code",
   "execution_count": null,
   "id": "c094ea12",
   "metadata": {},
   "outputs": [],
   "source": [
    "toan = float(input('Nhập điểm Toán: '))\n",
    "ly = float(input('Nhập điểm Lý: '))\n",
    "hoa = float(input('Nhập điểm Hoá: '))\n",
    "tb = (toan*2 + ly + hoa)/4\n",
    "\n",
    "if 0<=tb<10 or 0<=toan<10 or 0<=ly<10 or 0<=hoa<10\n",
    "    print('Nhập liệu lỗi')\n",
    "elif tb>=8.5:\n",
    "    print('A: Giỏi')\n",
    "elif tb>=8:\n",
    "    print('B+: Khá Giỏi')"
   ]
  },
  {
   "cell_type": "code",
   "execution_count": null,
   "id": "34039ea2",
   "metadata": {},
   "outputs": [],
   "source": []
  },
  {
   "cell_type": "code",
   "execution_count": null,
   "id": "8fe311b3",
   "metadata": {},
   "outputs": [],
   "source": []
  },
  {
   "cell_type": "code",
   "execution_count": null,
   "id": "4102de70",
   "metadata": {},
   "outputs": [],
   "source": [
    "\n"
   ]
  },
  {
   "cell_type": "code",
   "execution_count": null,
   "id": "b728ba2b",
   "metadata": {},
   "outputs": [],
   "source": []
  },
  {
   "cell_type": "code",
   "execution_count": null,
   "id": "5047b35c",
   "metadata": {},
   "outputs": [],
   "source": []
  },
  {
   "cell_type": "code",
   "execution_count": null,
   "id": "715adfee",
   "metadata": {},
   "outputs": [],
   "source": []
  },
  {
   "cell_type": "code",
   "execution_count": null,
   "id": "71212d9f",
   "metadata": {},
   "outputs": [],
   "source": []
  },
  {
   "cell_type": "code",
   "execution_count": null,
   "id": "0f1a2ed0",
   "metadata": {},
   "outputs": [],
   "source": []
  },
  {
   "cell_type": "code",
   "execution_count": null,
   "id": "616cd713",
   "metadata": {},
   "outputs": [],
   "source": []
  },
  {
   "cell_type": "code",
   "execution_count": null,
   "id": "24a2c26d",
   "metadata": {},
   "outputs": [],
   "source": []
  },
  {
   "cell_type": "code",
   "execution_count": 28,
   "id": "f970fc35",
   "metadata": {},
   "outputs": [
    {
     "name": "stdout",
     "output_type": "stream",
     "text": [
      "Quét vào mã vạch:47224532125\n",
      "Không phải mã vạch\n"
     ]
    }
   ],
   "source": [
    "code = input('Quét vào mã vạch: ')\n",
    "l_code = len(code)\n",
    "if l_code != 13:\n",
    "    print('Không phải mã vạch')\n",
    "else:\n",
    "    C = int(code[-1])\n",
    "    A = int(code[0])+int(code[2])+int(code[4])+int(code[6])+int(code[8])+int(code[10])\n",
    "    B = int(code[1])+int(code[3])+int(code[5])+int(code[7])+int(code[9])+int(code[11])\n",
    "    D = A+3*B\n",
    "    F = 10-D%10 if D%10 != 0 else 0\n",
    "    status = \"Mã vạch đúng\" if F==C else \"Mã vạch sai\"\n",
    "    print(status)"
   ]
  },
  {
   "cell_type": "code",
   "execution_count": null,
   "id": "3a0896e8",
   "metadata": {},
   "outputs": [],
   "source": []
  },
  {
   "cell_type": "code",
   "execution_count": null,
   "id": "5d758638",
   "metadata": {},
   "outputs": [],
   "source": []
  },
  {
   "cell_type": "code",
   "execution_count": null,
   "id": "f16ba941",
   "metadata": {},
   "outputs": [],
   "source": []
  },
  {
   "cell_type": "code",
   "execution_count": null,
   "id": "7f366038",
   "metadata": {},
   "outputs": [],
   "source": []
  },
  {
   "cell_type": "code",
   "execution_count": null,
   "id": "c59ee20d",
   "metadata": {},
   "outputs": [],
   "source": []
  },
  {
   "cell_type": "code",
   "execution_count": null,
   "id": "1ca346b8",
   "metadata": {},
   "outputs": [],
   "source": []
  },
  {
   "cell_type": "code",
   "execution_count": null,
   "id": "277f9130",
   "metadata": {},
   "outputs": [],
   "source": []
  },
  {
   "cell_type": "code",
   "execution_count": null,
   "id": "96c14963",
   "metadata": {},
   "outputs": [],
   "source": []
  },
  {
   "cell_type": "code",
   "execution_count": null,
   "id": "0cabb85f",
   "metadata": {},
   "outputs": [],
   "source": []
  },
  {
   "cell_type": "code",
   "execution_count": null,
   "id": "40729859",
   "metadata": {},
   "outputs": [],
   "source": []
  }
 ],
 "metadata": {
  "kernelspec": {
   "display_name": "Python 3 (ipykernel)",
   "language": "python",
   "name": "python3"
  },
  "language_info": {
   "codemirror_mode": {
    "name": "ipython",
    "version": 3
   },
   "file_extension": ".py",
   "mimetype": "text/x-python",
   "name": "python",
   "nbconvert_exporter": "python",
   "pygments_lexer": "ipython3",
   "version": "3.9.13"
  }
 },
 "nbformat": 4,
 "nbformat_minor": 5
}
