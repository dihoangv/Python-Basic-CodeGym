{
 "cells": [
  {
   "cell_type": "code",
   "execution_count": 3,
   "id": "b9dbfb0b",
   "metadata": {},
   "outputs": [
    {
     "name": "stdout",
     "output_type": "stream",
     "text": [
      "Nhập giá trị độ C muốn chuyển đổi:25\n",
      "Giá trị chuyển đổi sang độ F là: 77.0\n"
     ]
    }
   ],
   "source": [
    "temp_c = float(input(\"Nhập giá trị độ C muốn chuyển đổi:\"))\n",
    "temp_f = (temp_c*1.8)+32\n",
    "print(\"Giá trị chuyển đổi sang độ F là:\",temp_f)"
   ]
  },
  {
   "cell_type": "code",
   "execution_count": null,
   "id": "29e21a8c",
   "metadata": {},
   "outputs": [],
   "source": []
  }
 ],
 "metadata": {
  "kernelspec": {
   "display_name": "Python 3 (ipykernel)",
   "language": "python",
   "name": "python3"
  },
  "language_info": {
   "codemirror_mode": {
    "name": "ipython",
    "version": 3
   },
   "file_extension": ".py",
   "mimetype": "text/x-python",
   "name": "python",
   "nbconvert_exporter": "python",
   "pygments_lexer": "ipython3",
   "version": "3.9.13"
  }
 },
 "nbformat": 4,
 "nbformat_minor": 5
}
