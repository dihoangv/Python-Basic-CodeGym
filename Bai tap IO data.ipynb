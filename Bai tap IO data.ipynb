{
 "cells": [
  {
   "cell_type": "markdown",
   "id": "a02cf142",
   "metadata": {},
   "source": [
    "**1. Nhập vào họ tên của một người (Giả sử chỉ có 3 chữ). In họ tên người đó ra màn hình dưới dạng chuẩn: Không có ký tự trắng thừa ở đầu, cuối và giữa các chữ, chữ cái đầu mỗi từ viết hoa còn lại viết thường. Ví dụ nhập NgUYỄn VăN bÌNH thì kết quả là Nguyễn Văn Bình.**"
   ]
  },
  {
   "cell_type": "code",
   "execution_count": 16,
   "id": "2bdef5b7",
   "metadata": {},
   "outputs": [
    {
     "name": "stdout",
     "output_type": "stream",
     "text": [
      "Nhập vào họ tên: NgUYỄn VăN bÌNH \n",
      "Nguyễn Văn Bình\n"
     ]
    }
   ],
   "source": [
    "name = input(\"Nhập vào họ tên: \")\n",
    "\n",
    "name = name.strip()\n",
    "name = name.title()\n",
    "print(name)"
   ]
  },
  {
   "cell_type": "code",
   "execution_count": 21,
   "id": "74ecc341",
   "metadata": {},
   "outputs": [
    {
     "name": "stdout",
     "output_type": "stream",
     "text": [
      "Nhập vào họ tên: NgUYỄn VăN bÌNH  \n",
      "Nguyễn Văn Bình\n"
     ]
    }
   ],
   "source": [
    "name = input(\"Nhập vào họ tên: \")\n",
    "\n",
    "name = name.strip()\n",
    "name = name.split()\n",
    "f_name = name[0].capitalize()\n",
    "m_name = name[1].capitalize()\n",
    "l_name = name[2].capitalize()\n",
    "print(f_name, m_name, l_name)"
   ]
  },
  {
   "cell_type": "markdown",
   "id": "c8b1ae82",
   "metadata": {},
   "source": [
    "**2. Nhập vào một chuỗi bất kì từ bàn phím. Kiểm tra chuỗi đó có chứa nguyên âm hay không? (Chỉ in ra True hoặc False). Có bao nhiêu nguyên âm, bao nhiêu ký tự là chữ số?**"
   ]
  },
  {
   "cell_type": "code",
   "execution_count": 57,
   "id": "3cf516fc",
   "metadata": {},
   "outputs": [
    {
     "name": "stdout",
     "output_type": "stream",
     "text": [
      "Nhập vào một chuỗi ký tự:121fffffff\n",
      "Chuỗi 121fffffff có chứa nguyên âm: False\n",
      "Chuỗi 121fffffff có chứa 0 nguyên âm\n",
      "Chuỗi 121fffffff có chứa 3 ký tự số\n"
     ]
    }
   ],
   "source": [
    "s = input(\"Nhập vào một chuỗi ký tự:\")\n",
    "\n",
    "chuoi = s.lower()\n",
    "\n",
    "ktra = (\"a\" in chuoi) or (\"e\" in chuoi) or (\"i\" in chuoi) or (\"o\" in chuoi) or (\"u\" in chuoi)\n",
    "print(f\"Chuỗi {s} có chứa nguyên âm: {ktra}\")\n",
    "\n",
    "dem_ng_am = chuoi.count(\"a\") + chuoi.count(\"e\") + chuoi.count(\"i\") + chuoi.count(\"o\") + chuoi.count(\"u\")\n",
    "print(f\"Chuỗi {s} có chứa {dem_ng_am} nguyên âm\")\n",
    "\n",
    "dem_so = chuoi.count(\"0\") + chuoi.count(\"1\") + chuoi.count(\"2\") + chuoi.count(\"3\") + chuoi.count(\"4\") + chuoi.count(\"5\") + chuoi.count(\"6\") + chuoi.count(\"7\") + chuoi.count(\"8\") + chuoi.count(\"9\")\n",
    "print(f\"Chuỗi {s} có chứa {dem_so} ký tự số\")"
   ]
  },
  {
   "cell_type": "markdown",
   "id": "baec3d8a",
   "metadata": {},
   "source": [
    "**3. Nhập vào một chuỗi gồm các chữ cái và chữ số. Tính tổng các chữ số chẵn, lẻ trong chuỗi.**"
   ]
  },
  {
   "cell_type": "code",
   "execution_count": null,
   "id": "4cc2aa3c",
   "metadata": {},
   "outputs": [],
   "source": [
    "strings = input(\"Nhập vào một chuỗi:\")"
   ]
  }
 ],
 "metadata": {
  "kernelspec": {
   "display_name": "Python 3 (ipykernel)",
   "language": "python",
   "name": "python3"
  },
  "language_info": {
   "codemirror_mode": {
    "name": "ipython",
    "version": 3
   },
   "file_extension": ".py",
   "mimetype": "text/x-python",
   "name": "python",
   "nbconvert_exporter": "python",
   "pygments_lexer": "ipython3",
   "version": "3.9.13"
  }
 },
 "nbformat": 4,
 "nbformat_minor": 5
}
