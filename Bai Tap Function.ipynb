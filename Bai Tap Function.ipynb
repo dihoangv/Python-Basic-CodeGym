{
 "cells": [
  {
   "cell_type": "markdown",
   "id": "e14b7ef8",
   "metadata": {},
   "source": [
    "**1. Nhập vào họ tên của một người (Giả sử chỉ có 3 chữ). In họ tên người đó ra màn hình dưới dạng chuẩn: Không có ký tự trắng thừa ở đầu, cuối và giữa các chữ, chữ cái đầu mỗi từ viết hoa còn lại viết thường. Ví dụ nhập NgUYỄn VăN bÌNH thì kết quả là Nguyễn Văn Bình.**"
   ]
  },
  {
   "cell_type": "code",
   "execution_count": 4,
   "id": "51be2913",
   "metadata": {},
   "outputs": [],
   "source": [
    "def input_name(name):\n",
    "\n",
    "    name = name.strip()\n",
    "    name = name.split()\n",
    "    f_name = name[0].capitalize()\n",
    "    m_name = name[1].capitalize()\n",
    "    l_name = name[2].capitalize()\n",
    "    full_name = f'{f_name} {m_name} {l_name}'\n",
    "    return (full_name)\n"
   ]
  },
  {
   "cell_type": "code",
   "execution_count": 6,
   "id": "fa2763eb",
   "metadata": {},
   "outputs": [
    {
     "name": "stdout",
     "output_type": "stream",
     "text": [
      "Hoàng Văn Điển\n"
     ]
    }
   ],
   "source": [
    "n_ = input_name('Hoàng      vĂn đIỂN')\n",
    "print(n_)"
   ]
  },
  {
   "cell_type": "code",
   "execution_count": 7,
   "id": "9b74e2ab",
   "metadata": {},
   "outputs": [],
   "source": [
    "def print_name(fullname):\n",
    "\n",
    "    fullname = fullname.strip()\n",
    "    words = fullname.split()\n",
    "    firstname = words[0]\n",
    "    firstname = firstname[0].upper() + firstname[1:].lower()\n",
    "    middlename = words[1]\n",
    "    middlename = middlename[0].upper() + middlename[1:].lower()\n",
    "    lastname = words[2]\n",
    "    lastname = lastname[0].upper() + lastname[1:].lower()\n",
    "    std_name = f'{firstname} {middlename} {lastname}'\n",
    "    return(std_name)"
   ]
  },
  {
   "cell_type": "code",
   "execution_count": 8,
   "id": "d6ab2a27",
   "metadata": {},
   "outputs": [
    {
     "name": "stdout",
     "output_type": "stream",
     "text": [
      "NgUYễn      VĂn      BÌnH\n",
      "Nguyễn Văn Bình\n"
     ]
    }
   ],
   "source": [
    "name = print_name(\"NgUYễn      VĂn      BÌnH\")\n",
    "print(name)"
   ]
  },
  {
   "cell_type": "markdown",
   "id": "29cd9c65",
   "metadata": {},
   "source": [
    "**2. Nhập vào một chuỗi bất kì từ bàn phím. Kiểm tra chuỗi đó có chứa nguyên âm hay không? (Chỉ in ra True hoặc False). Có bao nhiêu nguyên âm, bao nhiêu ký tự là chữ số?**"
   ]
  },
  {
   "cell_type": "code",
   "execution_count": 7,
   "id": "1e83a710",
   "metadata": {},
   "outputs": [],
   "source": [
    "def check_str(s):\n",
    "\n",
    "    chuoi = s.lower()\n",
    "\n",
    "    ktra = (\"a\" in chuoi) or (\"e\" in chuoi) or (\"i\" in chuoi) or (\"o\" in chuoi) or (\"u\" in chuoi)\n",
    "#    print(f\"Chuỗi {s} có chứa nguyên âm: {ktra}\")\n",
    "\n",
    "    dem_ng_am = chuoi.count(\"a\") + chuoi.count(\"e\") + chuoi.count(\"i\") + chuoi.count(\"o\") + chuoi.count(\"u\")\n",
    "#    print(f\"Chuỗi {s} có chứa {dem_ng_am} nguyên âm\")\n",
    "\n",
    "    dem_so = chuoi.count(\"0\") + chuoi.count(\"1\") + chuoi.count(\"2\") + chuoi.count(\"3\") + chuoi.count(\"4\") + chuoi.count(\"5\") + chuoi.count(\"6\") + chuoi.count(\"7\") + chuoi.count(\"8\") + chuoi.count(\"9\")\n",
    "#    print(f\"Chuỗi {s} có chứa {dem_so} ký tự số\")\n",
    "    return(f\"\"\"\n",
    "    Chuỗi {s} có chứa nguyên âm: {ktra} \n",
    "    Chuỗi {s} có chứa {dem_ng_am} nguyên âm \n",
    "    Chuỗi {s} có chứa {dem_so} ký tự số\n",
    "    \"\"\")"
   ]
  },
  {
   "cell_type": "code",
   "execution_count": 8,
   "id": "f805abfb",
   "metadata": {},
   "outputs": [
    {
     "name": "stdout",
     "output_type": "stream",
     "text": [
      "\n",
      "    Chuỗi 3424jsdhsj sjskdjdj dss a eid  có chứa nguyên âm: True \n",
      "    Chuỗi 3424jsdhsj sjskdjdj dss a eid  có chứa 3 nguyên âm \n",
      "    Chuỗi 3424jsdhsj sjskdjdj dss a eid  có chứa 4 ký tự số\n",
      "    \n"
     ]
    }
   ],
   "source": [
    "strings = check_str(\"3424jsdhsj sjskdjdj dss a eid \")\n",
    "print(strings)"
   ]
  },
  {
   "cell_type": "markdown",
   "id": "023927d5",
   "metadata": {},
   "source": [
    "**Bài 1. Nhập 1 số tự nhiên từ 0-6, nếu 0 in ra thứ 2, 1 in ra thứ 3, cứ như thế, 6 thì in chủ nhật. Ngoài phạm vi 0-6 in ra là lỗi nhập dữ liệu đầu vào**\n"
   ]
  },
  {
   "cell_type": "code",
   "execution_count": 9,
   "id": "34c8bd4f",
   "metadata": {},
   "outputs": [],
   "source": [
    "def print_days(number):\n",
    "    num = int(number)\n",
    "    mon = 'Monday'\n",
    "    tue = 'Tuesday'\n",
    "    wed = 'Wednesday'\n",
    "    thu = 'Thurday'\n",
    "    fri = 'Friday'\n",
    "    sat = 'Saturday'\n",
    "    sun = 'Sunday'\n",
    "    incorrect = 'Input number incorrect!!!'\n",
    "    weekday = mon if num==0 else tue if num==1 else wed if num==2 else thu if num==3 else fri if num==4 else sat if num==5 else sun if num==6 else incorrect\n",
    "    return(weekday)"
   ]
  },
  {
   "cell_type": "code",
   "execution_count": 13,
   "id": "af36f5ee",
   "metadata": {},
   "outputs": [
    {
     "name": "stdout",
     "output_type": "stream",
     "text": [
      "Saturday\n"
     ]
    }
   ],
   "source": [
    "days = print_days(5)\n",
    "print(days)"
   ]
  },
  {
   "cell_type": "markdown",
   "id": "e068671f",
   "metadata": {},
   "source": [
    "**Bài 2. Viết phần mềm tính giá tiền điện của các hộ người dùng. Biết giá cước tiền điện từ năm 2021 được tính như sau: Dưới 50 số thì giá cước là 1678đ/1 số, từ số 51 đến số 100 với 1734 đ/số, từ 101 đến 200 với 2014đ/số, từ 201 đến 300 với 2536đ/số, từ 301 đến 400 với 2834đ/số, từ 401 trở đi với 2927đ/số. Nhập vào số điện tiêu dùng trong tháng của một hộ gia đình. Tính số tiền phải đóng trong tháng đó căn cứ vào giá cước ở trên.**"
   ]
  },
  {
   "cell_type": "code",
   "execution_count": 19,
   "id": "f2f79fb8",
   "metadata": {},
   "outputs": [],
   "source": [
    "def tieu_thu_dien(so_kwh):\n",
    "    kwh = float(so_kwh)\n",
    "    level1 = 1678\n",
    "    level2 = 1734\n",
    "    level3 = 2014\n",
    "    level4 = 2536\n",
    "    level5 = 2834\n",
    "    level6 = 2927\n",
    "\n",
    "    if (kwh<=50):\n",
    "        m = kwh*level1\n",
    "    elif(50<kwh<=100):\n",
    "        m = 50*level1+(kwh-50)*level2\n",
    "    elif(100<kwh<=200):\n",
    "        m = 50*level1+50*level2+(kwh-100)*level3\n",
    "    elif(200<kwh<=300):\n",
    "        m = 50*level1+50*level2+100*level3+(kwh-200)*level4\n",
    "    elif(300<kwh<=400):\n",
    "        m = 50*level1+50*level2+100*level3+100*level4+(kwh-300)*level5\n",
    "    else:\n",
    "        m = 50*level1+50*level2+100*level3+100*level4+100*level5+(kwh-400)*level6\n",
    "\n",
    "    return(f'Số tiền phải đóng là: {m} đ') "
   ]
  },
  {
   "cell_type": "code",
   "execution_count": 20,
   "id": "79229515",
   "metadata": {},
   "outputs": [
    {
     "name": "stdout",
     "output_type": "stream",
     "text": [
      "Số tiền phải đóng là: 1304145.0 đ\n"
     ]
    }
   ],
   "source": [
    "money = tieu_thu_dien('535')\n",
    "print(money)"
   ]
  },
  {
   "cell_type": "markdown",
   "id": "bcea45aa",
   "metadata": {},
   "source": [
    "**Bài 3. Nhập a, b, c là hệ số của một đa thức bậc 2. In ra phương trình bậc 2 dưới dạng chuẩn (dạng chuẩn có nghĩa là tự nhiên như khi viết tay đa thức ra giấy hoặc bảng). Các hệ số 1, -1 thì không in hệ số, 0 thì không in bậc đó. Ví dụ: a = 1, b = -3, c= 0 thì in ra là x^2 – 3x.**"
   ]
  },
  {
   "cell_type": "code",
   "execution_count": 33,
   "id": "5cbf9e06",
   "metadata": {},
   "outputs": [],
   "source": [
    "def in_ptb2(a,b,c):\n",
    "    hs_a = 'x^2' if a=='1' else '-x^2' if a=='-1' else \"\" if a=='0' else a+'x^2'\n",
    "    hs_b = 'x' if b=='1' else '-x' if b=='-1' else \"\" if b=='0' else b+'x'\n",
    "    hs_b = '+'+hs_b if (hs_b[0:1] !='-' and b!='0' and a!='0') else hs_b\n",
    "    hs_c = \"\" if c=='0' else c\n",
    "    hs_c = '+'+hs_c if (hs_c[0:1] !='-' and c!='0' and b!='0') else hs_c\n",
    "    return(hs_a+hs_b+hs_c)"
   ]
  },
  {
   "cell_type": "code",
   "execution_count": 34,
   "id": "19135475",
   "metadata": {},
   "outputs": [
    {
     "name": "stdout",
     "output_type": "stream",
     "text": [
      "x^2-2x-4\n"
     ]
    }
   ],
   "source": [
    "ptr = in_ptb2('1','-2','-4')\n",
    "print(ptr)"
   ]
  },
  {
   "cell_type": "markdown",
   "id": "7490ac3d",
   "metadata": {},
   "source": [
    "**Bài1. Nhập vào một số tự nhiên N. In ra màn hình tất cả các ước của N**"
   ]
  },
  {
   "cell_type": "code",
   "execution_count": 44,
   "id": "a0d55217",
   "metadata": {},
   "outputs": [],
   "source": [
    "def tim_uoc(n):\n",
    "    for i in range(1,n+1):\n",
    "        if n%i == 0:\n"
   ]
  },
  {
   "cell_type": "code",
   "execution_count": 41,
   "id": "20eca796",
   "metadata": {},
   "outputs": [
    {
     "name": "stdout",
     "output_type": "stream",
     "text": [
      "1\n"
     ]
    }
   ],
   "source": []
  },
  {
   "cell_type": "markdown",
   "id": "ff09ebd2",
   "metadata": {},
   "source": [
    "**Bài2. Nhập vào một số tự nhiên N. Tính giai thừa của số đó?**"
   ]
  },
  {
   "cell_type": "code",
   "execution_count": 53,
   "id": "75af1e0a",
   "metadata": {},
   "outputs": [],
   "source": [
    "def tinh_gthua(n):\n",
    "    giai_thua = 1\n",
    "    if (n==0 or n==1):\n",
    "        giai_thua = 1\n",
    "    else:\n",
    "        for i in range(2,n+1):\n",
    "            giai_thua = giai_thua * i\n",
    "    return(giai_thua)"
   ]
  },
  {
   "cell_type": "code",
   "execution_count": 56,
   "id": "30d3d995",
   "metadata": {},
   "outputs": [
    {
     "name": "stdout",
     "output_type": "stream",
     "text": [
      "120\n"
     ]
    }
   ],
   "source": [
    "gthua = tinh_gthua(5)\n",
    "print(gthua)"
   ]
  },
  {
   "cell_type": "markdown",
   "id": "cb640fa4",
   "metadata": {},
   "source": [
    "**Bài3. Trong các phần mềm quản lý nhân sự, chức năng tìm kiếm thông tin nhân sự thông qua tên của nhân viên là một chức năng quan trọng của phần mềm. Chức năng có khả năng tìm kiếm khi người dùng nhập vào tên tiếng Việt có dấu hoặc kể cả không có dấu. Để làm điều đó, khi nhập vào dữ liệu là tiếng Việt có dấu được chuyển sang dữ liệu tiếng Việt không có dấu. Viết chương trình chuyển tiếng Việt có dấu sang tiếng Việt không có dấu. Ví dụ: Nhập vào là \"Nguyễn văn bình\" thì kết quả là \"Nguyen van binh\".**"
   ]
  },
  {
   "cell_type": "code",
   "execution_count": 57,
   "id": "227b850f",
   "metadata": {},
   "outputs": [],
   "source": [
    "def change_name(name):\n",
    "    new_name = \"\"\n",
    "    for i in name:\n",
    "        if i in \"àáạảãâầấậẩẫăằắặẳẵ\":\n",
    "            new_name += \"a\"\n",
    "        elif i in \"ÀÁẠẢÃĂẰẮẶẲẴÂẦẤẬẨẪ\":\n",
    "            new_name += \"A\"\n",
    "        elif i in \"èéẹẻẽêềếệểễ\":\n",
    "            new_name += \"e\"        \n",
    "        elif i in \"ÈÉẸẺẼÊỀẾỆỂỄ\":\n",
    "            new_name += \"E\"     \n",
    "        elif i in \"òóọỏõôồốộổỗơờớợởỡ\":\n",
    "            new_name += \"o\"     \n",
    "        elif i in \"ÒÓỌỎÕÔỒỐỘỔỖƠỜỚỢỞỠ\":\n",
    "            new_name += \"O\"   \n",
    "        elif i in \"ìíịỉĩ\":\n",
    "            new_name += \"i\"     \n",
    "        elif i in \"ÌÍỊỈĨ\":\n",
    "            new_name += \"I\" \n",
    "        elif i in \"ùúụủũưừứựửữ\":\n",
    "            new_name += \"u\"         \n",
    "        elif i in \"ƯỪỨỰỬỮÙÚỤỦŨ\":\n",
    "            new_name += \"U\"         \n",
    "        elif i in \"ỳýỵỷỹ\":\n",
    "            new_name += \"y\"  \n",
    "        elif i in \"ỲÝỴỶỸ\":\n",
    "            new_name += \"Y\"          \n",
    "        elif i in \"đ\":\n",
    "            new_name += \"d\"          \n",
    "        elif i in \"Đ\":\n",
    "            new_name += \"D\"           \n",
    "        else:\n",
    "            new_name += i\n",
    "    return(new_name)"
   ]
  },
  {
   "cell_type": "code",
   "execution_count": 58,
   "id": "824eaf91",
   "metadata": {},
   "outputs": [
    {
     "name": "stdout",
     "output_type": "stream",
     "text": [
      "Hoang Van Dien\n"
     ]
    }
   ],
   "source": [
    "txt_name = change_name('Hoàng Văn Điển')\n",
    "print(txt_name)"
   ]
  },
  {
   "cell_type": "code",
   "execution_count": null,
   "id": "13f96112",
   "metadata": {},
   "outputs": [],
   "source": []
  }
 ],
 "metadata": {
  "kernelspec": {
   "display_name": "Python 3 (ipykernel)",
   "language": "python",
   "name": "python3"
  },
  "language_info": {
   "codemirror_mode": {
    "name": "ipython",
    "version": 3
   },
   "file_extension": ".py",
   "mimetype": "text/x-python",
   "name": "python",
   "nbconvert_exporter": "python",
   "pygments_lexer": "ipython3",
   "version": "3.9.13"
  }
 },
 "nbformat": 4,
 "nbformat_minor": 5
}
