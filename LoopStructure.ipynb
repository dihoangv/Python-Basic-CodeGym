{
 "cells": [
  {
   "cell_type": "markdown",
   "id": "98b73b49",
   "metadata": {},
   "source": [
    "**While**"
   ]
  },
  {
   "cell_type": "code",
   "execution_count": null,
   "id": "3f5192a2",
   "metadata": {},
   "outputs": [],
   "source": [
    "i = 1\n",
    "while i<=100:\n",
    "    print('Hello world!', end=' ')\n",
    "    i+=1\n",
    "print('Stop at step: ', i)"
   ]
  },
  {
   "cell_type": "markdown",
   "id": "4f04a931",
   "metadata": {},
   "source": [
    "**Tính tổng từ 1 đến n, với n nhập vào từ bàn phím**"
   ]
  },
  {
   "cell_type": "code",
   "execution_count": null,
   "id": "904bf6d2",
   "metadata": {},
   "outputs": [],
   "source": [
    "n = int(input('Nhập n: '))\n",
    "i = 1\n",
    "_sum = 0\n",
    "while i<=n:\n",
    "    _sum +=i\n",
    "    print(f'Bước {i} có tổng = {_sum}')\n",
    "    i+=1\n",
    "\n",
    "print('Tổng = ', _sum)"
   ]
  },
  {
   "cell_type": "markdown",
   "id": "76b60c21",
   "metadata": {},
   "source": [
    "**In ra màn hình các số chia hết cho 3 trong phạm vi 100**"
   ]
  },
  {
   "cell_type": "code",
   "execution_count": null,
   "id": "cb1db259",
   "metadata": {},
   "outputs": [],
   "source": [
    "i = 1\n",
    "n = 100\n",
    "while i<=n:\n",
    "    if (i%3)==0:\n",
    "        print(f'Số chia hết cho 3 là: {i}')\n",
    "    i+=1"
   ]
  },
  {
   "cell_type": "markdown",
   "id": "0992516c",
   "metadata": {},
   "source": [
    "**Nhập n với 2<=n<=9. In ra bảng cửu chương của n**"
   ]
  },
  {
   "cell_type": "code",
   "execution_count": null,
   "id": "090be54c",
   "metadata": {},
   "outputs": [],
   "source": [
    "n = int(input('Nhập vào n: '))\n",
    "if (2<=n<=9):\n",
    "    i=1\n",
    "    while(i<=9):\n",
    "        print(f'{n} * {i} = {n*i}')\n",
    "        i+=1"
   ]
  },
  {
   "cell_type": "markdown",
   "id": "90fe5dcc",
   "metadata": {},
   "source": [
    "**Nhập một số tự nhiên n. In ra hình dưới đây.**"
   ]
  },
  {
   "cell_type": "code",
   "execution_count": null,
   "id": "4d822f1c",
   "metadata": {},
   "outputs": [],
   "source": [
    "n = int(input('Nhập vào n: '))\n",
    "i = n\n",
    "while n>0:\n",
    "    print('*'*n)\n",
    "    n-=1"
   ]
  },
  {
   "cell_type": "code",
   "execution_count": null,
   "id": "ac7eab6e",
   "metadata": {},
   "outputs": [],
   "source": [
    "n = 5\n",
    "  *\n",
    " ***\n",
    "*****\n",
    " ***\n",
    "  *"
   ]
  },
  {
   "cell_type": "code",
   "execution_count": null,
   "id": "9779bed7",
   "metadata": {
    "scrolled": true
   },
   "outputs": [],
   "source": [
    "n = 5 #int(input(\"Nhập vào số n: \"))\n",
    "i = 0\n",
    "while i < n-2:\n",
    "  j = 0\n",
    "  while j < n-i-1:\n",
    "    print(\" \", end=\"\")\n",
    "    j += 1\n",
    "  k = 0\n",
    "  while k < 2*i+1:\n",
    "    print(\"*\", end=\"\")\n",
    "    k += 1\n",
    "  print()\n",
    "  i += 1\n",
    "\n"
   ]
  },
  {
   "cell_type": "markdown",
   "id": "573dab24",
   "metadata": {},
   "source": [
    "\n",
    "n = 5\n",
    "  *\n",
    "\n",
    " ***\n",
    "\n",
    "*****\n",
    "\n",
    " ***\n",
    "\n",
    "  *\n",
    " "
   ]
  },
  {
   "cell_type": "markdown",
   "id": "8001a334",
   "metadata": {},
   "source": [
    "**Viết một phần mềm thuật toán (luyện phép toán cộng). Khi chạy chương trình, sẽ hiện thị phép tính và yêu cầu người dùng nhập kết quả, chương trình đánh giá kết quả nhập vào là sai hay đúng và hỏi người dùng có tiếp tục hay không. Nếu người dùng nhập 'Y' hoặc 'y' thì tiếp tục hiển thị phép tính mới. Cứ lặp lại như thế cho đến khi người dùng nhập ký tự 'Q' hoặc 'q' thì kết thúc chương trình**"
   ]
  },
  {
   "cell_type": "code",
   "execution_count": null,
   "id": "918df052",
   "metadata": {},
   "outputs": [],
   "source": [
    "import random\n",
    "lua_chon = 'Y'\n",
    "while lua_chon.upper() == 'Y':\n",
    "    a = random.randint(0, 100)\n",
    "    b = random.randint(0, 100)\n",
    "    print(f'{a} + {b} = ?')  \n",
    "    tra_loi = int(input('Nhập vào kết quả: '))\n",
    "    if tra_loi == a + b:\n",
    "        print('Bạn đã trả lời đúng!')\n",
    "    else:\n",
    "        print('Bạn đã trả lời sai!')\n",
    "    lua_chon = input('Bạn có muốn tiếp tục không? (Y/Q): ')\n",
    "print('Kết thúc chương trình!')"
   ]
  },
  {
   "cell_type": "markdown",
   "id": "bab99145",
   "metadata": {},
   "source": [
    "# ** FOR IN STRUCTURE**"
   ]
  },
  {
   "cell_type": "code",
   "execution_count": null,
   "id": "ad7b3444",
   "metadata": {},
   "outputs": [],
   "source": [
    "text = 'Python programing'\n",
    "for i in text:\n",
    "    print(i)"
   ]
  },
  {
   "cell_type": "code",
   "execution_count": null,
   "id": "999d18bd",
   "metadata": {},
   "outputs": [],
   "source": [
    "fruits = [\"Mango\", \"Chery\", \"Apple\", \"Lemon\"]\n",
    "for i in fruits:\n",
    "    print(i)"
   ]
  },
  {
   "cell_type": "code",
   "execution_count": null,
   "id": "3cc5d46b",
   "metadata": {},
   "outputs": [],
   "source": [
    "text = 'Python programing'\n",
    "count = 0\n",
    "for i in text:\n",
    "    if i.upper() in \"UEOAI\":\n",
    "        count+=1\n",
    "print(\"Số lượng nguyên âm:\", count)"
   ]
  },
  {
   "cell_type": "markdown",
   "id": "b0359d03",
   "metadata": {},
   "source": [
    "**Nhập vào một chuỗi gồm các chữ số. Tính tổng các chữ số ở trong chuỗi**"
   ]
  },
  {
   "cell_type": "code",
   "execution_count": null,
   "id": "b7d55a73",
   "metadata": {},
   "outputs": [],
   "source": [
    "numbers = input('Nhập chuỗi: ')\n",
    "_sum = 0\n",
    "for i in numbers:\n",
    "    _sum += int(i)\n",
    "print('Tổng chuỗi là:', _sum)"
   ]
  },
  {
   "cell_type": "code",
   "execution_count": null,
   "id": "67d90394",
   "metadata": {},
   "outputs": [],
   "source": [
    "for i in range(10):\n",
    "    print (i)"
   ]
  },
  {
   "cell_type": "markdown",
   "id": "e7c7d513",
   "metadata": {},
   "source": [
    "**Dùng for in range in ra bảng cửu chương n, với n nhập từ bàn phím**"
   ]
  },
  {
   "cell_type": "code",
   "execution_count": null,
   "id": "786c1d78",
   "metadata": {},
   "outputs": [],
   "source": [
    "n = int(input('Nhập vào n = '))\n",
    "for i in range(1,10,1):\n",
    "    print(f'{n} * {i} = {n*i}')"
   ]
  },
  {
   "cell_type": "markdown",
   "id": "f0f5227a",
   "metadata": {},
   "source": [
    "**Nhập n và m từ bàn phím in bản cửu chương từ n đến m**"
   ]
  },
  {
   "cell_type": "code",
   "execution_count": null,
   "id": "40259f18",
   "metadata": {},
   "outputs": [],
   "source": [
    "n = 1\n",
    "m = 5\n",
    "for i in range(1,10,1):\n",
    "    for j in range(n,m+1,1):\n",
    "        print(f'{j} * {i} = {i*j}', end='\\t')\n",
    "    print()\n",
    "    "
   ]
  },
  {
   "cell_type": "code",
   "execution_count": null,
   "id": "a4ad1492",
   "metadata": {},
   "outputs": [],
   "source": [
    "text = \"\"\"Chiều 29/3, UBND tỉnh Đồng Nai làm việc với Tổng công ty cảng hàng khồng Việt Nam (ACV)\n",
    "liên quan bụi đổ mù mịt ở dự án sân bay Long Thành, ảnh hưởng nhiều hộ dân xung quanh. \n",
    "Phó chủ tịch UBND tỉnh Đồng Nai Võ Văn Đức cho biết bụi ở dự án không chỉ tác động người\n",
    "dân huyện Long Thành mà khi có gió bay mấy chục km, đến Nhơn Trạch, Tp Biên Hoà\"\"\"\n",
    "# Hỏi trong đoạn text này có chứ từ 'Đồng Nai' không?\n",
    "words = text.split()\n",
    "exist = False\n",
    "for word in words:\n",
    "    if word.upper() == \"ĐỒNG\":\n",
    "        step += 1\n",
    "        if word.upper() == \"ĐỒNG\":\n",
    "            exist = True\n",
    "            break\n",
    "print(f'For chạy được {step} bước')\n",
    "if exist:\n",
    "    print(\"Có chứa\")\n",
    "else:\n",
    "    print(\"Không chứa\")"
   ]
  },
  {
   "cell_type": "code",
   "execution_count": null,
   "id": "40241d6a",
   "metadata": {},
   "outputs": [],
   "source": []
  },
  {
   "cell_type": "code",
   "execution_count": null,
   "id": "b924bd88",
   "metadata": {},
   "outputs": [],
   "source": [
    "**Nhập một số n. Kiểm tra số n có phải là số nguyên tố hay không?"
   ]
  },
  {
   "cell_type": "code",
   "execution_count": null,
   "id": "215d88e7",
   "metadata": {},
   "outputs": [],
   "source": [
    "n = int(input())\n",
    "if(n<2):\n",
    "    print(f'{n} không phải là số nguyên tố')\n",
    "i = 2\n",
    "for i in range(2,n,1):\n",
    "    if(i<=n/2) and (n%1!=0):\n",
    "       print(f'{n} là số nguyên tố')\n",
    "       break\n",
    "    else:\n",
    "        print(f'{n} không là số nguyên tố') "
   ]
  },
  {
   "cell_type": "code",
   "execution_count": null,
   "id": "896348fe",
   "metadata": {},
   "outputs": [],
   "source": [
    "n = int(input('Nhập một số nguyên: '))\n",
    "is_prime = True\n",
    "step = 0\n",
    "for i in range (2, n//2+1, 1):\n",
    "    step+=1\n",
    "    if n%i == 0:\n",
    "        is_primr = False\n",
    "        break\n",
    "print('Số bước chạy là:', step)\n",
    "if is_prime:\n",
    "    print(\"Là số nguyên tố\")\n",
    "else:\n",
    "    print(\"Không phải là số nguyên tố\")"
   ]
  },
  {
   "cell_type": "code",
   "execution_count": null,
   "id": "7671cdc3",
   "metadata": {},
   "outputs": [],
   "source": [
    "##Tính tổng từ 1 - 100\n",
    "_sum = 0\n",
    "for i in range(100):\n",
    "    if i%2!=0:\n",
    "        _sum+=i\n",
    "print(\"Tổng số lẻ: \", _sum)"
   ]
  },
  {
   "cell_type": "code",
   "execution_count": null,
   "id": "9747016b",
   "metadata": {},
   "outputs": [],
   "source": [
    "_sum = 0\n",
    "for i in range(100):\n",
    "    if i%2==0:\n",
    "        continue\n",
    "    _sum+=i\n",
    "print(\"Tổng số lẻ: \", _sum)"
   ]
  },
  {
   "cell_type": "markdown",
   "id": "e292af09",
   "metadata": {},
   "source": [
    "### **Bài1. Nhập vào một số tự nhiên N. In ra màn hình tất cả các ước của N**"
   ]
  },
  {
   "cell_type": "code",
   "execution_count": null,
   "id": "9bc658bf",
   "metadata": {},
   "outputs": [],
   "source": [
    "n = int(input(\"Nhập vào số tự nhiên cần tìm tất cả các ước N = \"))\n",
    "for i in range(1,n+1):\n",
    "    if n%i == 0:\n",
    "        print(i)"
   ]
  },
  {
   "cell_type": "markdown",
   "id": "ec2fce60",
   "metadata": {},
   "source": [
    "### **Bài2. Nhập vào một số tự nhiên N. Tính giai thừa của số đó?**"
   ]
  },
  {
   "cell_type": "code",
   "execution_count": null,
   "id": "5ed2f949",
   "metadata": {},
   "outputs": [],
   "source": [
    "n = int(input(\"Nhập vào số tự nhiên: \"))\n",
    "if (n==0 or n==1):\n",
    "    giai_thua = 1\n",
    "else:\n",
    "    for i in range(2,n+1):\n",
    "        giai_thua = giai_thua * i\n",
    "print(f\"Giai thừa của {n} là: {giai_thua}\")"
   ]
  },
  {
   "cell_type": "markdown",
   "id": "27e9ef3e",
   "metadata": {},
   "source": [
    "### **Bài3. Trong các phần mềm quản lý nhân sự, chức năng tìm kiếm thông tin nhân sự thông qua tên của nhân viên là một chức năng quan trọng của phần mềm. Chức năng có khả năng tìm kiếm khi người dùng nhập vào tên tiếng Việt có dấu hoặc kể cả không có dấu. Để làm điều đó, khi nhập vào dữ liệu là tiếng Việt có dấu được chuyển sang dữ liệu tiếng Việt không có dấu. Viết chương trình chuyển tiếng Việt có dấu sang tiếng Việt không có dấu. Ví dụ: Nhập vào là \"Nguyễn văn bình\" thì kết quả là \"Nguyen van binh\".**"
   ]
  },
  {
   "cell_type": "code",
   "execution_count": null,
   "id": "063dfbd1",
   "metadata": {},
   "outputs": [],
   "source": [
    "name = input(\"Nhập tên: \")\n",
    "new_name = \"\"\n",
    "for i in name:\n",
    "    if i in \"àáạảãâầấậẩẫăằắặẳẵ\":\n",
    "        new_name += \"a\"\n",
    "    elif i in \"ÀÁẠẢÃĂẰẮẶẲẴÂẦẤẬẨẪ\":\n",
    "        new_name += \"A\"\n",
    "    elif i in \"èéẹẻẽêềếệểễ\":\n",
    "        new_name += \"e\"        \n",
    "    elif i in \"ÈÉẸẺẼÊỀẾỆỂỄ\":\n",
    "        new_name += \"E\"     \n",
    "    elif i in \"òóọỏõôồốộổỗơờớợởỡ\":\n",
    "        new_name += \"o\"     \n",
    "    elif i in \"ÒÓỌỎÕÔỒỐỘỔỖƠỜỚỢỞỠ\":\n",
    "        new_name += \"O\"   \n",
    "    elif i in \"ìíịỉĩ\":\n",
    "        new_name += \"i\"     \n",
    "    elif i in \"ÌÍỊỈĨ\":\n",
    "        new_name += \"I\" \n",
    "    elif i in \"ùúụủũưừứựửữ\":\n",
    "        new_name += \"u\"         \n",
    "    elif i in \"ƯỪỨỰỬỮÙÚỤỦŨ\":\n",
    "        new_name += \"U\"         \n",
    "    elif i in \"ỳýỵỷỹ\":\n",
    "        new_name += \"y\"  \n",
    "    elif i in \"ỲÝỴỶỸ\":\n",
    "        new_name += \"Y\"          \n",
    "    elif i in \"đ\":\n",
    "        new_name += \"d\"          \n",
    "    elif i in \"Đ\":\n",
    "        new_name += \"D\"           \n",
    "    else:\n",
    "        new_name += i\n",
    "print(new_name)\n",
    "    "
   ]
  },
  {
   "cell_type": "markdown",
   "id": "3734ce64",
   "metadata": {},
   "source": [
    "### **Cho một tờ tiền mệnh giá 100 ngàn. Hỏi có bao nhiêu cách để đổi ra các mệnh giá 2 ngàn, 5 ngàn, 10 ngàn**"
   ]
  },
  {
   "cell_type": "code",
   "execution_count": 12,
   "id": "c770b24f",
   "metadata": {},
   "outputs": [
    {
     "name": "stdout",
     "output_type": "stream",
     "text": [
      "0 2000, 0 5000, 10 10 000\n",
      "0 2000, 2 5000, 9 10 000\n",
      "0 2000, 4 5000, 8 10 000\n",
      "0 2000, 6 5000, 7 10 000\n",
      "0 2000, 8 5000, 6 10 000\n",
      "0 2000, 10 5000, 5 10 000\n",
      "0 2000, 12 5000, 4 10 000\n",
      "0 2000, 14 5000, 3 10 000\n",
      "0 2000, 16 5000, 2 10 000\n",
      "0 2000, 18 5000, 1 10 000\n",
      "0 2000, 20 5000, 0 10 000\n",
      "5 2000, 0 5000, 9 10 000\n",
      "5 2000, 2 5000, 8 10 000\n",
      "5 2000, 4 5000, 7 10 000\n",
      "5 2000, 6 5000, 6 10 000\n",
      "5 2000, 8 5000, 5 10 000\n",
      "5 2000, 10 5000, 4 10 000\n",
      "5 2000, 12 5000, 3 10 000\n",
      "5 2000, 14 5000, 2 10 000\n",
      "5 2000, 16 5000, 1 10 000\n",
      "5 2000, 18 5000, 0 10 000\n",
      "10 2000, 0 5000, 8 10 000\n",
      "10 2000, 2 5000, 7 10 000\n",
      "10 2000, 4 5000, 6 10 000\n",
      "10 2000, 6 5000, 5 10 000\n",
      "10 2000, 8 5000, 4 10 000\n",
      "10 2000, 10 5000, 3 10 000\n",
      "10 2000, 12 5000, 2 10 000\n",
      "10 2000, 14 5000, 1 10 000\n",
      "10 2000, 16 5000, 0 10 000\n",
      "15 2000, 0 5000, 7 10 000\n",
      "15 2000, 2 5000, 6 10 000\n",
      "15 2000, 4 5000, 5 10 000\n",
      "15 2000, 6 5000, 4 10 000\n",
      "15 2000, 8 5000, 3 10 000\n",
      "15 2000, 10 5000, 2 10 000\n",
      "15 2000, 12 5000, 1 10 000\n",
      "15 2000, 14 5000, 0 10 000\n",
      "20 2000, 0 5000, 6 10 000\n",
      "20 2000, 2 5000, 5 10 000\n",
      "20 2000, 4 5000, 4 10 000\n",
      "20 2000, 6 5000, 3 10 000\n",
      "20 2000, 8 5000, 2 10 000\n",
      "20 2000, 10 5000, 1 10 000\n",
      "20 2000, 12 5000, 0 10 000\n",
      "25 2000, 0 5000, 5 10 000\n",
      "25 2000, 2 5000, 4 10 000\n",
      "25 2000, 4 5000, 3 10 000\n",
      "25 2000, 6 5000, 2 10 000\n",
      "25 2000, 8 5000, 1 10 000\n",
      "25 2000, 10 5000, 0 10 000\n",
      "30 2000, 0 5000, 4 10 000\n",
      "30 2000, 2 5000, 3 10 000\n",
      "30 2000, 4 5000, 2 10 000\n",
      "30 2000, 6 5000, 1 10 000\n",
      "30 2000, 8 5000, 0 10 000\n",
      "35 2000, 0 5000, 3 10 000\n",
      "35 2000, 2 5000, 2 10 000\n",
      "35 2000, 4 5000, 1 10 000\n",
      "35 2000, 6 5000, 0 10 000\n",
      "40 2000, 0 5000, 2 10 000\n",
      "40 2000, 2 5000, 1 10 000\n",
      "40 2000, 4 5000, 0 10 000\n",
      "45 2000, 0 5000, 1 10 000\n",
      "45 2000, 2 5000, 0 10 000\n",
      "50 2000, 0 5000, 0 10 000\n",
      "Có 66 cách\n"
     ]
    }
   ],
   "source": [
    "count = 0\n",
    "for i in range(51):\n",
    "    for j in range (21):\n",
    "        for q in range (11):\n",
    "            if 2*i+5*j+10*q ==100:\n",
    "                print(f'{i} 2000, {j} 5000, {q} 10 000')\n",
    "                count += 1\n",
    "print(f'Có {count} cách')"
   ]
  },
  {
   "cell_type": "markdown",
   "id": "af53aedd",
   "metadata": {},
   "source": [
    "### **Nhập vào một chuỗi gồm các số tự nhiên cách nhau một khoảng trắng. Tìm sô lớn nhất và số bé nhất trong chuỗi vừa nhập.**"
   ]
  },
  {
   "cell_type": "code",
   "execution_count": 31,
   "id": "c850c1cb",
   "metadata": {},
   "outputs": [
    {
     "name": "stdout",
     "output_type": "stream",
     "text": [
      "Max là 66\n",
      "Min là 11\n"
     ]
    }
   ],
   "source": [
    "char = \"11 22 33 44 66\" #input()\n",
    "num = char.split()\n",
    "_max = int(num[0])\n",
    "_min = int(num[0])\n",
    "for i in num:\n",
    "    if _max < int(i):\n",
    "        _max = int(i)\n",
    "    if _min > int(i):\n",
    "        _min = int(i)\n",
    "print('Max là', _max)\n",
    "print('Min là', _min)"
   ]
  },
  {
   "cell_type": "code",
   "execution_count": null,
   "id": "f033e3d4",
   "metadata": {},
   "outputs": [],
   "source": []
  },
  {
   "cell_type": "code",
   "execution_count": 50,
   "id": "b8729fcd",
   "metadata": {},
   "outputs": [
    {
     "name": "stdout",
     "output_type": "stream",
     "text": [
      "Max negative is -3\n",
      "Min positive is 1\n"
     ]
    }
   ],
   "source": [
    "char = \"1 4 -3 14 -8 10 -13\" #input()\n",
    "num = char.split()\n",
    "\n",
    "max_negative = None\n",
    "min_positive = None\n",
    "\n",
    "for i in num:\n",
    "    if int(i)<0:\n",
    "        max_negative = int(i)\n",
    "        break\n",
    "if max_negative is None:\n",
    "    print(\"Không có số âm\")\n",
    "else:\n",
    "    for i in num:\n",
    "        if int(i)<0 and int(i)>max_negative:\n",
    "            max_negative = int(i)\n",
    "    print(\"Max negative is\", max_negative)\n",
    "    \n",
    "for i in num:\n",
    "    if int(i)>0:\n",
    "        min_positive = int(i)\n",
    "        break\n",
    "if min_positive is None:\n",
    "    print(\"Không có số dương\")\n",
    "else:\n",
    "    for i in num:\n",
    "        if int(i)>0 and int(i)<min_positive:\n",
    "            min_positive = int(i)\n",
    "    print(\"Min positive is\", min_positive)"
   ]
  },
  {
   "cell_type": "markdown",
   "id": "e6be6cb1",
   "metadata": {},
   "source": [
    "### **Bài 1. Nhập một chuỗi gồm các kí tự là số. Tìm chuỗi con trong chuỗi vừa nhập là chuỗi gồm các số giảm dần dài nhất. Ví dụ nhập chuỗi '09543134247431035' thì có hai chuỗi thoả mãn là '95431' và '74310'**"
   ]
  },
  {
   "cell_type": "code",
   "execution_count": 3,
   "id": "f73741d9",
   "metadata": {},
   "outputs": [
    {
     "name": "stdout",
     "output_type": "stream",
     "text": [
      "['0', '095544331', '0', '042', '0', '074433110', '0', '0', '0', '0', '0', '0', '0', '0', '0', '0', '0']\n",
      "95431\n",
      "\n",
      "74310\n",
      "\n"
     ]
    }
   ],
   "source": [
    "a = \"09543134247431035\"\n",
    "b = \"\"\n",
    "\n",
    "for i in a:\n",
    "    b += \"0 \"\n",
    "b = b.split()\n",
    "c = 0\n",
    "\n",
    "for i in range(0,len(a)-1):\n",
    "    if(int(a[i])>=int(a[i+1])):\n",
    "        b[c] += a[i] + a[i+1]\n",
    "    else:\n",
    "        c+=1\n",
    "print(b)\n",
    "\n",
    "length = 0\n",
    "for i in b:\n",
    "    if(len(i)>= length):\n",
    "        length = len(i)\n",
    "\n",
    "for i in b:\n",
    "    if(len(i)==length):\n",
    "        for j in range(0,length-1):\n",
    "            if(int(i[j])!=int(i[j+1])):\n",
    "                print(i[j+1],end =\"\")\n",
    "        print('\\n')\n"
   ]
  },
  {
   "cell_type": "code",
   "execution_count": 7,
   "id": "cb89b225",
   "metadata": {},
   "outputs": [
    {
     "name": "stdout",
     "output_type": "stream",
     "text": [
      "|9543|543|43|3|||4|||7431|431|31|1|||\n"
     ]
    }
   ],
   "source": [
    "text = \"09543134247431035\"\n",
    "ntext = \"\"\n",
    "for i in range(len(text)-1):\n",
    "    #ntext += text[i]\n",
    "    for j in range(i+1, len(text), 1):\n",
    "        if int(text[j]<=text[j-1]):\n",
    "            ntext += text[j-1]\n",
    "        else:\n",
    "            ntext += \"|\"\n",
    "            break\n",
    "    i = j\n",
    "print(ntext)"
   ]
  },
  {
   "cell_type": "code",
   "execution_count": 16,
   "id": "242cf4f3",
   "metadata": {},
   "outputs": [
    {
     "name": "stdout",
     "output_type": "stream",
     "text": [
      "0|95431|3|42|4|74310|3|5|98764|5321\n",
      "Max =  5\n",
      "95431\t74310\t98764\t"
     ]
    }
   ],
   "source": [
    "text = \"09543134247431035987645321\"\n",
    "ntext = \"\"\n",
    "for i in range(len(text)-1):\n",
    "    ntext+=text[i]\n",
    "    if int(text[i]<text[i+1]):\n",
    "        ntext+=\"|\"\n",
    "ntext+=text[-1]\n",
    "print(ntext)\n",
    "subtext = ntext.split(\"|\")\n",
    "mlen = 0\n",
    "for st in subtext:\n",
    "    if len(st)>mlen:\n",
    "        mlen = len(st)\n",
    "print(\"Max = \", mlen)\n",
    "for st in subtext:\n",
    "    if len(st)== mlen:\n",
    "        print(st, end = \"\\t\")\n"
   ]
  },
  {
   "cell_type": "code",
   "execution_count": 1,
   "id": "d8d29dda",
   "metadata": {},
   "outputs": [],
   "source": [
    "def tach_chuoi(text):    \n",
    "    #text = \"09543134247431035987645321\"\n",
    "    ntext = \"\"\n",
    "    for i in range(len(text)-1):\n",
    "        ntext+=text[i]\n",
    "        if int(text[i]<text[i+1]):\n",
    "            ntext+=\"|\"\n",
    "    ntext+=text[-1]\n",
    "    print(ntext)\n",
    "    subtext = ntext.split(\"|\")\n",
    "    mlen = 0\n",
    "    for st in subtext:\n",
    "        if len(st)>mlen:\n",
    "            mlen = len(st)\n",
    "    print(\"Max = \", mlen)\n",
    "    for st in subtext:\n",
    "        if len(st)== mlen:\n",
    "            print(st, end = \"\\t\")\n"
   ]
  },
  {
   "cell_type": "code",
   "execution_count": 2,
   "id": "63d70deb",
   "metadata": {},
   "outputs": [
    {
     "name": "stdout",
     "output_type": "stream",
     "text": [
      "Nhập vào chuỗi: 1225455562988721216558789\n",
      "1|22|54|555|62|988721|21|655|87|8|9\n",
      "Max =  6\n",
      "988721\t"
     ]
    }
   ],
   "source": [
    "tach_chuoi(input(\"Nhập vào chuỗi: \"))"
   ]
  },
  {
   "cell_type": "code",
   "execution_count": null,
   "id": "b9cb6d5f",
   "metadata": {},
   "outputs": [],
   "source": []
  }
 ],
 "metadata": {
  "kernelspec": {
   "display_name": "Python 3 (ipykernel)",
   "language": "python",
   "name": "python3"
  },
  "language_info": {
   "codemirror_mode": {
    "name": "ipython",
    "version": 3
   },
   "file_extension": ".py",
   "mimetype": "text/x-python",
   "name": "python",
   "nbconvert_exporter": "python",
   "pygments_lexer": "ipython3",
   "version": "3.9.13"
  }
 },
 "nbformat": 4,
 "nbformat_minor": 5
}
